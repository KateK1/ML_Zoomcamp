{
 "cells": [
  {
   "cell_type": "code",
   "execution_count": 1,
   "id": "f8b33528",
   "metadata": {},
   "outputs": [],
   "source": [
    "import numpy as np\n",
    "import pandas as pd\n",
    "import matplotlib.pyplot as plt\n",
    "import seaborn as sns\n",
    "\n",
    "from sklearn.model_selection import train_test_split\n",
    "\n",
    "from sklearn.tree import DecisionTreeRegressor\n",
    "from sklearn.ensemble import RandomForestRegressor\n",
    "from sklearn.linear_model import LinearRegression\n",
    "\n",
    "from sklearn.feature_extraction import DictVectorizer\n",
    "\n",
    "#from sklearn.metrics import roc_auc_score\n",
    "from sklearn.metrics import mean_squared_error\n",
    "from sklearn.metrics import mutual_info_score\n",
    "from sklearn.metrics import normalized_mutual_info_score\n",
    "\n",
    "%matplotlib inline"
   ]
  },
  {
   "cell_type": "code",
   "execution_count": 2,
   "id": "35b9d4a4",
   "metadata": {},
   "outputs": [],
   "source": [
    "pd.set_option('display.max_rows', None)\n",
    "pd.set_option('display.max_columns', None)\n",
    "pd.set_option('max_colwidth', 50)"
   ]
  },
  {
   "cell_type": "code",
   "execution_count": 3,
   "id": "74f061cb",
   "metadata": {},
   "outputs": [
    {
     "data": {
      "text/html": [
       "<div>\n",
       "<style scoped>\n",
       "    .dataframe tbody tr th:only-of-type {\n",
       "        vertical-align: middle;\n",
       "    }\n",
       "\n",
       "    .dataframe tbody tr th {\n",
       "        vertical-align: top;\n",
       "    }\n",
       "\n",
       "    .dataframe thead th {\n",
       "        text-align: right;\n",
       "    }\n",
       "</style>\n",
       "<table border=\"1\" class=\"dataframe\">\n",
       "  <thead>\n",
       "    <tr style=\"text-align: right;\">\n",
       "      <th></th>\n",
       "      <th>Area_of_Origin</th>\n",
       "      <th>Business_Impact</th>\n",
       "      <th>Civilian_Casualties</th>\n",
       "      <th>Count_of_Persons_Rescued</th>\n",
       "      <th>Estimated_Dollar_Loss</th>\n",
       "      <th>Estimated_Number_Of_Persons_Displaced</th>\n",
       "      <th>Ext_agent_app_or_defer_time</th>\n",
       "      <th>Extent_Of_Fire</th>\n",
       "      <th>Fire_Alarm_System_Impact_on_Evacuation</th>\n",
       "      <th>Fire_Alarm_System_Operation</th>\n",
       "      <th>Fire_Alarm_System_Presence</th>\n",
       "      <th>Fire_Under_Control_Time</th>\n",
       "      <th>Ignition_Source</th>\n",
       "      <th>Incident_Station_Area</th>\n",
       "      <th>Incident_Ward</th>\n",
       "      <th>Last_TFS_Unit_Clear_Time</th>\n",
       "      <th>Latitude</th>\n",
       "      <th>Longitude</th>\n",
       "      <th>Material_First_Ignited</th>\n",
       "      <th>Method_Of_Fire_Control</th>\n",
       "      <th>Possible_Cause</th>\n",
       "      <th>Property_Use</th>\n",
       "      <th>Smoke_Alarm_at_Fire_Origin_Alarm_Failure</th>\n",
       "      <th>Smoke_Alarm_at_Fire_Origin_Alarm_Type</th>\n",
       "      <th>Status_of_Fire_On_Arrival</th>\n",
       "      <th>TFS_Alarm_Time</th>\n",
       "      <th>TFS_Arrival_Time</th>\n",
       "    </tr>\n",
       "  </thead>\n",
       "  <tbody>\n",
       "    <tr>\n",
       "      <th>0</th>\n",
       "      <td>Porch or Balcony</td>\n",
       "      <td>No business interruption</td>\n",
       "      <td>0</td>\n",
       "      <td>86</td>\n",
       "      <td>3000</td>\n",
       "      <td>0</td>\n",
       "      <td>2018-08-24T17:06:26</td>\n",
       "      <td>Confined to object of origin</td>\n",
       "      <td>Not applicable: Occupant(s) first alerted by o...</td>\n",
       "      <td>Fire alarm system did not operate</td>\n",
       "      <td>Fire alarm system present</td>\n",
       "      <td>2018-08-24T17:06:28</td>\n",
       "      <td>Undetermined</td>\n",
       "      <td>114</td>\n",
       "      <td>18.0</td>\n",
       "      <td>2018-08-24T17:42:43</td>\n",
       "      <td>43.760357</td>\n",
       "      <td>-79.412479</td>\n",
       "      <td>Undetermined (formerly 98)</td>\n",
       "      <td>Extinguished by fire department</td>\n",
       "      <td>Undetermined</td>\n",
       "      <td>Multi-Unit Dwelling - Over 12 Units</td>\n",
       "      <td>Not applicable: Alarm operated OR presence/ope...</td>\n",
       "      <td>Hardwired (standalone)</td>\n",
       "      <td>Fire with smoke showing only - including vehic...</td>\n",
       "      <td>2018-08-24T16:49:36</td>\n",
       "      <td>2018-08-24T16:54:09</td>\n",
       "    </tr>\n",
       "    <tr>\n",
       "      <th>1</th>\n",
       "      <td>Cooking Area or Kitchen</td>\n",
       "      <td>Undetermined</td>\n",
       "      <td>0</td>\n",
       "      <td>28</td>\n",
       "      <td>50000</td>\n",
       "      <td>28</td>\n",
       "      <td>2018-11-24T07:19:00</td>\n",
       "      <td>Confined to part of room/area of origin</td>\n",
       "      <td>Not applicable: Occupant(s) first alerted by o...</td>\n",
       "      <td>Fire alarm system operated</td>\n",
       "      <td>Fire alarm system present</td>\n",
       "      <td>2018-11-24T07:19:00</td>\n",
       "      <td>Other Cooking Items (eg Toaster, Kettle, elec ...</td>\n",
       "      <td>142</td>\n",
       "      <td>7.0</td>\n",
       "      <td>2018-11-24T12:45:21</td>\n",
       "      <td>43.754542</td>\n",
       "      <td>-79.530419</td>\n",
       "      <td>Plastic</td>\n",
       "      <td>Extinguished by occupant</td>\n",
       "      <td>Under Investigation</td>\n",
       "      <td>Infirmary</td>\n",
       "      <td>Not applicable: Alarm operated OR presence/ope...</td>\n",
       "      <td>Interconnected</td>\n",
       "      <td>Fire extinguished prior to arrival</td>\n",
       "      <td>2018-11-24T07:09:12</td>\n",
       "      <td>2018-11-24T07:14:23</td>\n",
       "    </tr>\n",
       "    <tr>\n",
       "      <th>2</th>\n",
       "      <td>Living Area (e.g. living, TV, recreation, etc)</td>\n",
       "      <td>Not applicable (not a business)</td>\n",
       "      <td>1</td>\n",
       "      <td>16</td>\n",
       "      <td>1000000</td>\n",
       "      <td>130</td>\n",
       "      <td>2017-02-09T18:02:13</td>\n",
       "      <td>Spread beyond room of origin, same floor</td>\n",
       "      <td>Some persons (at risk) evacuated as a result o...</td>\n",
       "      <td>Fire alarm system operated</td>\n",
       "      <td>Fire alarm system present</td>\n",
       "      <td>2017-02-09T18:36:21</td>\n",
       "      <td>Undetermined</td>\n",
       "      <td>325</td>\n",
       "      <td>27.0</td>\n",
       "      <td>2017-02-09T23:36:33</td>\n",
       "      <td>43.657300</td>\n",
       "      <td>-79.373460</td>\n",
       "      <td>Undetermined (formerly 98)</td>\n",
       "      <td>Extinguished by fire department</td>\n",
       "      <td>Undetermined</td>\n",
       "      <td>Multi-Unit Dwelling - Over 12 Units</td>\n",
       "      <td>Not applicable: Alarm operated OR presence/ope...</td>\n",
       "      <td>Hardwired (standalone)</td>\n",
       "      <td>Flames showing from small area (one storey or ...</td>\n",
       "      <td>2017-02-09T17:45:07</td>\n",
       "      <td>2017-02-09T17:48:49</td>\n",
       "    </tr>\n",
       "    <tr>\n",
       "      <th>3</th>\n",
       "      <td>Undetermined  (formerly 98)</td>\n",
       "      <td>May not resume operations</td>\n",
       "      <td>0</td>\n",
       "      <td>12</td>\n",
       "      <td>1000000</td>\n",
       "      <td>14</td>\n",
       "      <td>2012-10-30T00:52:04</td>\n",
       "      <td>Entire Structure</td>\n",
       "      <td>Undetermined</td>\n",
       "      <td>Fire alarm system operation undetermined</td>\n",
       "      <td>Undetermined</td>\n",
       "      <td>2012-10-30T01:28:48</td>\n",
       "      <td>Undetermined</td>\n",
       "      <td>332</td>\n",
       "      <td>20.0</td>\n",
       "      <td>2012-11-01T16:30:31</td>\n",
       "      <td>43.649350</td>\n",
       "      <td>-79.393700</td>\n",
       "      <td>Undetermined (formerly 98)</td>\n",
       "      <td>Extinguished by fire department</td>\n",
       "      <td>Undetermined</td>\n",
       "      <td>Clothing Store, Accessories, fur</td>\n",
       "      <td>Not applicable: Alarm operated OR presence/ope...</td>\n",
       "      <td>Type undetermined</td>\n",
       "      <td>Flames showing from large area (more than one ...</td>\n",
       "      <td>2012-10-30T00:42:01</td>\n",
       "      <td>2012-10-30T00:44:58</td>\n",
       "    </tr>\n",
       "    <tr>\n",
       "      <th>4</th>\n",
       "      <td>Sleeping Area or Bedroom (inc. patients room, ...</td>\n",
       "      <td>Not applicable (not a business)</td>\n",
       "      <td>8</td>\n",
       "      <td>11</td>\n",
       "      <td>125000</td>\n",
       "      <td>2</td>\n",
       "      <td>2018-07-08T04:35:00</td>\n",
       "      <td>Spread beyond room of origin, same floor</td>\n",
       "      <td>Some persons (at risk) evacuated as a result o...</td>\n",
       "      <td>Fire alarm system operated</td>\n",
       "      <td>Fire alarm system present</td>\n",
       "      <td>2018-07-08T04:38:28</td>\n",
       "      <td>Matches or Lighters (unable to distinguish)</td>\n",
       "      <td>442</td>\n",
       "      <td>5.0</td>\n",
       "      <td>2018-07-08T16:44:07</td>\n",
       "      <td>43.697960</td>\n",
       "      <td>-79.511539</td>\n",
       "      <td>Bedding</td>\n",
       "      <td>Extinguished by fire department</td>\n",
       "      <td>Suspected Arson</td>\n",
       "      <td>Multi-Unit Dwelling - Over 12 Units</td>\n",
       "      <td>Not applicable: Alarm operated OR presence/ope...</td>\n",
       "      <td>Interconnected</td>\n",
       "      <td>Fire with no evidence from street</td>\n",
       "      <td>2018-07-08T04:08:50</td>\n",
       "      <td>2018-07-08T04:13:54</td>\n",
       "    </tr>\n",
       "  </tbody>\n",
       "</table>\n",
       "</div>"
      ],
      "text/plain": [
       "                                      Area_of_Origin  \\\n",
       "0                                   Porch or Balcony   \n",
       "1                            Cooking Area or Kitchen   \n",
       "2     Living Area (e.g. living, TV, recreation, etc)   \n",
       "3                        Undetermined  (formerly 98)   \n",
       "4  Sleeping Area or Bedroom (inc. patients room, ...   \n",
       "\n",
       "                   Business_Impact  Civilian_Casualties  \\\n",
       "0         No business interruption                    0   \n",
       "1                     Undetermined                    0   \n",
       "2  Not applicable (not a business)                    1   \n",
       "3        May not resume operations                    0   \n",
       "4  Not applicable (not a business)                    8   \n",
       "\n",
       "   Count_of_Persons_Rescued  Estimated_Dollar_Loss  \\\n",
       "0                        86                   3000   \n",
       "1                        28                  50000   \n",
       "2                        16                1000000   \n",
       "3                        12                1000000   \n",
       "4                        11                 125000   \n",
       "\n",
       "   Estimated_Number_Of_Persons_Displaced Ext_agent_app_or_defer_time  \\\n",
       "0                                      0         2018-08-24T17:06:26   \n",
       "1                                     28         2018-11-24T07:19:00   \n",
       "2                                    130         2017-02-09T18:02:13   \n",
       "3                                     14         2012-10-30T00:52:04   \n",
       "4                                      2         2018-07-08T04:35:00   \n",
       "\n",
       "                             Extent_Of_Fire  \\\n",
       "0              Confined to object of origin   \n",
       "1   Confined to part of room/area of origin   \n",
       "2  Spread beyond room of origin, same floor   \n",
       "3                          Entire Structure   \n",
       "4  Spread beyond room of origin, same floor   \n",
       "\n",
       "              Fire_Alarm_System_Impact_on_Evacuation  \\\n",
       "0  Not applicable: Occupant(s) first alerted by o...   \n",
       "1  Not applicable: Occupant(s) first alerted by o...   \n",
       "2  Some persons (at risk) evacuated as a result o...   \n",
       "3                                       Undetermined   \n",
       "4  Some persons (at risk) evacuated as a result o...   \n",
       "\n",
       "                Fire_Alarm_System_Operation Fire_Alarm_System_Presence  \\\n",
       "0         Fire alarm system did not operate  Fire alarm system present   \n",
       "1                Fire alarm system operated  Fire alarm system present   \n",
       "2                Fire alarm system operated  Fire alarm system present   \n",
       "3  Fire alarm system operation undetermined               Undetermined   \n",
       "4                Fire alarm system operated  Fire alarm system present   \n",
       "\n",
       "  Fire_Under_Control_Time                                    Ignition_Source  \\\n",
       "0     2018-08-24T17:06:28                                       Undetermined   \n",
       "1     2018-11-24T07:19:00  Other Cooking Items (eg Toaster, Kettle, elec ...   \n",
       "2     2017-02-09T18:36:21                                       Undetermined   \n",
       "3     2012-10-30T01:28:48                                       Undetermined   \n",
       "4     2018-07-08T04:38:28        Matches or Lighters (unable to distinguish)   \n",
       "\n",
       "   Incident_Station_Area  Incident_Ward Last_TFS_Unit_Clear_Time   Latitude  \\\n",
       "0                    114           18.0      2018-08-24T17:42:43  43.760357   \n",
       "1                    142            7.0      2018-11-24T12:45:21  43.754542   \n",
       "2                    325           27.0      2017-02-09T23:36:33  43.657300   \n",
       "3                    332           20.0      2012-11-01T16:30:31  43.649350   \n",
       "4                    442            5.0      2018-07-08T16:44:07  43.697960   \n",
       "\n",
       "   Longitude      Material_First_Ignited           Method_Of_Fire_Control  \\\n",
       "0 -79.412479  Undetermined (formerly 98)  Extinguished by fire department   \n",
       "1 -79.530419                     Plastic         Extinguished by occupant   \n",
       "2 -79.373460  Undetermined (formerly 98)  Extinguished by fire department   \n",
       "3 -79.393700  Undetermined (formerly 98)  Extinguished by fire department   \n",
       "4 -79.511539                     Bedding  Extinguished by fire department   \n",
       "\n",
       "        Possible_Cause                         Property_Use  \\\n",
       "0         Undetermined  Multi-Unit Dwelling - Over 12 Units   \n",
       "1  Under Investigation                            Infirmary   \n",
       "2         Undetermined  Multi-Unit Dwelling - Over 12 Units   \n",
       "3         Undetermined     Clothing Store, Accessories, fur   \n",
       "4      Suspected Arson  Multi-Unit Dwelling - Over 12 Units   \n",
       "\n",
       "            Smoke_Alarm_at_Fire_Origin_Alarm_Failure  \\\n",
       "0  Not applicable: Alarm operated OR presence/ope...   \n",
       "1  Not applicable: Alarm operated OR presence/ope...   \n",
       "2  Not applicable: Alarm operated OR presence/ope...   \n",
       "3  Not applicable: Alarm operated OR presence/ope...   \n",
       "4  Not applicable: Alarm operated OR presence/ope...   \n",
       "\n",
       "  Smoke_Alarm_at_Fire_Origin_Alarm_Type  \\\n",
       "0                Hardwired (standalone)   \n",
       "1                        Interconnected   \n",
       "2                Hardwired (standalone)   \n",
       "3                     Type undetermined   \n",
       "4                        Interconnected   \n",
       "\n",
       "                           Status_of_Fire_On_Arrival       TFS_Alarm_Time  \\\n",
       "0  Fire with smoke showing only - including vehic...  2018-08-24T16:49:36   \n",
       "1                 Fire extinguished prior to arrival  2018-11-24T07:09:12   \n",
       "2  Flames showing from small area (one storey or ...  2017-02-09T17:45:07   \n",
       "3  Flames showing from large area (more than one ...  2012-10-30T00:42:01   \n",
       "4                  Fire with no evidence from street  2018-07-08T04:08:50   \n",
       "\n",
       "      TFS_Arrival_Time  \n",
       "0  2018-08-24T16:54:09  \n",
       "1  2018-11-24T07:14:23  \n",
       "2  2017-02-09T17:48:49  \n",
       "3  2012-10-30T00:44:58  \n",
       "4  2018-07-08T04:13:54  "
      ]
     },
     "execution_count": 3,
     "metadata": {},
     "output_type": "execute_result"
    }
   ],
   "source": [
    "df = pd.read_csv('Fire_Incidents.csv', delimiter=',')\n",
    "df.head()"
   ]
  },
  {
   "cell_type": "markdown",
   "id": "7c268f74",
   "metadata": {},
   "source": [
    "### Preraration\n",
    "- Prepare column names\n",
    "- Find and replace NaN values\n",
    "- Find duplicates"
   ]
  },
  {
   "cell_type": "code",
   "execution_count": 4,
   "id": "9bb975ff",
   "metadata": {},
   "outputs": [],
   "source": [
    "# Shorten column names where possible\n",
    "df.columns = ['Area_of_Origin', 'Business_Impact', 'Civilian_Casualties',\n",
    "       'Persons_Rescued', 'Estimated_Dollar_Loss',\n",
    "       'Estimated_Number_Of_Persons_Displaced', 'Ext_agent_app_or_defer_time',\n",
    "       'Extent_Of_Fire', 'Fire_Alarm_System_Impact_on_Evacuation',\n",
    "       'Fire_Alarm_System_Operation', 'Fire_Alarm_System_Presence',\n",
    "       'Fire_Under_Control_Time', 'Ignition_Source', 'Incident_Station_Area',\n",
    "       'Incident_Ward', 'Clear_Time', 'Latitude', 'Longitude',\n",
    "       'Material_First_Ignited', 'Method_Of_Fire_Control', 'Possible_Cause',\n",
    "       'Property_Use', 'Smoke_Alarm_at_Fire_Origin_Alarm_Failure',\n",
    "       'Smoke_Alarm_Type', 'Status_of_Fire_On_Arrival',\n",
    "       'TFS_Alarm_Time', 'TFS_Arrival_Time']"
   ]
  },
  {
   "cell_type": "code",
   "execution_count": 5,
   "id": "3c5cce9c",
   "metadata": {},
   "outputs": [],
   "source": [
    "df.columns = df.columns.str.lower().str.replace(' ', '_')"
   ]
  },
  {
   "cell_type": "code",
   "execution_count": 6,
   "id": "d7faa5dd",
   "metadata": {},
   "outputs": [
    {
     "data": {
      "text/plain": [
       "area_of_origin                               0\n",
       "business_impact                              0\n",
       "civilian_casualties                          0\n",
       "persons_rescued                              0\n",
       "estimated_dollar_loss                        0\n",
       "estimated_number_of_persons_displaced        0\n",
       "ext_agent_app_or_defer_time                  0\n",
       "extent_of_fire                               0\n",
       "fire_alarm_system_impact_on_evacuation       0\n",
       "fire_alarm_system_operation                  0\n",
       "fire_alarm_system_presence                   0\n",
       "fire_under_control_time                      0\n",
       "ignition_source                              0\n",
       "incident_station_area                        0\n",
       "incident_ward                               33\n",
       "clear_time                                   0\n",
       "latitude                                     0\n",
       "longitude                                    0\n",
       "material_first_ignited                       0\n",
       "method_of_fire_control                       0\n",
       "possible_cause                               0\n",
       "property_use                                 0\n",
       "smoke_alarm_at_fire_origin_alarm_failure     0\n",
       "smoke_alarm_type                             0\n",
       "status_of_fire_on_arrival                    0\n",
       "tfs_alarm_time                               0\n",
       "tfs_arrival_time                             0\n",
       "dtype: int64"
      ]
     },
     "execution_count": 6,
     "metadata": {},
     "output_type": "execute_result"
    }
   ],
   "source": [
    "df.isnull().sum()"
   ]
  },
  {
   "cell_type": "code",
   "execution_count": 7,
   "id": "46e40fb4",
   "metadata": {},
   "outputs": [],
   "source": [
    "df.incident_ward = df.incident_ward.fillna(0)"
   ]
  },
  {
   "cell_type": "code",
   "execution_count": 8,
   "id": "10506608",
   "metadata": {},
   "outputs": [
    {
     "data": {
      "text/plain": [
       "0"
      ]
     },
     "execution_count": 8,
     "metadata": {},
     "output_type": "execute_result"
    }
   ],
   "source": [
    "df.duplicated().sum()"
   ]
  },
  {
   "cell_type": "markdown",
   "id": "14aff6f5",
   "metadata": {},
   "source": [
    "### EDA\n",
    "- Explore target *estimated_dollar_loss*. Find outliners\n",
    "- Explore features and feature importance\n",
    "    - numerical\n",
    "    - categorical\n",
    "    - DataTime"
   ]
  },
  {
   "cell_type": "markdown",
   "id": "dbe12513",
   "metadata": {},
   "source": [
    "#### Explore target"
   ]
  },
  {
   "cell_type": "code",
   "execution_count": 9,
   "id": "ca36e926",
   "metadata": {},
   "outputs": [],
   "source": [
    "from scipy.stats import zscore"
   ]
  },
  {
   "cell_type": "code",
   "execution_count": 10,
   "id": "1a531ab2",
   "metadata": {},
   "outputs": [
    {
     "data": {
      "text/plain": [
       "<AxesSubplot: xlabel='estimated_dollar_loss', ylabel='Count'>"
      ]
     },
     "execution_count": 10,
     "metadata": {},
     "output_type": "execute_result"
    },
    {
     "data": {
      "image/png": "[encoded data removed]",
      "text/plain": [
       "<Figure size 432x288 with 1 Axes>"
      ]
     },
     "metadata": {
      "needs_background": "light"
     },
     "output_type": "display_data"
    }
   ],
   "source": [
    "sns.histplot(df.estimated_dollar_loss[df.estimated_dollar_loss < 100000], bins = 50)"
   ]
  },
  {
   "cell_type": "code",
   "execution_count": 11,
   "id": "634109df",
   "metadata": {},
   "outputs": [
    {
     "data": {
      "text/plain": [
       "<AxesSubplot: xlabel='estimated_dollar_loss', ylabel='Count'>"
      ]
     },
     "execution_count": 11,
     "metadata": {},
     "output_type": "execute_result"
    },
    {
     "data": {
      "image/png": "[encoded data removed]",
      "text/plain": [
       "<Figure size 432x288 with 1 Axes>"
      ]
     },
     "metadata": {
      "needs_background": "light"
     },
     "output_type": "display_data"
    }
   ],
   "source": [
    "dollar_loss_logs = np.log1p(df.estimated_dollar_loss)\n",
    "sns.histplot(dollar_loss_logs, bins = 50)"
   ]
  },
  {
   "cell_type": "code",
   "execution_count": 12,
   "id": "a576433e",
   "metadata": {},
   "outputs": [
    {
     "data": {
      "text/plain": [
       "1184    2.941376\n",
       "7811    2.566648\n",
       "7562    2.493664\n",
       "7546    2.493664\n",
       "7470    2.351563\n",
       "7557    2.300845\n",
       "7514    2.300845\n",
       "9528    2.300845\n",
       "1857    2.300845\n",
       "8306    2.300845\n",
       "Name: zs, dtype: float64"
      ]
     },
     "execution_count": 12,
     "metadata": {},
     "output_type": "execute_result"
    }
   ],
   "source": [
    "df['zs'] = zscore(dollar_loss_logs).abs().values\n",
    "df.zs.sort_values(ascending=False).head(10)"
   ]
  },
  {
   "cell_type": "code",
   "execution_count": 13,
   "id": "ef79cefc",
   "metadata": {},
   "outputs": [
    {
     "data": {
      "text/plain": [
       "26"
      ]
     },
     "execution_count": 13,
     "metadata": {},
     "output_type": "execute_result"
    }
   ],
   "source": [
    "df['zs'] = zscore(df.estimated_dollar_loss).abs().values\n",
    "outliners_list = df.index[df.zs > 3].tolist()\n",
    "len(outliners_list)"
   ]
  },
  {
   "cell_type": "code",
   "execution_count": 14,
   "id": "4dfa37cb",
   "metadata": {},
   "outputs": [
    {
     "data": {
      "text/plain": [
       "11188"
      ]
     },
     "execution_count": 14,
     "metadata": {},
     "output_type": "execute_result"
    }
   ],
   "source": [
    "df = df.drop(outliners_list)\n",
    "len(df)"
   ]
  },
  {
   "cell_type": "code",
   "execution_count": 15,
   "id": "0a234424",
   "metadata": {},
   "outputs": [],
   "source": [
    "del df['zs']"
   ]
  },
  {
   "cell_type": "code",
   "execution_count": 16,
   "id": "b1dc6fa3",
   "metadata": {},
   "outputs": [
    {
     "data": {
      "image/png": "[encoded data removed]",
      "text/plain": [
       "<Figure size 432x288 with 1 Axes>"
      ]
     },
     "metadata": {
      "needs_background": "light"
     },
     "output_type": "display_data"
    }
   ],
   "source": [
    "bp = plt.boxplot(np.log1p(df.estimated_dollar_loss), patch_artist=False,\n",
    "                notch ='True')"
   ]
  },
  {
   "cell_type": "code",
   "execution_count": 17,
   "id": "ed16f705",
   "metadata": {},
   "outputs": [
    {
     "name": "stdout",
     "output_type": "stream",
     "text": [
      "whiskers: [array([5.52545294, 0.        ]), array([ 9.61587214, 14.22097633])]\n",
      "\n",
      "caps: [array([0., 0.]), array([14.22097633, 14.22097633])]\n",
      "\n",
      "boxes: [array([5.52545294, 5.52545294, 7.7637316 , 7.82444593, 7.88516027,\n",
      "       9.61587214, 9.61587214, 7.88516027, 7.82444593, 7.7637316 ,\n",
      "       5.52545294])]\n",
      "\n",
      "medians: [array([7.82444593, 7.82444593])]\n",
      "\n",
      "fliers: [array([], dtype=float64)]\n",
      "\n",
      "means: []\n",
      "\n"
     ]
    }
   ],
   "source": [
    "for key in bp:\n",
    "    print(f'{key}: {[item.get_ydata() for item in bp[key]]}\\n')"
   ]
  },
  {
   "cell_type": "markdown",
   "id": "fb04624f",
   "metadata": {},
   "source": [
    "#### Explore categorical"
   ]
  },
  {
   "cell_type": "code",
   "execution_count": 20,
   "id": "2df6d7ad",
   "metadata": {},
   "outputs": [
    {
     "data": {
      "text/plain": [
       "area_of_origin                               object\n",
       "business_impact                              object\n",
       "civilian_casualties                           int64\n",
       "persons_rescued                               int64\n",
       "estimated_dollar_loss                         int64\n",
       "estimated_number_of_persons_displaced         int64\n",
       "ext_agent_app_or_defer_time                  object\n",
       "extent_of_fire                               object\n",
       "fire_alarm_system_impact_on_evacuation       object\n",
       "fire_alarm_system_operation                  object\n",
       "fire_alarm_system_presence                   object\n",
       "fire_under_control_time                      object\n",
       "ignition_source                              object\n",
       "incident_station_area                         int64\n",
       "incident_ward                               float64\n",
       "clear_time                                   object\n",
       "latitude                                    float64\n",
       "longitude                                   float64\n",
       "material_first_ignited                       object\n",
       "method_of_fire_control                       object\n",
       "possible_cause                               object\n",
       "property_use                                 object\n",
       "smoke_alarm_at_fire_origin_alarm_failure     object\n",
       "smoke_alarm_type                             object\n",
       "status_of_fire_on_arrival                    object\n",
       "tfs_alarm_time                               object\n",
       "tfs_arrival_time                             object\n",
       "dtype: object"
      ]
     },
     "execution_count": 20,
     "metadata": {},
     "output_type": "execute_result"
    }
   ],
   "source": [
    "df.dtypes"
   ]
  },
  {
   "cell_type": "code",
   "execution_count": 21,
   "id": "433df665",
   "metadata": {},
   "outputs": [],
   "source": [
    "categorical = ['area_of_origin', 'business_impact',\n",
    "               'extent_of_fire', 'fire_alarm_system_impact_on_evacuation',\n",
    "               'fire_alarm_system_operation', 'fire_alarm_system_presence',\n",
    "               'ignition_source','material_first_ignited', 'method_of_fire_control',\n",
    "               'possible_cause', 'property_use', 'smoke_alarm_at_fire_origin_alarm_failure',\n",
    "               'smoke_alarm_type', 'status_of_fire_on_arrival']\n",
    "\n",
    "numerical = ['persons_rescued','civilian_casualties',\n",
    "             'estimated_number_of_persons_displaced',\n",
    "             'incident_station_area','latitude', 'longitude','incident_ward']\n",
    "\n",
    "datetime = ['ext_agent_app_or_defer_time', 'fire_under_control_time', 'clear_time',\n",
    "            'tfs_alarm_time', 'tfs_arrival_time']"
   ]
  },
  {
   "cell_type": "code",
   "execution_count": 22,
   "id": "e781c198",
   "metadata": {},
   "outputs": [
    {
     "name": "stdout",
     "output_type": "stream",
     "text": [
      "area_of_origin 73\n",
      "Cooking Area or Kitchen                                             2869\n",
      "Porch or Balcony                                                     950\n",
      "Sleeping Area or Bedroom (inc. patients room, dormitory, etc)        867\n",
      "Trash, Rubbish Storage (inc garbage chute room, garbage/industri     751\n",
      "Living Area (e.g. living, TV, recreation, etc)                       593\n",
      "Name: area_of_origin, dtype: int64\n",
      "\n",
      "\n",
      "business_impact 7\n",
      "Not applicable (not a business)         5098\n",
      "No business interruption                4489\n",
      "Undetermined                             741\n",
      "May resume operations within a week      641\n",
      "May resume operations within a month     126\n",
      "Name: business_impact, dtype: int64\n",
      "\n",
      "\n",
      "extent_of_fire 12\n",
      "Confined to object of origin                5121\n",
      "Confined to part of room/area of origin     4083\n",
      "Spread to entire room of origin              481\n",
      "Spread beyond room of origin, same floor     467\n",
      "Confined to roof/exterior structure          341\n",
      "Name: extent_of_fire, dtype: int64\n",
      "\n",
      "\n",
      "fire_alarm_system_impact_on_evacuation 7\n",
      "Not applicable: No fire alarm system, no persons present                              3068\n",
      "Not applicable: Occupant(s) first alerted by other means                              2561\n",
      "All persons (at risk of injury) evacuated as a result of hearing fire alarm system    2010\n",
      "Undetermined                                                                          1599\n",
      "Some persons (at risk) evacuated as a result of hearing fire alarm system             1239\n",
      "Name: fire_alarm_system_impact_on_evacuation, dtype: int64\n",
      "\n",
      "\n",
      "fire_alarm_system_operation 4\n",
      "Fire alarm system operated                  4513\n",
      "Not applicable (no system)                  3865\n",
      "Fire alarm system operation undetermined    1418\n",
      "Fire alarm system did not operate           1392\n",
      "Name: fire_alarm_system_operation, dtype: int64\n",
      "\n",
      "\n",
      "fire_alarm_system_presence 4\n",
      "Fire alarm system present                                                 6208\n",
      "Not applicable (bldg not classified by OBC OR detached/semi/town home)    1938\n",
      "No Fire alarm system                                                      1792\n",
      "Undetermined                                                              1250\n",
      "Name: fire_alarm_system_presence, dtype: int64\n",
      "\n",
      "\n",
      "ignition_source 82\n",
      "Undetermined                                                        2454\n",
      "Stove, Range-top burner                                             1915\n",
      "Smoker's Articles (eg. cigarettes, cigars, pipes already ignited    1356\n",
      "Oven                                                                 432\n",
      "Clothes Dryer                                                        297\n",
      "Name: ignition_source, dtype: int64\n",
      "\n",
      "\n",
      "material_first_ignited 54\n",
      "Cooking Oil, Grease             1450\n",
      "Rubbish, Trash, Waste           1276\n",
      "Undetermined (formerly 98)      1128\n",
      "Electrical Wiring Insulation     756\n",
      "Other                            745\n",
      "Name: material_first_ignited, dtype: int64\n",
      "\n",
      "\n",
      "method_of_fire_control 5\n",
      "Extinguished by fire department     7046\n",
      "Extinguished by occupant            2796\n",
      "Fire self extinguished               612\n",
      "Extinguished by automatic system     479\n",
      "Action taken unclassified            255\n",
      "Name: method_of_fire_control, dtype: int64\n",
      "\n",
      "\n",
      "possible_cause 24\n",
      "Undetermined                                 1717\n",
      "Electrical Failure                           1583\n",
      "Unattended                                   1568\n",
      "Improperly Discarded                         1451\n",
      "Other unintentional cause, not classified    1055\n",
      "Name: possible_cause, dtype: int64\n",
      "\n",
      "\n",
      "property_use 217\n",
      "Multi-Unit Dwelling - Over 12 Units                  3719\n",
      "Detached Dwelling                                    2311\n",
      "Semi-Detached Dwelling                                728\n",
      "Attached Dwelling (eg. rowhouse, townhouse, etc.)     578\n",
      "Multi-Unit Dwelling - 2 to 6 Units                    281\n",
      "Name: property_use, dtype: int64\n",
      "\n",
      "\n",
      "smoke_alarm_at_fire_origin_alarm_failure 11\n",
      "Not applicable: Alarm operated OR presence/operation undetermined    7749\n",
      "Remote from fire – smoke did not reach alarm                         1113\n",
      "Reason for inoperation undetermined                                   614\n",
      "Other reason                                                          603\n",
      "Separated from fire (e.g. wall, etc)                                  392\n",
      "Name: smoke_alarm_at_fire_origin_alarm_failure, dtype: int64\n",
      "\n",
      "\n",
      "smoke_alarm_type 6\n",
      "Not applicable - no smoke alarm or presence undetermined    2558\n",
      "Battery operated                                            2380\n",
      "Hardwired (standalone)                                      2273\n",
      "Interconnected                                              2065\n",
      "Type undetermined                                           1888\n",
      "Name: smoke_alarm_type, dtype: int64\n",
      "\n",
      "\n",
      "status_of_fire_on_arrival 8\n",
      "Fire extinguished prior to arrival                                                 3586\n",
      "Fire with no evidence from street                                                  2885\n",
      "Fire with smoke showing only - including vehicle, outdoor fires                    2618\n",
      "Flames showing from small area (one storey or less, part of a vehicle, outdoor)    1414\n",
      "Flames showing from large area (more than one storey, large area outdoors)          241\n",
      "Name: status_of_fire_on_arrival, dtype: int64\n",
      "\n",
      "\n"
     ]
    }
   ],
   "source": [
    "for column in categorical:\n",
    "    print(column, df[column].nunique())\n",
    "    print(df[column].value_counts().head(5))\n",
    "    print()\n",
    "    print()"
   ]
  },
  {
   "cell_type": "code",
   "execution_count": 23,
   "id": "03484170",
   "metadata": {},
   "outputs": [
    {
     "data": {
      "text/plain": [
       "area_of_origin                               73\n",
       "business_impact                               7\n",
       "extent_of_fire                               12\n",
       "fire_alarm_system_impact_on_evacuation        7\n",
       "fire_alarm_system_operation                   4\n",
       "fire_alarm_system_presence                    4\n",
       "ignition_source                              82\n",
       "material_first_ignited                       54\n",
       "method_of_fire_control                        5\n",
       "possible_cause                               24\n",
       "property_use                                217\n",
       "smoke_alarm_at_fire_origin_alarm_failure     11\n",
       "smoke_alarm_type                              6\n",
       "status_of_fire_on_arrival                     8\n",
       "dtype: int64"
      ]
     },
     "execution_count": 23,
     "metadata": {},
     "output_type": "execute_result"
    }
   ],
   "source": [
    "df[categorical].nunique()"
   ]
  },
  {
   "cell_type": "markdown",
   "id": "13c7a6b2",
   "metadata": {},
   "source": [
    "#### Feature Importance of Categorical"
   ]
  },
  {
   "cell_type": "code",
   "execution_count": 24,
   "id": "514e1e25",
   "metadata": {},
   "outputs": [],
   "source": [
    "qloss = pd.qcut(np.log1p(df.estimated_dollar_loss), q=7)"
   ]
  },
  {
   "cell_type": "code",
   "execution_count": 25,
   "id": "6e81c205",
   "metadata": {},
   "outputs": [],
   "source": [
    "def mi_score(series):\n",
    "    return mutual_info_score(qloss, series)"
   ]
  },
  {
   "cell_type": "code",
   "execution_count": 26,
   "id": "4345018e",
   "metadata": {},
   "outputs": [
    {
     "data": {
      "text/plain": [
       "extent_of_fire                              0.266265\n",
       "material_first_ignited                      0.147757\n",
       "area_of_origin                              0.147311\n",
       "status_of_fire_on_arrival                   0.121888\n",
       "property_use                                0.120933\n",
       "method_of_fire_control                      0.098502\n",
       "ignition_source                             0.095544\n",
       "possible_cause                              0.063709\n",
       "business_impact                             0.059917\n",
       "fire_alarm_system_operation                 0.025569\n",
       "smoke_alarm_at_fire_origin_alarm_failure    0.023212\n",
       "fire_alarm_system_impact_on_evacuation      0.020684\n",
       "fire_alarm_system_presence                  0.020058\n",
       "smoke_alarm_type                            0.017953\n",
       "dtype: float64"
      ]
     },
     "execution_count": 26,
     "metadata": {},
     "output_type": "execute_result"
    }
   ],
   "source": [
    "mi = df[categorical].apply(mi_score)\n",
    "mi.sort_values(ascending=False)"
   ]
  },
  {
   "cell_type": "markdown",
   "id": "63f775db",
   "metadata": {},
   "source": [
    "#### Feature Importance and exploration of Numerical"
   ]
  },
  {
   "cell_type": "code",
   "execution_count": 27,
   "id": "fba16eb2",
   "metadata": {},
   "outputs": [
    {
     "data": {
      "text/html": [
       "<div>\n",
       "<style scoped>\n",
       "    .dataframe tbody tr th:only-of-type {\n",
       "        vertical-align: middle;\n",
       "    }\n",
       "\n",
       "    .dataframe tbody tr th {\n",
       "        vertical-align: top;\n",
       "    }\n",
       "\n",
       "    .dataframe thead th {\n",
       "        text-align: right;\n",
       "    }\n",
       "</style>\n",
       "<table border=\"1\" class=\"dataframe\">\n",
       "  <thead>\n",
       "    <tr style=\"text-align: right;\">\n",
       "      <th></th>\n",
       "      <th>civilian_casualties</th>\n",
       "      <th>persons_rescued</th>\n",
       "      <th>estimated_dollar_loss</th>\n",
       "      <th>estimated_number_of_persons_displaced</th>\n",
       "      <th>incident_station_area</th>\n",
       "      <th>incident_ward</th>\n",
       "      <th>latitude</th>\n",
       "      <th>longitude</th>\n",
       "    </tr>\n",
       "  </thead>\n",
       "  <tbody>\n",
       "    <tr>\n",
       "      <th>count</th>\n",
       "      <td>11188.000</td>\n",
       "      <td>11188.000</td>\n",
       "      <td>11188.000</td>\n",
       "      <td>11188.000</td>\n",
       "      <td>11188.000</td>\n",
       "      <td>11188.000</td>\n",
       "      <td>11188.000</td>\n",
       "      <td>11188.000</td>\n",
       "    </tr>\n",
       "    <tr>\n",
       "      <th>mean</th>\n",
       "      <td>0.113</td>\n",
       "      <td>0.062</td>\n",
       "      <td>29739.058</td>\n",
       "      <td>16.609</td>\n",
       "      <td>288.290</td>\n",
       "      <td>19.529</td>\n",
       "      <td>43.705</td>\n",
       "      <td>-79.403</td>\n",
       "    </tr>\n",
       "    <tr>\n",
       "      <th>std</th>\n",
       "      <td>0.457</td>\n",
       "      <td>0.961</td>\n",
       "      <td>94337.280</td>\n",
       "      <td>116.422</td>\n",
       "      <td>107.497</td>\n",
       "      <td>11.794</td>\n",
       "      <td>0.051</td>\n",
       "      <td>0.101</td>\n",
       "    </tr>\n",
       "    <tr>\n",
       "      <th>min</th>\n",
       "      <td>0.000</td>\n",
       "      <td>0.000</td>\n",
       "      <td>0.000</td>\n",
       "      <td>0.000</td>\n",
       "      <td>111.000</td>\n",
       "      <td>0.000</td>\n",
       "      <td>43.589</td>\n",
       "      <td>-79.635</td>\n",
       "    </tr>\n",
       "    <tr>\n",
       "      <th>25%</th>\n",
       "      <td>0.000</td>\n",
       "      <td>0.000</td>\n",
       "      <td>250.000</td>\n",
       "      <td>0.000</td>\n",
       "      <td>221.000</td>\n",
       "      <td>9.750</td>\n",
       "      <td>43.662</td>\n",
       "      <td>-79.479</td>\n",
       "    </tr>\n",
       "    <tr>\n",
       "      <th>50%</th>\n",
       "      <td>0.000</td>\n",
       "      <td>0.000</td>\n",
       "      <td>2500.000</td>\n",
       "      <td>0.000</td>\n",
       "      <td>314.000</td>\n",
       "      <td>19.000</td>\n",
       "      <td>43.697</td>\n",
       "      <td>-79.404</td>\n",
       "    </tr>\n",
       "    <tr>\n",
       "      <th>75%</th>\n",
       "      <td>0.000</td>\n",
       "      <td>0.000</td>\n",
       "      <td>15000.000</td>\n",
       "      <td>1.000</td>\n",
       "      <td>346.000</td>\n",
       "      <td>28.000</td>\n",
       "      <td>43.748</td>\n",
       "      <td>-79.337</td>\n",
       "    </tr>\n",
       "    <tr>\n",
       "      <th>max</th>\n",
       "      <td>15.000</td>\n",
       "      <td>86.000</td>\n",
       "      <td>1500000.000</td>\n",
       "      <td>999.000</td>\n",
       "      <td>445.000</td>\n",
       "      <td>44.000</td>\n",
       "      <td>43.846</td>\n",
       "      <td>-79.124</td>\n",
       "    </tr>\n",
       "  </tbody>\n",
       "</table>\n",
       "</div>"
      ],
      "text/plain": [
       "      civilian_casualties persons_rescued estimated_dollar_loss  \\\n",
       "count           11188.000       11188.000             11188.000   \n",
       "mean                0.113           0.062             29739.058   \n",
       "std                 0.457           0.961             94337.280   \n",
       "min                 0.000           0.000                 0.000   \n",
       "25%                 0.000           0.000               250.000   \n",
       "50%                 0.000           0.000              2500.000   \n",
       "75%                 0.000           0.000             15000.000   \n",
       "max                15.000          86.000           1500000.000   \n",
       "\n",
       "      estimated_number_of_persons_displaced incident_station_area  \\\n",
       "count                             11188.000             11188.000   \n",
       "mean                                 16.609               288.290   \n",
       "std                                 116.422               107.497   \n",
       "min                                   0.000               111.000   \n",
       "25%                                   0.000               221.000   \n",
       "50%                                   0.000               314.000   \n",
       "75%                                   1.000               346.000   \n",
       "max                                 999.000               445.000   \n",
       "\n",
       "      incident_ward   latitude  longitude  \n",
       "count     11188.000  11188.000  11188.000  \n",
       "mean         19.529     43.705    -79.403  \n",
       "std          11.794      0.051      0.101  \n",
       "min           0.000     43.589    -79.635  \n",
       "25%           9.750     43.662    -79.479  \n",
       "50%          19.000     43.697    -79.404  \n",
       "75%          28.000     43.748    -79.337  \n",
       "max          44.000     43.846    -79.124  "
      ]
     },
     "execution_count": 27,
     "metadata": {},
     "output_type": "execute_result"
    }
   ],
   "source": [
    "df.describe().apply(lambda s: s.apply('{0:.3f}'.format))"
   ]
  },
  {
   "cell_type": "code",
   "execution_count": 28,
   "id": "0a18a053",
   "metadata": {},
   "outputs": [
    {
     "data": {
      "text/plain": [
       "[Text(0, 1, 'persons_rescued'),\n",
       " Text(0, 2, 'civilian_casualties'),\n",
       " Text(0, 3, 'estimated_number_of_persons_displaced'),\n",
       " Text(0, 4, 'incident_station_area'),\n",
       " Text(0, 5, 'latitude'),\n",
       " Text(0, 6, 'longitude'),\n",
       " Text(0, 7, 'incident_ward')]"
      ]
     },
     "execution_count": 28,
     "metadata": {},
     "output_type": "execute_result"
    },
    {
     "data": {
      "image/png": "[encoded data removed]",
      "text/plain": [
       "<Figure size 720x504 with 1 Axes>"
      ]
     },
     "metadata": {
      "needs_background": "light"
     },
     "output_type": "display_data"
    }
   ],
   "source": [
    "fig = plt.figure(figsize =(10, 7))\n",
    "ax = fig.add_subplot(111)\n",
    "bp = ax.boxplot(df[numerical], patch_artist = True,\n",
    "                notch ='True', vert = 0)\n",
    "ax.set_yticklabels(numerical)"
   ]
  },
  {
   "cell_type": "code",
   "execution_count": 29,
   "id": "50e9a93c",
   "metadata": {},
   "outputs": [
    {
     "data": {
      "text/plain": [
       "civilian_casualties                      0.130231\n",
       "estimated_number_of_persons_displaced    0.121488\n",
       "latitude                                 0.090766\n",
       "persons_rescued                          0.047881\n",
       "longitude                                0.017919\n",
       "incident_station_area                    0.015870\n",
       "incident_ward                            0.002858\n",
       "dtype: float64"
      ]
     },
     "execution_count": 29,
     "metadata": {},
     "output_type": "execute_result"
    }
   ],
   "source": [
    "df[numerical].corrwith(np.log1p(df.estimated_dollar_loss)).abs().sort_values(ascending=False)"
   ]
  },
  {
   "cell_type": "markdown",
   "id": "daa58534",
   "metadata": {},
   "source": [
    "#### Deaing with date-time values and exploring date-time "
   ]
  },
  {
   "cell_type": "code",
   "execution_count": 30,
   "id": "8abe0554",
   "metadata": {},
   "outputs": [],
   "source": [
    "for column in datetime:\n",
    "    df[column] = pd.to_datetime(df[column],\n",
    "                                format = '%Y-%m-%dT%H:%M:%S',\n",
    "                                errors = 'coerce')"
   ]
  },
  {
   "cell_type": "code",
   "execution_count": 31,
   "id": "48b13e73",
   "metadata": {},
   "outputs": [
    {
     "name": "stdout",
     "output_type": "stream",
     "text": [
      "11156 alarm and arraival in a 1 day\n",
      "11118 arrival and ext agent in a 1 day\n",
      "11111 ext agent and fire control in a 1 day\n",
      "10578 fire control and cleaning in a 1 day\n",
      "10433 the whole incedent in a 1 day\n",
      "22 the cleaning was before the alarm\n"
     ]
    }
   ],
   "source": [
    "print((df.tfs_alarm_time.dt.day == df.tfs_arrival_time.dt.day).sum(), 'alarm and arraival in a 1 day'),\n",
    "print((df.tfs_arrival_time.dt.day == df.ext_agent_app_or_defer_time.dt.day).sum(), 'arrival and ext agent in a 1 day'),\n",
    "print((df.ext_agent_app_or_defer_time.dt.day == df.fire_under_control_time.dt.day).sum(), 'ext agent and fire control in a 1 day' ),\n",
    "print((df.fire_under_control_time.dt.day == df.clear_time.dt.day).sum(), 'fire control and cleaning in a 1 day'),\n",
    "print((df.tfs_alarm_time.dt.day == df.clear_time.dt.day).sum(), 'the whole incedent in a 1 day')\n",
    "print((df.tfs_alarm_time.dt.day > df.clear_time.dt.day).sum(), 'the cleaning was before the alarm')"
   ]
  },
  {
   "cell_type": "code",
   "execution_count": 32,
   "id": "19375965",
   "metadata": {},
   "outputs": [],
   "source": [
    "# 24 records contains the cleaning after the incedent time before the alarm\n",
    "# delite this records to not confuse the model\n",
    "indexTime = df[df['tfs_alarm_time'] > df['clear_time']].index\n",
    "df.drop(indexTime, inplace=True)"
   ]
  },
  {
   "cell_type": "code",
   "execution_count": 33,
   "id": "25ccb579",
   "metadata": {},
   "outputs": [
    {
     "data": {
      "text/html": [
       "<div>\n",
       "<style scoped>\n",
       "    .dataframe tbody tr th:only-of-type {\n",
       "        vertical-align: middle;\n",
       "    }\n",
       "\n",
       "    .dataframe tbody tr th {\n",
       "        vertical-align: top;\n",
       "    }\n",
       "\n",
       "    .dataframe thead th {\n",
       "        text-align: right;\n",
       "    }\n",
       "</style>\n",
       "<table border=\"1\" class=\"dataframe\">\n",
       "  <thead>\n",
       "    <tr style=\"text-align: right;\">\n",
       "      <th></th>\n",
       "      <th>ext_agent_app_or_defer_time_month</th>\n",
       "      <th>ext_agent_app_or_defer_time_day</th>\n",
       "      <th>ext_agent_app_or_defer_time_hour</th>\n",
       "      <th>ext_agent_app_or_defer_time_minute</th>\n",
       "      <th>fire_under_control_time_month</th>\n",
       "      <th>fire_under_control_time_day</th>\n",
       "      <th>fire_under_control_time_hour</th>\n",
       "      <th>fire_under_control_time_minute</th>\n",
       "      <th>clear_time_month</th>\n",
       "      <th>clear_time_day</th>\n",
       "      <th>clear_time_hour</th>\n",
       "      <th>clear_time_minute</th>\n",
       "      <th>tfs_alarm_time_month</th>\n",
       "      <th>tfs_alarm_time_day</th>\n",
       "      <th>tfs_alarm_time_hour</th>\n",
       "      <th>tfs_alarm_time_minute</th>\n",
       "      <th>tfs_arrival_time_month</th>\n",
       "      <th>tfs_arrival_time_day</th>\n",
       "      <th>tfs_arrival_time_hour</th>\n",
       "      <th>tfs_arrival_time_minute</th>\n",
       "      <th>tfs_alarm_time_weekday</th>\n",
       "    </tr>\n",
       "  </thead>\n",
       "  <tbody>\n",
       "    <tr>\n",
       "      <th>0</th>\n",
       "      <td>8</td>\n",
       "      <td>24</td>\n",
       "      <td>17</td>\n",
       "      <td>6</td>\n",
       "      <td>8</td>\n",
       "      <td>24</td>\n",
       "      <td>17</td>\n",
       "      <td>6</td>\n",
       "      <td>8</td>\n",
       "      <td>24</td>\n",
       "      <td>17</td>\n",
       "      <td>42</td>\n",
       "      <td>8</td>\n",
       "      <td>24</td>\n",
       "      <td>16</td>\n",
       "      <td>49</td>\n",
       "      <td>8</td>\n",
       "      <td>24</td>\n",
       "      <td>16</td>\n",
       "      <td>54</td>\n",
       "      <td>4</td>\n",
       "    </tr>\n",
       "    <tr>\n",
       "      <th>1</th>\n",
       "      <td>11</td>\n",
       "      <td>24</td>\n",
       "      <td>7</td>\n",
       "      <td>19</td>\n",
       "      <td>11</td>\n",
       "      <td>24</td>\n",
       "      <td>7</td>\n",
       "      <td>19</td>\n",
       "      <td>11</td>\n",
       "      <td>24</td>\n",
       "      <td>12</td>\n",
       "      <td>45</td>\n",
       "      <td>11</td>\n",
       "      <td>24</td>\n",
       "      <td>7</td>\n",
       "      <td>9</td>\n",
       "      <td>11</td>\n",
       "      <td>24</td>\n",
       "      <td>7</td>\n",
       "      <td>14</td>\n",
       "      <td>5</td>\n",
       "    </tr>\n",
       "    <tr>\n",
       "      <th>2</th>\n",
       "      <td>2</td>\n",
       "      <td>9</td>\n",
       "      <td>18</td>\n",
       "      <td>2</td>\n",
       "      <td>2</td>\n",
       "      <td>9</td>\n",
       "      <td>18</td>\n",
       "      <td>36</td>\n",
       "      <td>2</td>\n",
       "      <td>9</td>\n",
       "      <td>23</td>\n",
       "      <td>36</td>\n",
       "      <td>2</td>\n",
       "      <td>9</td>\n",
       "      <td>17</td>\n",
       "      <td>45</td>\n",
       "      <td>2</td>\n",
       "      <td>9</td>\n",
       "      <td>17</td>\n",
       "      <td>48</td>\n",
       "      <td>3</td>\n",
       "    </tr>\n",
       "    <tr>\n",
       "      <th>3</th>\n",
       "      <td>10</td>\n",
       "      <td>30</td>\n",
       "      <td>0</td>\n",
       "      <td>52</td>\n",
       "      <td>10</td>\n",
       "      <td>30</td>\n",
       "      <td>1</td>\n",
       "      <td>28</td>\n",
       "      <td>11</td>\n",
       "      <td>1</td>\n",
       "      <td>16</td>\n",
       "      <td>30</td>\n",
       "      <td>10</td>\n",
       "      <td>30</td>\n",
       "      <td>0</td>\n",
       "      <td>42</td>\n",
       "      <td>10</td>\n",
       "      <td>30</td>\n",
       "      <td>0</td>\n",
       "      <td>44</td>\n",
       "      <td>1</td>\n",
       "    </tr>\n",
       "    <tr>\n",
       "      <th>4</th>\n",
       "      <td>7</td>\n",
       "      <td>8</td>\n",
       "      <td>4</td>\n",
       "      <td>35</td>\n",
       "      <td>7</td>\n",
       "      <td>8</td>\n",
       "      <td>4</td>\n",
       "      <td>38</td>\n",
       "      <td>7</td>\n",
       "      <td>8</td>\n",
       "      <td>16</td>\n",
       "      <td>44</td>\n",
       "      <td>7</td>\n",
       "      <td>8</td>\n",
       "      <td>4</td>\n",
       "      <td>8</td>\n",
       "      <td>7</td>\n",
       "      <td>8</td>\n",
       "      <td>4</td>\n",
       "      <td>13</td>\n",
       "      <td>6</td>\n",
       "    </tr>\n",
       "  </tbody>\n",
       "</table>\n",
       "</div>"
      ],
      "text/plain": [
       "   ext_agent_app_or_defer_time_month  ext_agent_app_or_defer_time_day  \\\n",
       "0                                  8                               24   \n",
       "1                                 11                               24   \n",
       "2                                  2                                9   \n",
       "3                                 10                               30   \n",
       "4                                  7                                8   \n",
       "\n",
       "   ext_agent_app_or_defer_time_hour  ext_agent_app_or_defer_time_minute  \\\n",
       "0                                17                                   6   \n",
       "1                                 7                                  19   \n",
       "2                                18                                   2   \n",
       "3                                 0                                  52   \n",
       "4                                 4                                  35   \n",
       "\n",
       "   fire_under_control_time_month  fire_under_control_time_day  \\\n",
       "0                              8                           24   \n",
       "1                             11                           24   \n",
       "2                              2                            9   \n",
       "3                             10                           30   \n",
       "4                              7                            8   \n",
       "\n",
       "   fire_under_control_time_hour  fire_under_control_time_minute  \\\n",
       "0                            17                               6   \n",
       "1                             7                              19   \n",
       "2                            18                              36   \n",
       "3                             1                              28   \n",
       "4                             4                              38   \n",
       "\n",
       "   clear_time_month  clear_time_day  clear_time_hour  clear_time_minute  \\\n",
       "0                 8              24               17                 42   \n",
       "1                11              24               12                 45   \n",
       "2                 2               9               23                 36   \n",
       "3                11               1               16                 30   \n",
       "4                 7               8               16                 44   \n",
       "\n",
       "   tfs_alarm_time_month  tfs_alarm_time_day  tfs_alarm_time_hour  \\\n",
       "0                     8                  24                   16   \n",
       "1                    11                  24                    7   \n",
       "2                     2                   9                   17   \n",
       "3                    10                  30                    0   \n",
       "4                     7                   8                    4   \n",
       "\n",
       "   tfs_alarm_time_minute  tfs_arrival_time_month  tfs_arrival_time_day  \\\n",
       "0                     49                       8                    24   \n",
       "1                      9                      11                    24   \n",
       "2                     45                       2                     9   \n",
       "3                     42                      10                    30   \n",
       "4                      8                       7                     8   \n",
       "\n",
       "   tfs_arrival_time_hour  tfs_arrival_time_minute  tfs_alarm_time_weekday  \n",
       "0                     16                       54                       4  \n",
       "1                      7                       14                       5  \n",
       "2                     17                       48                       3  \n",
       "3                      0                       44                       1  \n",
       "4                      4                       13                       6  "
      ]
     },
     "execution_count": 33,
     "metadata": {},
     "output_type": "execute_result"
    }
   ],
   "source": [
    "# for the purpose of this model we don't need 'year' and 'second' info.\n",
    "# Also a weekday information will be added only for tfs_alarm_time - the date when incedent occures\n",
    "\n",
    "datetime_splited = []\n",
    "for column in datetime:\n",
    "    df[column + '_month'] = df[column].dt.month\n",
    "    datetime_splited.append((column + '_month'))\n",
    "    \n",
    "    df[column + '_day'] = df[column].dt.day\n",
    "    datetime_splited.append((column + '_day'))\n",
    "    \n",
    "    df[column + '_hour'] = df[column].dt.hour\n",
    "    datetime_splited.append((column + '_hour'))\n",
    "    \n",
    "    df[column + '_minute'] = df[column].dt.minute\n",
    "    datetime_splited.append((column + '_minute'))\n",
    "    \n",
    "df['tfs_alarm_time_weekday'] = df.tfs_alarm_time.dt.dayofweek\n",
    "datetime_splited.append('tfs_alarm_time_weekday')\n",
    "\n",
    "df[datetime_splited].head()"
   ]
  },
  {
   "cell_type": "markdown",
   "id": "ec120c92",
   "metadata": {},
   "source": [
    "#### Datetime feature importances. Selecting representation of date time data\n",
    "Date and Time data can be represented as DataTime format, separate columns of month, day etc. or as a difference between dates. "
   ]
  },
  {
   "cell_type": "markdown",
   "id": "173a5631",
   "metadata": {},
   "source": [
    "**DataTime format**"
   ]
  },
  {
   "cell_type": "code",
   "execution_count": 34,
   "id": "0966bc30",
   "metadata": {},
   "outputs": [],
   "source": [
    "def mi_score_DateTime(series):\n",
    "    return normalized_mutual_info_score(qloss, series)"
   ]
  },
  {
   "cell_type": "code",
   "execution_count": 35,
   "id": "89dd6f2b",
   "metadata": {},
   "outputs": [
    {
     "data": {
      "text/plain": [
       "tfs_alarm_time                 0.339322\n",
       "tfs_arrival_time               0.339322\n",
       "clear_time                     0.339303\n",
       "ext_agent_app_or_defer_time    0.339270\n",
       "fire_under_control_time        0.339201\n",
       "dtype: float64"
      ]
     },
     "execution_count": 35,
     "metadata": {},
     "output_type": "execute_result"
    }
   ],
   "source": [
    "mi = df[datetime].apply(mi_score_DateTime)\n",
    "mi.sort_values(ascending=False)"
   ]
  },
  {
   "cell_type": "markdown",
   "id": "0b4c42cb",
   "metadata": {},
   "source": [
    "**Separated columns**"
   ]
  },
  {
   "cell_type": "code",
   "execution_count": 36,
   "id": "6e55723d",
   "metadata": {},
   "outputs": [
    {
     "data": {
      "text/plain": [
       "tfs_alarm_time_hour                   0.059466\n",
       "tfs_arrival_time_hour                 0.058152\n",
       "fire_under_control_time_hour          0.057538\n",
       "ext_agent_app_or_defer_time_hour      0.055937\n",
       "clear_time_hour                       0.028965\n",
       "tfs_alarm_time_weekday                0.019362\n",
       "clear_time_month                      0.009243\n",
       "fire_under_control_time_minute        0.008636\n",
       "clear_time_minute                     0.007780\n",
       "tfs_alarm_time_month                  0.007745\n",
       "tfs_arrival_time_month                0.007740\n",
       "fire_under_control_time_month         0.007717\n",
       "ext_agent_app_or_defer_time_month     0.007717\n",
       "tfs_arrival_time_minute               0.007414\n",
       "ext_agent_app_or_defer_time_minute    0.004618\n",
       "clear_time_day                        0.002361\n",
       "ext_agent_app_or_defer_time_day       0.002195\n",
       "tfs_arrival_time_day                  0.001963\n",
       "tfs_alarm_time_day                    0.001868\n",
       "fire_under_control_time_day           0.001578\n",
       "tfs_alarm_time_minute                 0.000365\n",
       "dtype: float64"
      ]
     },
     "execution_count": 36,
     "metadata": {},
     "output_type": "execute_result"
    }
   ],
   "source": [
    "df[datetime_splited].corrwith(np.log1p(df.estimated_dollar_loss)).abs().sort_values(ascending=False)"
   ]
  },
  {
   "cell_type": "markdown",
   "id": "957f1937",
   "metadata": {},
   "source": [
    "**Difference between dates**"
   ]
  },
  {
   "cell_type": "code",
   "execution_count": 39,
   "id": "b80e37a3",
   "metadata": {},
   "outputs": [
    {
     "data": {
      "text/plain": [
       "0.2975028398415431"
      ]
     },
     "execution_count": 39,
     "metadata": {},
     "output_type": "execute_result"
    }
   ],
   "source": [
    "total_time = (df.clear_time - df.tfs_alarm_time).dt.total_seconds()/(60*60)\n",
    "total_time.corr(np.log1p(df.estimated_dollar_loss))"
   ]
  },
  {
   "cell_type": "code",
   "execution_count": 40,
   "id": "a82d699d",
   "metadata": {},
   "outputs": [
    {
     "data": {
      "text/plain": [
       "0.035601779251584385"
      ]
     },
     "execution_count": 40,
     "metadata": {},
     "output_type": "execute_result"
    }
   ],
   "source": [
    "arrival_time = (df.tfs_arrival_time - df.tfs_alarm_time).dt.total_seconds()/(60*60)\n",
    "arrival_time.corr(np.log1p(df.estimated_dollar_loss))"
   ]
  },
  {
   "cell_type": "code",
   "execution_count": 41,
   "id": "29895e0d",
   "metadata": {},
   "outputs": [
    {
     "data": {
      "text/plain": [
       "0.20263728814725668"
      ]
     },
     "execution_count": 41,
     "metadata": {},
     "output_type": "execute_result"
    }
   ],
   "source": [
    "fire_control_time = (df.fire_under_control_time - df.tfs_arrival_time).dt.total_seconds()/(60*60)\n",
    "fire_control_time.corr(np.log1p(df.estimated_dollar_loss))"
   ]
  },
  {
   "cell_type": "code",
   "execution_count": 42,
   "id": "0c0c97ac",
   "metadata": {},
   "outputs": [
    {
     "data": {
      "text/plain": [
       "0.29160329806771135"
      ]
     },
     "execution_count": 42,
     "metadata": {},
     "output_type": "execute_result"
    }
   ],
   "source": [
    "cleaning_time = (df.clear_time - df.fire_under_control_time).dt.total_seconds()/(60*60)\n",
    "cleaning_time.corr(np.log1p(df.estimated_dollar_loss))"
   ]
  },
  {
   "cell_type": "code",
   "execution_count": 43,
   "id": "f82bca9e",
   "metadata": {},
   "outputs": [
    {
     "data": {
      "text/plain": [
       "0.2045540989697087"
      ]
     },
     "execution_count": 43,
     "metadata": {},
     "output_type": "execute_result"
    }
   ],
   "source": [
    "fire_time = (df.fire_under_control_time - df.tfs_alarm_time).dt.total_seconds()/(60*60)\n",
    "fire_time.corr(np.log1p(df.estimated_dollar_loss))"
   ]
  },
  {
   "cell_type": "markdown",
   "id": "b423c72c",
   "metadata": {},
   "source": [
    "Let's use data time features both at DataTime format and difference between dates and get rid of separate columns"
   ]
  },
  {
   "cell_type": "code",
   "execution_count": 44,
   "id": "a3489f60",
   "metadata": {},
   "outputs": [
    {
     "data": {
      "text/html": [
       "<div>\n",
       "<style scoped>\n",
       "    .dataframe tbody tr th:only-of-type {\n",
       "        vertical-align: middle;\n",
       "    }\n",
       "\n",
       "    .dataframe tbody tr th {\n",
       "        vertical-align: top;\n",
       "    }\n",
       "\n",
       "    .dataframe thead th {\n",
       "        text-align: right;\n",
       "    }\n",
       "</style>\n",
       "<table border=\"1\" class=\"dataframe\">\n",
       "  <thead>\n",
       "    <tr style=\"text-align: right;\">\n",
       "      <th></th>\n",
       "      <th>area_of_origin</th>\n",
       "      <th>business_impact</th>\n",
       "      <th>civilian_casualties</th>\n",
       "      <th>persons_rescued</th>\n",
       "      <th>estimated_dollar_loss</th>\n",
       "      <th>estimated_number_of_persons_displaced</th>\n",
       "      <th>ext_agent_app_or_defer_time</th>\n",
       "      <th>extent_of_fire</th>\n",
       "      <th>fire_alarm_system_impact_on_evacuation</th>\n",
       "      <th>fire_alarm_system_operation</th>\n",
       "      <th>fire_alarm_system_presence</th>\n",
       "      <th>fire_under_control_time</th>\n",
       "      <th>ignition_source</th>\n",
       "      <th>incident_station_area</th>\n",
       "      <th>incident_ward</th>\n",
       "      <th>clear_time</th>\n",
       "      <th>latitude</th>\n",
       "      <th>longitude</th>\n",
       "      <th>material_first_ignited</th>\n",
       "      <th>method_of_fire_control</th>\n",
       "      <th>possible_cause</th>\n",
       "      <th>property_use</th>\n",
       "      <th>smoke_alarm_at_fire_origin_alarm_failure</th>\n",
       "      <th>smoke_alarm_type</th>\n",
       "      <th>status_of_fire_on_arrival</th>\n",
       "      <th>tfs_alarm_time</th>\n",
       "      <th>tfs_arrival_time</th>\n",
       "    </tr>\n",
       "  </thead>\n",
       "  <tbody>\n",
       "    <tr>\n",
       "      <th>0</th>\n",
       "      <td>Porch or Balcony</td>\n",
       "      <td>No business interruption</td>\n",
       "      <td>0</td>\n",
       "      <td>86</td>\n",
       "      <td>3000</td>\n",
       "      <td>0</td>\n",
       "      <td>2018-08-24 17:06:26</td>\n",
       "      <td>Confined to object of origin</td>\n",
       "      <td>Not applicable: Occupant(s) first alerted by o...</td>\n",
       "      <td>Fire alarm system did not operate</td>\n",
       "      <td>Fire alarm system present</td>\n",
       "      <td>2018-08-24 17:06:28</td>\n",
       "      <td>Undetermined</td>\n",
       "      <td>114</td>\n",
       "      <td>18.0</td>\n",
       "      <td>2018-08-24 17:42:43</td>\n",
       "      <td>43.760357</td>\n",
       "      <td>-79.412479</td>\n",
       "      <td>Undetermined (formerly 98)</td>\n",
       "      <td>Extinguished by fire department</td>\n",
       "      <td>Undetermined</td>\n",
       "      <td>Multi-Unit Dwelling - Over 12 Units</td>\n",
       "      <td>Not applicable: Alarm operated OR presence/ope...</td>\n",
       "      <td>Hardwired (standalone)</td>\n",
       "      <td>Fire with smoke showing only - including vehic...</td>\n",
       "      <td>2018-08-24 16:49:36</td>\n",
       "      <td>2018-08-24 16:54:09</td>\n",
       "    </tr>\n",
       "    <tr>\n",
       "      <th>1</th>\n",
       "      <td>Cooking Area or Kitchen</td>\n",
       "      <td>Undetermined</td>\n",
       "      <td>0</td>\n",
       "      <td>28</td>\n",
       "      <td>50000</td>\n",
       "      <td>28</td>\n",
       "      <td>2018-11-24 07:19:00</td>\n",
       "      <td>Confined to part of room/area of origin</td>\n",
       "      <td>Not applicable: Occupant(s) first alerted by o...</td>\n",
       "      <td>Fire alarm system operated</td>\n",
       "      <td>Fire alarm system present</td>\n",
       "      <td>2018-11-24 07:19:00</td>\n",
       "      <td>Other Cooking Items (eg Toaster, Kettle, elec ...</td>\n",
       "      <td>142</td>\n",
       "      <td>7.0</td>\n",
       "      <td>2018-11-24 12:45:21</td>\n",
       "      <td>43.754542</td>\n",
       "      <td>-79.530419</td>\n",
       "      <td>Plastic</td>\n",
       "      <td>Extinguished by occupant</td>\n",
       "      <td>Under Investigation</td>\n",
       "      <td>Infirmary</td>\n",
       "      <td>Not applicable: Alarm operated OR presence/ope...</td>\n",
       "      <td>Interconnected</td>\n",
       "      <td>Fire extinguished prior to arrival</td>\n",
       "      <td>2018-11-24 07:09:12</td>\n",
       "      <td>2018-11-24 07:14:23</td>\n",
       "    </tr>\n",
       "    <tr>\n",
       "      <th>2</th>\n",
       "      <td>Living Area (e.g. living, TV, recreation, etc)</td>\n",
       "      <td>Not applicable (not a business)</td>\n",
       "      <td>1</td>\n",
       "      <td>16</td>\n",
       "      <td>1000000</td>\n",
       "      <td>130</td>\n",
       "      <td>2017-02-09 18:02:13</td>\n",
       "      <td>Spread beyond room of origin, same floor</td>\n",
       "      <td>Some persons (at risk) evacuated as a result o...</td>\n",
       "      <td>Fire alarm system operated</td>\n",
       "      <td>Fire alarm system present</td>\n",
       "      <td>2017-02-09 18:36:21</td>\n",
       "      <td>Undetermined</td>\n",
       "      <td>325</td>\n",
       "      <td>27.0</td>\n",
       "      <td>2017-02-09 23:36:33</td>\n",
       "      <td>43.657300</td>\n",
       "      <td>-79.373460</td>\n",
       "      <td>Undetermined (formerly 98)</td>\n",
       "      <td>Extinguished by fire department</td>\n",
       "      <td>Undetermined</td>\n",
       "      <td>Multi-Unit Dwelling - Over 12 Units</td>\n",
       "      <td>Not applicable: Alarm operated OR presence/ope...</td>\n",
       "      <td>Hardwired (standalone)</td>\n",
       "      <td>Flames showing from small area (one storey or ...</td>\n",
       "      <td>2017-02-09 17:45:07</td>\n",
       "      <td>2017-02-09 17:48:49</td>\n",
       "    </tr>\n",
       "    <tr>\n",
       "      <th>3</th>\n",
       "      <td>Undetermined  (formerly 98)</td>\n",
       "      <td>May not resume operations</td>\n",
       "      <td>0</td>\n",
       "      <td>12</td>\n",
       "      <td>1000000</td>\n",
       "      <td>14</td>\n",
       "      <td>2012-10-30 00:52:04</td>\n",
       "      <td>Entire Structure</td>\n",
       "      <td>Undetermined</td>\n",
       "      <td>Fire alarm system operation undetermined</td>\n",
       "      <td>Undetermined</td>\n",
       "      <td>2012-10-30 01:28:48</td>\n",
       "      <td>Undetermined</td>\n",
       "      <td>332</td>\n",
       "      <td>20.0</td>\n",
       "      <td>2012-11-01 16:30:31</td>\n",
       "      <td>43.649350</td>\n",
       "      <td>-79.393700</td>\n",
       "      <td>Undetermined (formerly 98)</td>\n",
       "      <td>Extinguished by fire department</td>\n",
       "      <td>Undetermined</td>\n",
       "      <td>Clothing Store, Accessories, fur</td>\n",
       "      <td>Not applicable: Alarm operated OR presence/ope...</td>\n",
       "      <td>Type undetermined</td>\n",
       "      <td>Flames showing from large area (more than one ...</td>\n",
       "      <td>2012-10-30 00:42:01</td>\n",
       "      <td>2012-10-30 00:44:58</td>\n",
       "    </tr>\n",
       "    <tr>\n",
       "      <th>4</th>\n",
       "      <td>Sleeping Area or Bedroom (inc. patients room, ...</td>\n",
       "      <td>Not applicable (not a business)</td>\n",
       "      <td>8</td>\n",
       "      <td>11</td>\n",
       "      <td>125000</td>\n",
       "      <td>2</td>\n",
       "      <td>2018-07-08 04:35:00</td>\n",
       "      <td>Spread beyond room of origin, same floor</td>\n",
       "      <td>Some persons (at risk) evacuated as a result o...</td>\n",
       "      <td>Fire alarm system operated</td>\n",
       "      <td>Fire alarm system present</td>\n",
       "      <td>2018-07-08 04:38:28</td>\n",
       "      <td>Matches or Lighters (unable to distinguish)</td>\n",
       "      <td>442</td>\n",
       "      <td>5.0</td>\n",
       "      <td>2018-07-08 16:44:07</td>\n",
       "      <td>43.697960</td>\n",
       "      <td>-79.511539</td>\n",
       "      <td>Bedding</td>\n",
       "      <td>Extinguished by fire department</td>\n",
       "      <td>Suspected Arson</td>\n",
       "      <td>Multi-Unit Dwelling - Over 12 Units</td>\n",
       "      <td>Not applicable: Alarm operated OR presence/ope...</td>\n",
       "      <td>Interconnected</td>\n",
       "      <td>Fire with no evidence from street</td>\n",
       "      <td>2018-07-08 04:08:50</td>\n",
       "      <td>2018-07-08 04:13:54</td>\n",
       "    </tr>\n",
       "  </tbody>\n",
       "</table>\n",
       "</div>"
      ],
      "text/plain": [
       "                                      area_of_origin  \\\n",
       "0                                   Porch or Balcony   \n",
       "1                            Cooking Area or Kitchen   \n",
       "2     Living Area (e.g. living, TV, recreation, etc)   \n",
       "3                        Undetermined  (formerly 98)   \n",
       "4  Sleeping Area or Bedroom (inc. patients room, ...   \n",
       "\n",
       "                   business_impact  civilian_casualties  persons_rescued  \\\n",
       "0         No business interruption                    0               86   \n",
       "1                     Undetermined                    0               28   \n",
       "2  Not applicable (not a business)                    1               16   \n",
       "3        May not resume operations                    0               12   \n",
       "4  Not applicable (not a business)                    8               11   \n",
       "\n",
       "   estimated_dollar_loss  estimated_number_of_persons_displaced  \\\n",
       "0                   3000                                      0   \n",
       "1                  50000                                     28   \n",
       "2                1000000                                    130   \n",
       "3                1000000                                     14   \n",
       "4                 125000                                      2   \n",
       "\n",
       "  ext_agent_app_or_defer_time                            extent_of_fire  \\\n",
       "0         2018-08-24 17:06:26              Confined to object of origin   \n",
       "1         2018-11-24 07:19:00   Confined to part of room/area of origin   \n",
       "2         2017-02-09 18:02:13  Spread beyond room of origin, same floor   \n",
       "3         2012-10-30 00:52:04                          Entire Structure   \n",
       "4         2018-07-08 04:35:00  Spread beyond room of origin, same floor   \n",
       "\n",
       "              fire_alarm_system_impact_on_evacuation  \\\n",
       "0  Not applicable: Occupant(s) first alerted by o...   \n",
       "1  Not applicable: Occupant(s) first alerted by o...   \n",
       "2  Some persons (at risk) evacuated as a result o...   \n",
       "3                                       Undetermined   \n",
       "4  Some persons (at risk) evacuated as a result o...   \n",
       "\n",
       "                fire_alarm_system_operation fire_alarm_system_presence  \\\n",
       "0         Fire alarm system did not operate  Fire alarm system present   \n",
       "1                Fire alarm system operated  Fire alarm system present   \n",
       "2                Fire alarm system operated  Fire alarm system present   \n",
       "3  Fire alarm system operation undetermined               Undetermined   \n",
       "4                Fire alarm system operated  Fire alarm system present   \n",
       "\n",
       "  fire_under_control_time                                    ignition_source  \\\n",
       "0     2018-08-24 17:06:28                                       Undetermined   \n",
       "1     2018-11-24 07:19:00  Other Cooking Items (eg Toaster, Kettle, elec ...   \n",
       "2     2017-02-09 18:36:21                                       Undetermined   \n",
       "3     2012-10-30 01:28:48                                       Undetermined   \n",
       "4     2018-07-08 04:38:28        Matches or Lighters (unable to distinguish)   \n",
       "\n",
       "   incident_station_area  incident_ward          clear_time   latitude  \\\n",
       "0                    114           18.0 2018-08-24 17:42:43  43.760357   \n",
       "1                    142            7.0 2018-11-24 12:45:21  43.754542   \n",
       "2                    325           27.0 2017-02-09 23:36:33  43.657300   \n",
       "3                    332           20.0 2012-11-01 16:30:31  43.649350   \n",
       "4                    442            5.0 2018-07-08 16:44:07  43.697960   \n",
       "\n",
       "   longitude      material_first_ignited           method_of_fire_control  \\\n",
       "0 -79.412479  Undetermined (formerly 98)  Extinguished by fire department   \n",
       "1 -79.530419                     Plastic         Extinguished by occupant   \n",
       "2 -79.373460  Undetermined (formerly 98)  Extinguished by fire department   \n",
       "3 -79.393700  Undetermined (formerly 98)  Extinguished by fire department   \n",
       "4 -79.511539                     Bedding  Extinguished by fire department   \n",
       "\n",
       "        possible_cause                         property_use  \\\n",
       "0         Undetermined  Multi-Unit Dwelling - Over 12 Units   \n",
       "1  Under Investigation                            Infirmary   \n",
       "2         Undetermined  Multi-Unit Dwelling - Over 12 Units   \n",
       "3         Undetermined     Clothing Store, Accessories, fur   \n",
       "4      Suspected Arson  Multi-Unit Dwelling - Over 12 Units   \n",
       "\n",
       "            smoke_alarm_at_fire_origin_alarm_failure        smoke_alarm_type  \\\n",
       "0  Not applicable: Alarm operated OR presence/ope...  Hardwired (standalone)   \n",
       "1  Not applicable: Alarm operated OR presence/ope...          Interconnected   \n",
       "2  Not applicable: Alarm operated OR presence/ope...  Hardwired (standalone)   \n",
       "3  Not applicable: Alarm operated OR presence/ope...       Type undetermined   \n",
       "4  Not applicable: Alarm operated OR presence/ope...          Interconnected   \n",
       "\n",
       "                           status_of_fire_on_arrival      tfs_alarm_time  \\\n",
       "0  Fire with smoke showing only - including vehic... 2018-08-24 16:49:36   \n",
       "1                 Fire extinguished prior to arrival 2018-11-24 07:09:12   \n",
       "2  Flames showing from small area (one storey or ... 2017-02-09 17:45:07   \n",
       "3  Flames showing from large area (more than one ... 2012-10-30 00:42:01   \n",
       "4                  Fire with no evidence from street 2018-07-08 04:08:50   \n",
       "\n",
       "     tfs_arrival_time  \n",
       "0 2018-08-24 16:54:09  \n",
       "1 2018-11-24 07:14:23  \n",
       "2 2017-02-09 17:48:49  \n",
       "3 2012-10-30 00:44:58  \n",
       "4 2018-07-08 04:13:54  "
      ]
     },
     "execution_count": 44,
     "metadata": {},
     "output_type": "execute_result"
    }
   ],
   "source": [
    "df.drop(['ext_agent_app_or_defer_time_month', 'ext_agent_app_or_defer_time_day',\n",
    " 'ext_agent_app_or_defer_time_hour',\n",
    " 'ext_agent_app_or_defer_time_minute',\n",
    " 'fire_under_control_time_month',\n",
    " 'fire_under_control_time_day',\n",
    " 'fire_under_control_time_hour',\n",
    " 'fire_under_control_time_minute',\n",
    " 'clear_time_month',\n",
    " 'clear_time_day',\n",
    " 'clear_time_hour',\n",
    " 'clear_time_minute',\n",
    " 'tfs_alarm_time_month',\n",
    " 'tfs_alarm_time_day',\n",
    " 'tfs_alarm_time_hour',\n",
    " 'tfs_alarm_time_minute',\n",
    " 'tfs_arrival_time_month',\n",
    " 'tfs_arrival_time_day',\n",
    " 'tfs_arrival_time_hour',\n",
    " 'tfs_arrival_time_minute',\n",
    " 'tfs_alarm_time_weekday'],\n",
    "        axis=1, inplace=True)\n",
    "\n",
    "df.head()"
   ]
  },
  {
   "cell_type": "code",
   "execution_count": 45,
   "id": "ea17ebc9",
   "metadata": {},
   "outputs": [],
   "source": [
    "# convert datetime columns to int because scikit-learn doesn't work well with pandas.TimeStamp\n",
    "df[datetime] = df[datetime].astype(np.int64)"
   ]
  },
  {
   "cell_type": "code",
   "execution_count": 46,
   "id": "fe079fc1",
   "metadata": {},
   "outputs": [],
   "source": [
    "df['total_time'] = total_time\n",
    "df['fire_control_time'] = fire_control_time\n",
    "df['cleaning_time'] = cleaning_time\n",
    "df['fire_time'] = fire_time"
   ]
  },
  {
   "cell_type": "code",
   "execution_count": 47,
   "id": "d2d5339e",
   "metadata": {},
   "outputs": [],
   "source": [
    "df.to_csv('df_prepared', sep=',', encoding='utf-8', index=False)"
   ]
  },
  {
   "cell_type": "markdown",
   "id": "ceb009f4",
   "metadata": {},
   "source": [
    "### Prepare training and validation sets\n",
    "We will prepair two pairs of train/validation data. \n",
    "- the first is with all features\n",
    "- the second is with features with the hightes mutal information and correlation score (mi >= 0.1, correlation score >=0.1)"
   ]
  },
  {
   "cell_type": "code",
   "execution_count": 48,
   "id": "205ca947",
   "metadata": {},
   "outputs": [],
   "source": [
    "df_full_train1, df_test1 = train_test_split(df,\n",
    "                                            test_size=0.2,\n",
    "                                            random_state=2)\n",
    "df_train1, df_val1 = train_test_split(df_full_train1,\n",
    "                                      test_size=0.25,\n",
    "                                      random_state=2)"
   ]
  },
  {
   "cell_type": "code",
   "execution_count": 49,
   "id": "f35a70fc",
   "metadata": {},
   "outputs": [
    {
     "name": "stdout",
     "output_type": "stream",
     "text": [
      "30112.970649582836 28094.030831099197 30262.680071492403\n"
     ]
    }
   ],
   "source": [
    "df_train1 = df_train1.reset_index(drop=True)\n",
    "df_val1 = df_val1.reset_index(drop=True)\n",
    "df_test1 = df_test1.reset_index(drop=True)\n",
    "print(df_train1.estimated_dollar_loss.mean(), df_val1.estimated_dollar_loss.mean(), df_test1.estimated_dollar_loss.mean())"
   ]
  },
  {
   "cell_type": "code",
   "execution_count": 50,
   "id": "8726dbf2",
   "metadata": {},
   "outputs": [],
   "source": [
    "selected = ['extent_of_fire', 'material_first_ignited', 'area_of_origin',\n",
    "            'status_of_fire_on_arrival', 'property_use', 'estimated_number_of_persons_displaced',\n",
    "            'civilian_casualties', 'tfs_alarm_time', 'tfs_arrival_time',\n",
    "            'clear_time', 'ext_agent_app_or_defer_time', 'fire_under_control_time',\n",
    "            'total_time', 'fire_control_time', 'cleaning_time', 'fire_time']"
   ]
  },
  {
   "cell_type": "code",
   "execution_count": 51,
   "id": "4d39af5d",
   "metadata": {},
   "outputs": [],
   "source": [
    "df_full_train2, df_test2 = train_test_split(df[selected], test_size=0.2, random_state=1)\n",
    "df_train2, df_val2 = train_test_split(df_full_train2, test_size=0.25, random_state=1)"
   ]
  },
  {
   "cell_type": "code",
   "execution_count": 52,
   "id": "52269794",
   "metadata": {},
   "outputs": [],
   "source": [
    "df_train2 = df_train2.reset_index(drop=True)\n",
    "df_val2 = df_val2.reset_index(drop=True)\n",
    "df_test2 = df_test2.reset_index(drop=True)"
   ]
  },
  {
   "cell_type": "code",
   "execution_count": 53,
   "id": "0a30ac2c",
   "metadata": {},
   "outputs": [],
   "source": [
    "y_train = np.log1p(df_train1.estimated_dollar_loss.values)\n",
    "y_val = np.log1p(df_val1.estimated_dollar_loss.values)\n",
    "y_test = np.log1p(df_test1.estimated_dollar_loss.values)"
   ]
  },
  {
   "cell_type": "code",
   "execution_count": 54,
   "id": "e3140ead",
   "metadata": {},
   "outputs": [],
   "source": [
    "del df_train1['estimated_dollar_loss']\n",
    "del df_val1['estimated_dollar_loss']\n",
    "del df_test1['estimated_dollar_loss']"
   ]
  },
  {
   "cell_type": "code",
   "execution_count": 55,
   "id": "b9586601",
   "metadata": {},
   "outputs": [],
   "source": [
    "y_full_train = np.log1p(df_full_train1.estimated_dollar_loss.values)"
   ]
  },
  {
   "cell_type": "code",
   "execution_count": 56,
   "id": "779efe3b",
   "metadata": {},
   "outputs": [],
   "source": [
    "del df_full_train1['estimated_dollar_loss']"
   ]
  },
  {
   "cell_type": "markdown",
   "id": "f3e9d9c8",
   "metadata": {},
   "source": [
    "### Training\n",
    "for the regression problem we will train the following models:  \n",
    "- Linear regression\n",
    "- DecisionTreeRegression\n",
    "- RandomForestRegressor\n",
    "- Gradient boosting\n",
    "- Rige"
   ]
  },
  {
   "cell_type": "code",
   "execution_count": 57,
   "id": "ecdb776b",
   "metadata": {},
   "outputs": [],
   "source": [
    "from sklearn.metrics import r2_score"
   ]
  },
  {
   "cell_type": "code",
   "execution_count": 58,
   "id": "4a09d182",
   "metadata": {},
   "outputs": [],
   "source": [
    "result = pd.DataFrame(columns = ['model', 'set', 'rmse', 'r2'])"
   ]
  },
  {
   "cell_type": "markdown",
   "id": "d2f55107",
   "metadata": {},
   "source": [
    "#### Linear regression"
   ]
  },
  {
   "cell_type": "code",
   "execution_count": 59,
   "id": "dae675bb",
   "metadata": {},
   "outputs": [
    {
     "data": {
      "text/html": [
       "<style>#sk-container-id-1 {color: black;background-color: white;}#sk-container-id-1 pre{padding: 0;}#sk-container-id-1 div.sk-toggleable {background-color: white;}#sk-container-id-1 label.sk-toggleable__label {cursor: pointer;display: block;width: 100%;margin-bottom: 0;padding: 0.3em;box-sizing: border-box;text-align: center;}#sk-container-id-1 label.sk-toggleable__label-arrow:before {content: \"▸\";float: left;margin-right: 0.25em;color: #696969;}#sk-container-id-1 label.sk-toggleable__label-arrow:hover:before {color: black;}#sk-container-id-1 div.sk-estimator:hover label.sk-toggleable__label-arrow:before {color: black;}#sk-container-id-1 div.sk-toggleable__content {max-height: 0;max-width: 0;overflow: hidden;text-align: left;background-color: #f0f8ff;}#sk-container-id-1 div.sk-toggleable__content pre {margin: 0.2em;color: black;border-radius: 0.25em;background-color: #f0f8ff;}#sk-container-id-1 input.sk-toggleable__control:checked~div.sk-toggleable__content {max-height: 200px;max-width: 100%;overflow: auto;}#sk-container-id-1 input.sk-toggleable__control:checked~label.sk-toggleable__label-arrow:before {content: \"▾\";}#sk-container-id-1 div.sk-estimator input.sk-toggleable__control:checked~label.sk-toggleable__label {background-color: #d4ebff;}#sk-container-id-1 div.sk-label input.sk-toggleable__control:checked~label.sk-toggleable__label {background-color: #d4ebff;}#sk-container-id-1 input.sk-hidden--visually {border: 0;clip: rect(1px 1px 1px 1px);clip: rect(1px, 1px, 1px, 1px);height: 1px;margin: -1px;overflow: hidden;padding: 0;position: absolute;width: 1px;}#sk-container-id-1 div.sk-estimator {font-family: monospace;background-color: #f0f8ff;border: 1px dotted black;border-radius: 0.25em;box-sizing: border-box;margin-bottom: 0.5em;}#sk-container-id-1 div.sk-estimator:hover {background-color: #d4ebff;}#sk-container-id-1 div.sk-parallel-item::after {content: \"\";width: 100%;border-bottom: 1px solid gray;flex-grow: 1;}#sk-container-id-1 div.sk-label:hover label.sk-toggleable__label {background-color: #d4ebff;}#sk-container-id-1 div.sk-serial::before {content: \"\";position: absolute;border-left: 1px solid gray;box-sizing: border-box;top: 0;bottom: 0;left: 50%;z-index: 0;}#sk-container-id-1 div.sk-serial {display: flex;flex-direction: column;align-items: center;background-color: white;padding-right: 0.2em;padding-left: 0.2em;position: relative;}#sk-container-id-1 div.sk-item {position: relative;z-index: 1;}#sk-container-id-1 div.sk-parallel {display: flex;align-items: stretch;justify-content: center;background-color: white;position: relative;}#sk-container-id-1 div.sk-item::before, #sk-container-id-1 div.sk-parallel-item::before {content: \"\";position: absolute;border-left: 1px solid gray;box-sizing: border-box;top: 0;bottom: 0;left: 50%;z-index: -1;}#sk-container-id-1 div.sk-parallel-item {display: flex;flex-direction: column;z-index: 1;position: relative;background-color: white;}#sk-container-id-1 div.sk-parallel-item:first-child::after {align-self: flex-end;width: 50%;}#sk-container-id-1 div.sk-parallel-item:last-child::after {align-self: flex-start;width: 50%;}#sk-container-id-1 div.sk-parallel-item:only-child::after {width: 0;}#sk-container-id-1 div.sk-dashed-wrapped {border: 1px dashed gray;margin: 0 0.4em 0.5em 0.4em;box-sizing: border-box;padding-bottom: 0.4em;background-color: white;}#sk-container-id-1 div.sk-label label {font-family: monospace;font-weight: bold;display: inline-block;line-height: 1.2em;}#sk-container-id-1 div.sk-label-container {text-align: center;}#sk-container-id-1 div.sk-container {/* jupyter's `normalize.less` sets `[hidden] { display: none; }` but bootstrap.min.css set `[hidden] { display: none !important; }` so we also need the `!important` here to be able to override the default hidden behavior on the sphinx rendered scikit-learn.org. See: https://github.com/scikit-learn/scikit-learn/issues/21755 */display: inline-block !important;position: relative;}#sk-container-id-1 div.sk-text-repr-fallback {display: none;}</style><div id=\"sk-container-id-1\" class=\"sk-top-container\"><div class=\"sk-text-repr-fallback\"><pre>LinearRegression()</pre><b>In a Jupyter environment, please rerun this cell to show the HTML representation or trust the notebook. <br />On GitHub, the HTML representation is unable to render, please try loading this page with nbviewer.org.</b></div><div class=\"sk-container\" hidden><div class=\"sk-item\"><div class=\"sk-estimator sk-toggleable\"><input class=\"sk-toggleable__control sk-hidden--visually\" id=\"sk-estimator-id-1\" type=\"checkbox\" checked><label for=\"sk-estimator-id-1\" class=\"sk-toggleable__label sk-toggleable__label-arrow\">LinearRegression</label><div class=\"sk-toggleable__content\"><pre>LinearRegression()</pre></div></div></div></div></div>"
      ],
      "text/plain": [
       "LinearRegression()"
      ]
     },
     "execution_count": 59,
     "metadata": {},
     "output_type": "execute_result"
    }
   ],
   "source": [
    "dv1 = DictVectorizer(sparse=False)\n",
    "train_dict1 = df_train1.to_dict(orient='records')\n",
    "X_train1 = dv1.fit_transform(train_dict1)\n",
    "\n",
    "LR1 = LinearRegression()\n",
    "LR1.fit(X_train1, y_train)"
   ]
  },
  {
   "cell_type": "code",
   "execution_count": 60,
   "id": "186add06",
   "metadata": {},
   "outputs": [],
   "source": [
    "val_dict1 = df_val1.to_dict(orient='records')\n",
    "X_val1 = dv1.transform(val_dict1)"
   ]
  },
  {
   "cell_type": "code",
   "execution_count": 61,
   "id": "cb436a73",
   "metadata": {},
   "outputs": [],
   "source": [
    "y_pred1 = LR1.predict(X_val1)"
   ]
  },
  {
   "cell_type": "code",
   "execution_count": 62,
   "id": "ff5e4584",
   "metadata": {},
   "outputs": [],
   "source": [
    "rmse1 = mean_squared_error(y_val, y_pred1, squared=False).round(2)\n",
    "r2 = r2_score(y_val, y_pred1)"
   ]
  },
  {
   "cell_type": "code",
   "execution_count": 63,
   "id": "038f6ab8",
   "metadata": {},
   "outputs": [],
   "source": [
    "result.loc[len(result)] = ['LinearRegression', 'all features', rmse1, r2]"
   ]
  },
  {
   "cell_type": "code",
   "execution_count": 64,
   "id": "aae9bc62",
   "metadata": {},
   "outputs": [
    {
     "data": {
      "text/html": [
       "<style>#sk-container-id-2 {color: black;background-color: white;}#sk-container-id-2 pre{padding: 0;}#sk-container-id-2 div.sk-toggleable {background-color: white;}#sk-container-id-2 label.sk-toggleable__label {cursor: pointer;display: block;width: 100%;margin-bottom: 0;padding: 0.3em;box-sizing: border-box;text-align: center;}#sk-container-id-2 label.sk-toggleable__label-arrow:before {content: \"▸\";float: left;margin-right: 0.25em;color: #696969;}#sk-container-id-2 label.sk-toggleable__label-arrow:hover:before {color: black;}#sk-container-id-2 div.sk-estimator:hover label.sk-toggleable__label-arrow:before {color: black;}#sk-container-id-2 div.sk-toggleable__content {max-height: 0;max-width: 0;overflow: hidden;text-align: left;background-color: #f0f8ff;}#sk-container-id-2 div.sk-toggleable__content pre {margin: 0.2em;color: black;border-radius: 0.25em;background-color: #f0f8ff;}#sk-container-id-2 input.sk-toggleable__control:checked~div.sk-toggleable__content {max-height: 200px;max-width: 100%;overflow: auto;}#sk-container-id-2 input.sk-toggleable__control:checked~label.sk-toggleable__label-arrow:before {content: \"▾\";}#sk-container-id-2 div.sk-estimator input.sk-toggleable__control:checked~label.sk-toggleable__label {background-color: #d4ebff;}#sk-container-id-2 div.sk-label input.sk-toggleable__control:checked~label.sk-toggleable__label {background-color: #d4ebff;}#sk-container-id-2 input.sk-hidden--visually {border: 0;clip: rect(1px 1px 1px 1px);clip: rect(1px, 1px, 1px, 1px);height: 1px;margin: -1px;overflow: hidden;padding: 0;position: absolute;width: 1px;}#sk-container-id-2 div.sk-estimator {font-family: monospace;background-color: #f0f8ff;border: 1px dotted black;border-radius: 0.25em;box-sizing: border-box;margin-bottom: 0.5em;}#sk-container-id-2 div.sk-estimator:hover {background-color: #d4ebff;}#sk-container-id-2 div.sk-parallel-item::after {content: \"\";width: 100%;border-bottom: 1px solid gray;flex-grow: 1;}#sk-container-id-2 div.sk-label:hover label.sk-toggleable__label {background-color: #d4ebff;}#sk-container-id-2 div.sk-serial::before {content: \"\";position: absolute;border-left: 1px solid gray;box-sizing: border-box;top: 0;bottom: 0;left: 50%;z-index: 0;}#sk-container-id-2 div.sk-serial {display: flex;flex-direction: column;align-items: center;background-color: white;padding-right: 0.2em;padding-left: 0.2em;position: relative;}#sk-container-id-2 div.sk-item {position: relative;z-index: 1;}#sk-container-id-2 div.sk-parallel {display: flex;align-items: stretch;justify-content: center;background-color: white;position: relative;}#sk-container-id-2 div.sk-item::before, #sk-container-id-2 div.sk-parallel-item::before {content: \"\";position: absolute;border-left: 1px solid gray;box-sizing: border-box;top: 0;bottom: 0;left: 50%;z-index: -1;}#sk-container-id-2 div.sk-parallel-item {display: flex;flex-direction: column;z-index: 1;position: relative;background-color: white;}#sk-container-id-2 div.sk-parallel-item:first-child::after {align-self: flex-end;width: 50%;}#sk-container-id-2 div.sk-parallel-item:last-child::after {align-self: flex-start;width: 50%;}#sk-container-id-2 div.sk-parallel-item:only-child::after {width: 0;}#sk-container-id-2 div.sk-dashed-wrapped {border: 1px dashed gray;margin: 0 0.4em 0.5em 0.4em;box-sizing: border-box;padding-bottom: 0.4em;background-color: white;}#sk-container-id-2 div.sk-label label {font-family: monospace;font-weight: bold;display: inline-block;line-height: 1.2em;}#sk-container-id-2 div.sk-label-container {text-align: center;}#sk-container-id-2 div.sk-container {/* jupyter's `normalize.less` sets `[hidden] { display: none; }` but bootstrap.min.css set `[hidden] { display: none !important; }` so we also need the `!important` here to be able to override the default hidden behavior on the sphinx rendered scikit-learn.org. See: https://github.com/scikit-learn/scikit-learn/issues/21755 */display: inline-block !important;position: relative;}#sk-container-id-2 div.sk-text-repr-fallback {display: none;}</style><div id=\"sk-container-id-2\" class=\"sk-top-container\"><div class=\"sk-text-repr-fallback\"><pre>LinearRegression()</pre><b>In a Jupyter environment, please rerun this cell to show the HTML representation or trust the notebook. <br />On GitHub, the HTML representation is unable to render, please try loading this page with nbviewer.org.</b></div><div class=\"sk-container\" hidden><div class=\"sk-item\"><div class=\"sk-estimator sk-toggleable\"><input class=\"sk-toggleable__control sk-hidden--visually\" id=\"sk-estimator-id-2\" type=\"checkbox\" checked><label for=\"sk-estimator-id-2\" class=\"sk-toggleable__label sk-toggleable__label-arrow\">LinearRegression</label><div class=\"sk-toggleable__content\"><pre>LinearRegression()</pre></div></div></div></div></div>"
      ],
      "text/plain": [
       "LinearRegression()"
      ]
     },
     "execution_count": 64,
     "metadata": {},
     "output_type": "execute_result"
    }
   ],
   "source": [
    "dv2 = DictVectorizer(sparse=False)\n",
    "train_dict2 = df_train2.to_dict(orient='records')\n",
    "X_train2 = dv2.fit_transform(train_dict2)\n",
    "\n",
    "LR2 = LinearRegression()\n",
    "LR2.fit(X_train2, y_train)"
   ]
  },
  {
   "cell_type": "code",
   "execution_count": 65,
   "id": "fb6da68e",
   "metadata": {},
   "outputs": [],
   "source": [
    "val_dict2 = df_val2.to_dict(orient='records')\n",
    "X_val2 = dv2.transform(val_dict2)\n",
    "y_pred2 = LR2.predict(X_val2)\n",
    "rmse2 = mean_squared_error(y_val, y_pred2, squared=False).round(2)\n",
    "r2 = r2_score(y_val, y_pred2)"
   ]
  },
  {
   "cell_type": "code",
   "execution_count": 66,
   "id": "c4dd8cf6",
   "metadata": {},
   "outputs": [],
   "source": [
    "result.loc[len(result)] = ['LinearRegression', 'top features', rmse2, r2]"
   ]
  },
  {
   "cell_type": "markdown",
   "id": "83c4eaad",
   "metadata": {},
   "source": [
    "#### DecisionTreeRegression"
   ]
  },
  {
   "cell_type": "code",
   "execution_count": 67,
   "id": "8b68458d",
   "metadata": {},
   "outputs": [
    {
     "data": {
      "text/html": [
       "<style>#sk-container-id-3 {color: black;background-color: white;}#sk-container-id-3 pre{padding: 0;}#sk-container-id-3 div.sk-toggleable {background-color: white;}#sk-container-id-3 label.sk-toggleable__label {cursor: pointer;display: block;width: 100%;margin-bottom: 0;padding: 0.3em;box-sizing: border-box;text-align: center;}#sk-container-id-3 label.sk-toggleable__label-arrow:before {content: \"▸\";float: left;margin-right: 0.25em;color: #696969;}#sk-container-id-3 label.sk-toggleable__label-arrow:hover:before {color: black;}#sk-container-id-3 div.sk-estimator:hover label.sk-toggleable__label-arrow:before {color: black;}#sk-container-id-3 div.sk-toggleable__content {max-height: 0;max-width: 0;overflow: hidden;text-align: left;background-color: #f0f8ff;}#sk-container-id-3 div.sk-toggleable__content pre {margin: 0.2em;color: black;border-radius: 0.25em;background-color: #f0f8ff;}#sk-container-id-3 input.sk-toggleable__control:checked~div.sk-toggleable__content {max-height: 200px;max-width: 100%;overflow: auto;}#sk-container-id-3 input.sk-toggleable__control:checked~label.sk-toggleable__label-arrow:before {content: \"▾\";}#sk-container-id-3 div.sk-estimator input.sk-toggleable__control:checked~label.sk-toggleable__label {background-color: #d4ebff;}#sk-container-id-3 div.sk-label input.sk-toggleable__control:checked~label.sk-toggleable__label {background-color: #d4ebff;}#sk-container-id-3 input.sk-hidden--visually {border: 0;clip: rect(1px 1px 1px 1px);clip: rect(1px, 1px, 1px, 1px);height: 1px;margin: -1px;overflow: hidden;padding: 0;position: absolute;width: 1px;}#sk-container-id-3 div.sk-estimator {font-family: monospace;background-color: #f0f8ff;border: 1px dotted black;border-radius: 0.25em;box-sizing: border-box;margin-bottom: 0.5em;}#sk-container-id-3 div.sk-estimator:hover {background-color: #d4ebff;}#sk-container-id-3 div.sk-parallel-item::after {content: \"\";width: 100%;border-bottom: 1px solid gray;flex-grow: 1;}#sk-container-id-3 div.sk-label:hover label.sk-toggleable__label {background-color: #d4ebff;}#sk-container-id-3 div.sk-serial::before {content: \"\";position: absolute;border-left: 1px solid gray;box-sizing: border-box;top: 0;bottom: 0;left: 50%;z-index: 0;}#sk-container-id-3 div.sk-serial {display: flex;flex-direction: column;align-items: center;background-color: white;padding-right: 0.2em;padding-left: 0.2em;position: relative;}#sk-container-id-3 div.sk-item {position: relative;z-index: 1;}#sk-container-id-3 div.sk-parallel {display: flex;align-items: stretch;justify-content: center;background-color: white;position: relative;}#sk-container-id-3 div.sk-item::before, #sk-container-id-3 div.sk-parallel-item::before {content: \"\";position: absolute;border-left: 1px solid gray;box-sizing: border-box;top: 0;bottom: 0;left: 50%;z-index: -1;}#sk-container-id-3 div.sk-parallel-item {display: flex;flex-direction: column;z-index: 1;position: relative;background-color: white;}#sk-container-id-3 div.sk-parallel-item:first-child::after {align-self: flex-end;width: 50%;}#sk-container-id-3 div.sk-parallel-item:last-child::after {align-self: flex-start;width: 50%;}#sk-container-id-3 div.sk-parallel-item:only-child::after {width: 0;}#sk-container-id-3 div.sk-dashed-wrapped {border: 1px dashed gray;margin: 0 0.4em 0.5em 0.4em;box-sizing: border-box;padding-bottom: 0.4em;background-color: white;}#sk-container-id-3 div.sk-label label {font-family: monospace;font-weight: bold;display: inline-block;line-height: 1.2em;}#sk-container-id-3 div.sk-label-container {text-align: center;}#sk-container-id-3 div.sk-container {/* jupyter's `normalize.less` sets `[hidden] { display: none; }` but bootstrap.min.css set `[hidden] { display: none !important; }` so we also need the `!important` here to be able to override the default hidden behavior on the sphinx rendered scikit-learn.org. See: https://github.com/scikit-learn/scikit-learn/issues/21755 */display: inline-block !important;position: relative;}#sk-container-id-3 div.sk-text-repr-fallback {display: none;}</style><div id=\"sk-container-id-3\" class=\"sk-top-container\"><div class=\"sk-text-repr-fallback\"><pre>DecisionTreeRegressor()</pre><b>In a Jupyter environment, please rerun this cell to show the HTML representation or trust the notebook. <br />On GitHub, the HTML representation is unable to render, please try loading this page with nbviewer.org.</b></div><div class=\"sk-container\" hidden><div class=\"sk-item\"><div class=\"sk-estimator sk-toggleable\"><input class=\"sk-toggleable__control sk-hidden--visually\" id=\"sk-estimator-id-3\" type=\"checkbox\" checked><label for=\"sk-estimator-id-3\" class=\"sk-toggleable__label sk-toggleable__label-arrow\">DecisionTreeRegressor</label><div class=\"sk-toggleable__content\"><pre>DecisionTreeRegressor()</pre></div></div></div></div></div>"
      ],
      "text/plain": [
       "DecisionTreeRegressor()"
      ]
     },
     "execution_count": 67,
     "metadata": {},
     "output_type": "execute_result"
    }
   ],
   "source": [
    "dtr1 = DecisionTreeRegressor()\n",
    "dtr1.fit(X_train1, y_train)"
   ]
  },
  {
   "cell_type": "code",
   "execution_count": 68,
   "id": "d211218b",
   "metadata": {},
   "outputs": [],
   "source": [
    "y_pred1 = dtr1.predict(X_val1)\n",
    "rmse3 = mean_squared_error(y_val, y_pred1, squared=False).round(2)\n",
    "r2 = r2_score(y_val, y_pred1)"
   ]
  },
  {
   "cell_type": "code",
   "execution_count": 69,
   "id": "2e6b1b13",
   "metadata": {},
   "outputs": [],
   "source": [
    "result.loc[len(result)] = ['DecisionTreeRegressor', 'all features', rmse3, r2]"
   ]
  },
  {
   "cell_type": "code",
   "execution_count": 70,
   "id": "060eac1e",
   "metadata": {},
   "outputs": [],
   "source": [
    "dtr2 = DecisionTreeRegressor()\n",
    "dtr2.fit(X_train2, y_train)\n",
    "y_pred2 = dtr2.predict(X_val2)\n",
    "rmse4 = mean_squared_error(y_val, y_pred2, squared=False).round(2)\n",
    "r2 = r2_score(y_val, y_pred2)"
   ]
  },
  {
   "cell_type": "code",
   "execution_count": 71,
   "id": "4c37c013",
   "metadata": {},
   "outputs": [],
   "source": [
    "result.loc[len(result)] = ['DecisionTreeRegressor', 'top features', rmse4, r2]"
   ]
  },
  {
   "cell_type": "markdown",
   "id": "0556d8e8",
   "metadata": {},
   "source": [
    "#### RandomForestRegressor"
   ]
  },
  {
   "cell_type": "code",
   "execution_count": 72,
   "id": "6a393763",
   "metadata": {},
   "outputs": [],
   "source": [
    "RF1 = RandomForestRegressor()\n",
    "RF1.fit(X_train1, y_train)\n",
    "y_pred1 = RF1.predict(X_val1)\n",
    "rmse5 = mean_squared_error(y_val, y_pred1, squared=False).round(2)\n",
    "r2 = r2_score(y_val, y_pred1)"
   ]
  },
  {
   "cell_type": "code",
   "execution_count": 73,
   "id": "f1c8b819",
   "metadata": {},
   "outputs": [],
   "source": [
    "result.loc[len(result)] = ['RandomForestRegressor', 'all features', rmse5, r2]"
   ]
  },
  {
   "cell_type": "code",
   "execution_count": 74,
   "id": "9ce9a643",
   "metadata": {},
   "outputs": [],
   "source": [
    "RF2 = RandomForestRegressor()\n",
    "RF2.fit(X_train2, y_train)\n",
    "y_pred2 = RF2.predict(X_val2)\n",
    "rmse6 = mean_squared_error(y_val, y_pred2, squared=False).round(2)\n",
    "r2 = r2_score(y_val, y_pred2)"
   ]
  },
  {
   "cell_type": "code",
   "execution_count": 75,
   "id": "2abaa8a5",
   "metadata": {},
   "outputs": [],
   "source": [
    "result.loc[len(result)] = ['RandomForestRegressor', 'top features', rmse6, r2]"
   ]
  },
  {
   "cell_type": "markdown",
   "id": "9391bbf4",
   "metadata": {},
   "source": [
    "#### Gradient boosting"
   ]
  },
  {
   "cell_type": "code",
   "execution_count": 76,
   "id": "8502e3a5",
   "metadata": {},
   "outputs": [],
   "source": [
    "import xgboost as xgb"
   ]
  },
  {
   "cell_type": "code",
   "execution_count": 77,
   "id": "4b6ebcd4",
   "metadata": {},
   "outputs": [],
   "source": [
    "features1 = dv1.get_feature_names_out()\n",
    "dtrain1 = xgb.DMatrix(X_train1, label=y_train, feature_names=features1)\n",
    "dval1 = xgb.DMatrix(X_val1, label=y_val, feature_names=features1)"
   ]
  },
  {
   "cell_type": "code",
   "execution_count": 78,
   "id": "85891c43",
   "metadata": {},
   "outputs": [],
   "source": [
    "xgb_params = {\n",
    "    'seed': 1,\n",
    "    'verbosity': 1\n",
    "}\n",
    "\n",
    "xgb1 = xgb.train(xgb_params, dtrain1)\n",
    "y_pred1 = xgb1.predict(dval1)\n",
    "rmse7 = mean_squared_error(y_val, y_pred1, squared=False).round(2)\n",
    "r2 = r2_score(y_val, y_pred1)"
   ]
  },
  {
   "cell_type": "code",
   "execution_count": 79,
   "id": "d4f7a7ef",
   "metadata": {},
   "outputs": [],
   "source": [
    "result.loc[len(result)] = ['xgboost', 'all features', rmse7, r2]"
   ]
  },
  {
   "cell_type": "code",
   "execution_count": 80,
   "id": "2396f06d",
   "metadata": {},
   "outputs": [],
   "source": [
    "features2 = dv2.get_feature_names_out()\n",
    "dtrain2 = xgb.DMatrix(X_train2, label=y_train, feature_names=features2)\n",
    "dval2 = xgb.DMatrix(X_val2, label=y_val, feature_names=features2)"
   ]
  },
  {
   "cell_type": "code",
   "execution_count": 81,
   "id": "c0659ec6",
   "metadata": {},
   "outputs": [],
   "source": [
    "xgb_params = {\n",
    "    'seed': 1,\n",
    "    'verbosity': 1\n",
    "}\n",
    "\n",
    "xgb2 = xgb.train(xgb_params, dtrain2)\n",
    "y_pred2 = xgb2.predict(dval2)\n",
    "rmse8 = mean_squared_error(y_val, y_pred2, squared=False).round(2)\n",
    "r2 = r2_score(y_val, y_pred2)"
   ]
  },
  {
   "cell_type": "code",
   "execution_count": 82,
   "id": "1144697d",
   "metadata": {},
   "outputs": [],
   "source": [
    "result.loc[len(result)] = ['xgboost', 'top features', rmse8, r2]"
   ]
  },
  {
   "cell_type": "markdown",
   "id": "b8b5fe9f",
   "metadata": {},
   "source": [
    "**Rige**"
   ]
  },
  {
   "cell_type": "code",
   "execution_count": 83,
   "id": "bfbe9205",
   "metadata": {},
   "outputs": [],
   "source": [
    "from sklearn.linear_model import Ridge"
   ]
  },
  {
   "cell_type": "code",
   "execution_count": 84,
   "id": "1e868f94",
   "metadata": {},
   "outputs": [
    {
     "name": "stderr",
     "output_type": "stream",
     "text": [
      "/Users/ekaterinakutovaia/opt/anaconda3/lib/python3.8/site-packages/sklearn/linear_model/_base.py:141: FutureWarning: 'normalize' was deprecated in version 1.0 and will be removed in 1.2.\n",
      "If you wish to scale the data, use Pipeline with a StandardScaler in a preprocessing stage. To reproduce the previous behavior:\n",
      "\n",
      "from sklearn.pipeline import make_pipeline\n",
      "\n",
      "model = make_pipeline(StandardScaler(with_mean=False), Ridge())\n",
      "\n",
      "If you wish to pass a sample_weight parameter, you need to pass it as a fit parameter to each step of the pipeline as follows:\n",
      "\n",
      "kwargs = {s[0] + '__sample_weight': sample_weight for s in model.steps}\n",
      "model.fit(X, y, **kwargs)\n",
      "\n",
      "Set parameter alpha to: original_alpha * n_samples. \n",
      "  warnings.warn(\n"
     ]
    }
   ],
   "source": [
    "R1 = Ridge(normalize=True)\n",
    "R1.fit(X_train1, y_train)\n",
    "y_pred1 = R1.predict(X_val1)\n",
    "rmse9 = mean_squared_error(y_val, y_pred1, squared=False).round(2)\n",
    "r2 = r2_score(y_val, y_pred1)"
   ]
  },
  {
   "cell_type": "code",
   "execution_count": 85,
   "id": "f309be96",
   "metadata": {},
   "outputs": [],
   "source": [
    "result.loc[len(result)] = ['Ridge', 'all features', rmse9, r2]"
   ]
  },
  {
   "cell_type": "code",
   "execution_count": 86,
   "id": "fbf51381",
   "metadata": {},
   "outputs": [
    {
     "name": "stderr",
     "output_type": "stream",
     "text": [
      "/Users/ekaterinakutovaia/opt/anaconda3/lib/python3.8/site-packages/sklearn/linear_model/_base.py:141: FutureWarning: 'normalize' was deprecated in version 1.0 and will be removed in 1.2.\n",
      "If you wish to scale the data, use Pipeline with a StandardScaler in a preprocessing stage. To reproduce the previous behavior:\n",
      "\n",
      "from sklearn.pipeline import make_pipeline\n",
      "\n",
      "model = make_pipeline(StandardScaler(with_mean=False), Ridge())\n",
      "\n",
      "If you wish to pass a sample_weight parameter, you need to pass it as a fit parameter to each step of the pipeline as follows:\n",
      "\n",
      "kwargs = {s[0] + '__sample_weight': sample_weight for s in model.steps}\n",
      "model.fit(X, y, **kwargs)\n",
      "\n",
      "Set parameter alpha to: original_alpha * n_samples. \n",
      "  warnings.warn(\n"
     ]
    }
   ],
   "source": [
    "R2 = Ridge(normalize=True)\n",
    "R2.fit(X_train2, y_train)\n",
    "y_pred2 = R2.predict(X_val2)\n",
    "rmse10 = mean_squared_error(y_val, y_pred2, squared=False).round(2)\n",
    "r2 = r2_score(y_val, y_pred2)\n",
    "result.loc[len(result)] = ['Ridge', 'top features', rmse10, r2]"
   ]
  },
  {
   "cell_type": "code",
   "execution_count": 87,
   "id": "b13f2d14",
   "metadata": {},
   "outputs": [
    {
     "data": {
      "text/html": [
       "<div>\n",
       "<style scoped>\n",
       "    .dataframe tbody tr th:only-of-type {\n",
       "        vertical-align: middle;\n",
       "    }\n",
       "\n",
       "    .dataframe tbody tr th {\n",
       "        vertical-align: top;\n",
       "    }\n",
       "\n",
       "    .dataframe thead th {\n",
       "        text-align: right;\n",
       "    }\n",
       "</style>\n",
       "<table border=\"1\" class=\"dataframe\">\n",
       "  <thead>\n",
       "    <tr style=\"text-align: right;\">\n",
       "      <th></th>\n",
       "      <th>model</th>\n",
       "      <th>set</th>\n",
       "      <th>rmse</th>\n",
       "      <th>r2</th>\n",
       "    </tr>\n",
       "  </thead>\n",
       "  <tbody>\n",
       "    <tr>\n",
       "      <th>4</th>\n",
       "      <td>RandomForestRegressor</td>\n",
       "      <td>all features</td>\n",
       "      <td>2.22</td>\n",
       "      <td>0.610500</td>\n",
       "    </tr>\n",
       "    <tr>\n",
       "      <th>6</th>\n",
       "      <td>xgboost</td>\n",
       "      <td>all features</td>\n",
       "      <td>2.23</td>\n",
       "      <td>0.607790</td>\n",
       "    </tr>\n",
       "    <tr>\n",
       "      <th>8</th>\n",
       "      <td>Ridge</td>\n",
       "      <td>all features</td>\n",
       "      <td>2.42</td>\n",
       "      <td>0.538900</td>\n",
       "    </tr>\n",
       "    <tr>\n",
       "      <th>2</th>\n",
       "      <td>DecisionTreeRegressor</td>\n",
       "      <td>all features</td>\n",
       "      <td>3.20</td>\n",
       "      <td>0.192227</td>\n",
       "    </tr>\n",
       "    <tr>\n",
       "      <th>0</th>\n",
       "      <td>LinearRegression</td>\n",
       "      <td>all features</td>\n",
       "      <td>3.50</td>\n",
       "      <td>0.031797</td>\n",
       "    </tr>\n",
       "    <tr>\n",
       "      <th>1</th>\n",
       "      <td>LinearRegression</td>\n",
       "      <td>top features</td>\n",
       "      <td>3.56</td>\n",
       "      <td>0.000135</td>\n",
       "    </tr>\n",
       "    <tr>\n",
       "      <th>7</th>\n",
       "      <td>xgboost</td>\n",
       "      <td>top features</td>\n",
       "      <td>3.57</td>\n",
       "      <td>-0.005836</td>\n",
       "    </tr>\n",
       "    <tr>\n",
       "      <th>9</th>\n",
       "      <td>Ridge</td>\n",
       "      <td>top features</td>\n",
       "      <td>3.57</td>\n",
       "      <td>-0.007810</td>\n",
       "    </tr>\n",
       "    <tr>\n",
       "      <th>5</th>\n",
       "      <td>RandomForestRegressor</td>\n",
       "      <td>top features</td>\n",
       "      <td>3.63</td>\n",
       "      <td>-0.039294</td>\n",
       "    </tr>\n",
       "    <tr>\n",
       "      <th>3</th>\n",
       "      <td>DecisionTreeRegressor</td>\n",
       "      <td>top features</td>\n",
       "      <td>5.10</td>\n",
       "      <td>-1.059423</td>\n",
       "    </tr>\n",
       "  </tbody>\n",
       "</table>\n",
       "</div>"
      ],
      "text/plain": [
       "                   model           set  rmse        r2\n",
       "4  RandomForestRegressor  all features  2.22  0.610500\n",
       "6                xgboost  all features  2.23  0.607790\n",
       "8                  Ridge  all features  2.42  0.538900\n",
       "2  DecisionTreeRegressor  all features  3.20  0.192227\n",
       "0       LinearRegression  all features  3.50  0.031797\n",
       "1       LinearRegression  top features  3.56  0.000135\n",
       "7                xgboost  top features  3.57 -0.005836\n",
       "9                  Ridge  top features  3.57 -0.007810\n",
       "5  RandomForestRegressor  top features  3.63 -0.039294\n",
       "3  DecisionTreeRegressor  top features  5.10 -1.059423"
      ]
     },
     "execution_count": 87,
     "metadata": {},
     "output_type": "execute_result"
    }
   ],
   "source": [
    "result.sort_values(by='rmse')"
   ]
  },
  {
   "cell_type": "markdown",
   "id": "1440aed1",
   "metadata": {},
   "source": [
    "### Parameter tuning\n",
    "We will tune parametres for the following models. \n",
    "- DecisionTreeRegressor\tall features (3.2)\n",
    "- RandomForestRegressor\tall features (2.22)\n",
    "- xgboost\tall features (2.23)\n",
    "- Ridge\tall features\t(2.42)"
   ]
  },
  {
   "cell_type": "code",
   "execution_count": 88,
   "id": "db77eb36",
   "metadata": {},
   "outputs": [],
   "source": [
    "final_result = pd.DataFrame(columns = ['Model', 'rmse', 'r2'])"
   ]
  },
  {
   "cell_type": "markdown",
   "id": "2358d430",
   "metadata": {},
   "source": [
    "**DecisionTreeRegressor**"
   ]
  },
  {
   "cell_type": "code",
   "execution_count": 89,
   "id": "2c8e8569",
   "metadata": {},
   "outputs": [
    {
     "name": "stdout",
     "output_type": "stream",
     "text": [
      "1 3.08\n",
      "2 2.76\n",
      "3 2.56\n",
      "4 2.46\n",
      "5 2.4\n",
      "6 2.43\n",
      "10 2.72\n",
      "15 2.95\n",
      "20 3.09\n",
      "None 3.15\n"
     ]
    }
   ],
   "source": [
    "#depth should be 4-6\n",
    "for d in [1, 2, 3, 4, 5, 6, 10, 15, 20, None]:\n",
    "    dtr1 = DecisionTreeRegressor(max_depth=d)\n",
    "    dtr1.fit(X_train1, y_train)\n",
    "    y_pred1 = dtr1.predict(X_val1)\n",
    "    rmse = mean_squared_error(y_val, y_pred1, squared=False).round(2)\n",
    "    print(d, rmse)"
   ]
  },
  {
   "cell_type": "code",
   "execution_count": 90,
   "id": "6195d716",
   "metadata": {},
   "outputs": [],
   "source": [
    "scores = []\n",
    "for d in [4, 5, 6]:\n",
    "    for s in [1, 2, 5, 10, 15, 20, 100, 200, 500]:\n",
    "        dtr1 = DecisionTreeRegressor(max_depth=d, min_samples_leaf=s)\n",
    "        dtr1.fit(X_train1, y_train)\n",
    "        y_pred1 = dtr1.predict(X_val1)\n",
    "        rmse = mean_squared_error(y_val, y_pred1, squared=False).round(3)\n",
    "        r2 = r2_score(y_val, y_pred1).round(3)\n",
    "        scores.append((d, s, rmse, r2))"
   ]
  },
  {
   "cell_type": "code",
   "execution_count": 91,
   "id": "0bee4f57",
   "metadata": {},
   "outputs": [
    {
     "data": {
      "text/html": [
       "<div>\n",
       "<style scoped>\n",
       "    .dataframe tbody tr th:only-of-type {\n",
       "        vertical-align: middle;\n",
       "    }\n",
       "\n",
       "    .dataframe tbody tr th {\n",
       "        vertical-align: top;\n",
       "    }\n",
       "\n",
       "    .dataframe thead th {\n",
       "        text-align: right;\n",
       "    }\n",
       "</style>\n",
       "<table border=\"1\" class=\"dataframe\">\n",
       "  <thead>\n",
       "    <tr style=\"text-align: right;\">\n",
       "      <th></th>\n",
       "      <th>max_depth</th>\n",
       "      <th>min_samples_leaf</th>\n",
       "      <th>rmse</th>\n",
       "      <th>r2</th>\n",
       "    </tr>\n",
       "  </thead>\n",
       "  <tbody>\n",
       "    <tr>\n",
       "      <th>23</th>\n",
       "      <td>6</td>\n",
       "      <td>20</td>\n",
       "      <td>2.376</td>\n",
       "      <td>0.554</td>\n",
       "    </tr>\n",
       "    <tr>\n",
       "      <th>21</th>\n",
       "      <td>6</td>\n",
       "      <td>10</td>\n",
       "      <td>2.386</td>\n",
       "      <td>0.550</td>\n",
       "    </tr>\n",
       "    <tr>\n",
       "      <th>22</th>\n",
       "      <td>6</td>\n",
       "      <td>15</td>\n",
       "      <td>2.392</td>\n",
       "      <td>0.548</td>\n",
       "    </tr>\n",
       "    <tr>\n",
       "      <th>12</th>\n",
       "      <td>5</td>\n",
       "      <td>10</td>\n",
       "      <td>2.392</td>\n",
       "      <td>0.548</td>\n",
       "    </tr>\n",
       "    <tr>\n",
       "      <th>14</th>\n",
       "      <td>5</td>\n",
       "      <td>20</td>\n",
       "      <td>2.393</td>\n",
       "      <td>0.547</td>\n",
       "    </tr>\n",
       "    <tr>\n",
       "      <th>13</th>\n",
       "      <td>5</td>\n",
       "      <td>15</td>\n",
       "      <td>2.401</td>\n",
       "      <td>0.544</td>\n",
       "    </tr>\n",
       "    <tr>\n",
       "      <th>11</th>\n",
       "      <td>5</td>\n",
       "      <td>5</td>\n",
       "      <td>2.402</td>\n",
       "      <td>0.544</td>\n",
       "    </tr>\n",
       "    <tr>\n",
       "      <th>9</th>\n",
       "      <td>5</td>\n",
       "      <td>1</td>\n",
       "      <td>2.405</td>\n",
       "      <td>0.543</td>\n",
       "    </tr>\n",
       "    <tr>\n",
       "      <th>10</th>\n",
       "      <td>5</td>\n",
       "      <td>2</td>\n",
       "      <td>2.405</td>\n",
       "      <td>0.543</td>\n",
       "    </tr>\n",
       "    <tr>\n",
       "      <th>20</th>\n",
       "      <td>6</td>\n",
       "      <td>5</td>\n",
       "      <td>2.411</td>\n",
       "      <td>0.541</td>\n",
       "    </tr>\n",
       "    <tr>\n",
       "      <th>19</th>\n",
       "      <td>6</td>\n",
       "      <td>2</td>\n",
       "      <td>2.431</td>\n",
       "      <td>0.533</td>\n",
       "    </tr>\n",
       "    <tr>\n",
       "      <th>18</th>\n",
       "      <td>6</td>\n",
       "      <td>1</td>\n",
       "      <td>2.431</td>\n",
       "      <td>0.533</td>\n",
       "    </tr>\n",
       "    <tr>\n",
       "      <th>24</th>\n",
       "      <td>6</td>\n",
       "      <td>100</td>\n",
       "      <td>2.456</td>\n",
       "      <td>0.523</td>\n",
       "    </tr>\n",
       "    <tr>\n",
       "      <th>15</th>\n",
       "      <td>5</td>\n",
       "      <td>100</td>\n",
       "      <td>2.461</td>\n",
       "      <td>0.521</td>\n",
       "    </tr>\n",
       "    <tr>\n",
       "      <th>0</th>\n",
       "      <td>4</td>\n",
       "      <td>1</td>\n",
       "      <td>2.463</td>\n",
       "      <td>0.521</td>\n",
       "    </tr>\n",
       "    <tr>\n",
       "      <th>4</th>\n",
       "      <td>4</td>\n",
       "      <td>15</td>\n",
       "      <td>2.463</td>\n",
       "      <td>0.521</td>\n",
       "    </tr>\n",
       "    <tr>\n",
       "      <th>3</th>\n",
       "      <td>4</td>\n",
       "      <td>10</td>\n",
       "      <td>2.463</td>\n",
       "      <td>0.521</td>\n",
       "    </tr>\n",
       "    <tr>\n",
       "      <th>2</th>\n",
       "      <td>4</td>\n",
       "      <td>5</td>\n",
       "      <td>2.463</td>\n",
       "      <td>0.521</td>\n",
       "    </tr>\n",
       "    <tr>\n",
       "      <th>1</th>\n",
       "      <td>4</td>\n",
       "      <td>2</td>\n",
       "      <td>2.463</td>\n",
       "      <td>0.521</td>\n",
       "    </tr>\n",
       "    <tr>\n",
       "      <th>5</th>\n",
       "      <td>4</td>\n",
       "      <td>20</td>\n",
       "      <td>2.473</td>\n",
       "      <td>0.517</td>\n",
       "    </tr>\n",
       "    <tr>\n",
       "      <th>6</th>\n",
       "      <td>4</td>\n",
       "      <td>100</td>\n",
       "      <td>2.504</td>\n",
       "      <td>0.504</td>\n",
       "    </tr>\n",
       "    <tr>\n",
       "      <th>25</th>\n",
       "      <td>6</td>\n",
       "      <td>200</td>\n",
       "      <td>2.518</td>\n",
       "      <td>0.499</td>\n",
       "    </tr>\n",
       "    <tr>\n",
       "      <th>16</th>\n",
       "      <td>5</td>\n",
       "      <td>200</td>\n",
       "      <td>2.521</td>\n",
       "      <td>0.498</td>\n",
       "    </tr>\n",
       "    <tr>\n",
       "      <th>7</th>\n",
       "      <td>4</td>\n",
       "      <td>200</td>\n",
       "      <td>2.534</td>\n",
       "      <td>0.492</td>\n",
       "    </tr>\n",
       "    <tr>\n",
       "      <th>8</th>\n",
       "      <td>4</td>\n",
       "      <td>500</td>\n",
       "      <td>2.641</td>\n",
       "      <td>0.449</td>\n",
       "    </tr>\n",
       "    <tr>\n",
       "      <th>17</th>\n",
       "      <td>5</td>\n",
       "      <td>500</td>\n",
       "      <td>2.641</td>\n",
       "      <td>0.449</td>\n",
       "    </tr>\n",
       "    <tr>\n",
       "      <th>26</th>\n",
       "      <td>6</td>\n",
       "      <td>500</td>\n",
       "      <td>2.641</td>\n",
       "      <td>0.449</td>\n",
       "    </tr>\n",
       "  </tbody>\n",
       "</table>\n",
       "</div>"
      ],
      "text/plain": [
       "    max_depth  min_samples_leaf   rmse     r2\n",
       "23          6                20  2.376  0.554\n",
       "21          6                10  2.386  0.550\n",
       "22          6                15  2.392  0.548\n",
       "12          5                10  2.392  0.548\n",
       "14          5                20  2.393  0.547\n",
       "13          5                15  2.401  0.544\n",
       "11          5                 5  2.402  0.544\n",
       "9           5                 1  2.405  0.543\n",
       "10          5                 2  2.405  0.543\n",
       "20          6                 5  2.411  0.541\n",
       "19          6                 2  2.431  0.533\n",
       "18          6                 1  2.431  0.533\n",
       "24          6               100  2.456  0.523\n",
       "15          5               100  2.461  0.521\n",
       "0           4                 1  2.463  0.521\n",
       "4           4                15  2.463  0.521\n",
       "3           4                10  2.463  0.521\n",
       "2           4                 5  2.463  0.521\n",
       "1           4                 2  2.463  0.521\n",
       "5           4                20  2.473  0.517\n",
       "6           4               100  2.504  0.504\n",
       "25          6               200  2.518  0.499\n",
       "16          5               200  2.521  0.498\n",
       "7           4               200  2.534  0.492\n",
       "8           4               500  2.641  0.449\n",
       "17          5               500  2.641  0.449\n",
       "26          6               500  2.641  0.449"
      ]
     },
     "execution_count": 91,
     "metadata": {},
     "output_type": "execute_result"
    }
   ],
   "source": [
    "columns = ['max_depth', 'min_samples_leaf', 'rmse', 'r2']\n",
    "df_scores = pd.DataFrame(scores, columns=columns)\n",
    "df_scores.sort_values(by='rmse')"
   ]
  },
  {
   "cell_type": "code",
   "execution_count": 92,
   "id": "9172578d",
   "metadata": {},
   "outputs": [],
   "source": [
    "dtr = DecisionTreeRegressor(max_depth=6, min_samples_leaf=15)\n",
    "dtr.fit(X_train1, y_train)\n",
    "y_pred = dtr.predict(X_val1)\n",
    "rmse = mean_squared_error(y_val, y_pred, squared=False).round(2)\n",
    "r2 = r2_score(y_val, y_pred)"
   ]
  },
  {
   "cell_type": "code",
   "execution_count": 93,
   "id": "46b4fe87",
   "metadata": {},
   "outputs": [],
   "source": [
    "final_result.loc[len(final_result)] = ['DecisionTreeRegressor', rmse, r2]"
   ]
  },
  {
   "cell_type": "markdown",
   "id": "dfdaf80a",
   "metadata": {},
   "source": [
    "**RandomForestRegressor**"
   ]
  },
  {
   "cell_type": "code",
   "execution_count": 94,
   "id": "b1dba169",
   "metadata": {},
   "outputs": [],
   "source": [
    "scores = []\n",
    "for n in range(10, 201, 10):\n",
    "    rf = RandomForestRegressor(n_estimators=n, random_state=1, n_jobs=-1)\n",
    "    rf.fit(X_train1, y_train)\n",
    "    y_pred = rf.predict(X_val1)\n",
    "    rmse = mean_squared_error(y_val, y_pred, squared=False).round(3)\n",
    "    r2 = r2_score(y_val, y_pred).round(3)\n",
    "    scores.append((n, rmse, r2))"
   ]
  },
  {
   "cell_type": "code",
   "execution_count": 95,
   "id": "ed5d4996",
   "metadata": {},
   "outputs": [
    {
     "data": {
      "text/html": [
       "<div>\n",
       "<style scoped>\n",
       "    .dataframe tbody tr th:only-of-type {\n",
       "        vertical-align: middle;\n",
       "    }\n",
       "\n",
       "    .dataframe tbody tr th {\n",
       "        vertical-align: top;\n",
       "    }\n",
       "\n",
       "    .dataframe thead th {\n",
       "        text-align: right;\n",
       "    }\n",
       "</style>\n",
       "<table border=\"1\" class=\"dataframe\">\n",
       "  <thead>\n",
       "    <tr style=\"text-align: right;\">\n",
       "      <th></th>\n",
       "      <th>n_estimators</th>\n",
       "      <th>rmse</th>\n",
       "      <th>r2</th>\n",
       "    </tr>\n",
       "  </thead>\n",
       "  <tbody>\n",
       "    <tr>\n",
       "      <th>18</th>\n",
       "      <td>190</td>\n",
       "      <td>2.221</td>\n",
       "      <td>0.610</td>\n",
       "    </tr>\n",
       "    <tr>\n",
       "      <th>17</th>\n",
       "      <td>180</td>\n",
       "      <td>2.222</td>\n",
       "      <td>0.610</td>\n",
       "    </tr>\n",
       "    <tr>\n",
       "      <th>16</th>\n",
       "      <td>170</td>\n",
       "      <td>2.222</td>\n",
       "      <td>0.610</td>\n",
       "    </tr>\n",
       "    <tr>\n",
       "      <th>19</th>\n",
       "      <td>200</td>\n",
       "      <td>2.223</td>\n",
       "      <td>0.610</td>\n",
       "    </tr>\n",
       "    <tr>\n",
       "      <th>15</th>\n",
       "      <td>160</td>\n",
       "      <td>2.224</td>\n",
       "      <td>0.609</td>\n",
       "    </tr>\n",
       "    <tr>\n",
       "      <th>14</th>\n",
       "      <td>150</td>\n",
       "      <td>2.224</td>\n",
       "      <td>0.609</td>\n",
       "    </tr>\n",
       "    <tr>\n",
       "      <th>13</th>\n",
       "      <td>140</td>\n",
       "      <td>2.224</td>\n",
       "      <td>0.609</td>\n",
       "    </tr>\n",
       "    <tr>\n",
       "      <th>12</th>\n",
       "      <td>130</td>\n",
       "      <td>2.224</td>\n",
       "      <td>0.609</td>\n",
       "    </tr>\n",
       "    <tr>\n",
       "      <th>11</th>\n",
       "      <td>120</td>\n",
       "      <td>2.226</td>\n",
       "      <td>0.608</td>\n",
       "    </tr>\n",
       "    <tr>\n",
       "      <th>10</th>\n",
       "      <td>110</td>\n",
       "      <td>2.226</td>\n",
       "      <td>0.608</td>\n",
       "    </tr>\n",
       "    <tr>\n",
       "      <th>9</th>\n",
       "      <td>100</td>\n",
       "      <td>2.231</td>\n",
       "      <td>0.607</td>\n",
       "    </tr>\n",
       "    <tr>\n",
       "      <th>8</th>\n",
       "      <td>90</td>\n",
       "      <td>2.236</td>\n",
       "      <td>0.605</td>\n",
       "    </tr>\n",
       "    <tr>\n",
       "      <th>7</th>\n",
       "      <td>80</td>\n",
       "      <td>2.244</td>\n",
       "      <td>0.602</td>\n",
       "    </tr>\n",
       "    <tr>\n",
       "      <th>6</th>\n",
       "      <td>70</td>\n",
       "      <td>2.244</td>\n",
       "      <td>0.602</td>\n",
       "    </tr>\n",
       "    <tr>\n",
       "      <th>5</th>\n",
       "      <td>60</td>\n",
       "      <td>2.244</td>\n",
       "      <td>0.602</td>\n",
       "    </tr>\n",
       "    <tr>\n",
       "      <th>4</th>\n",
       "      <td>50</td>\n",
       "      <td>2.250</td>\n",
       "      <td>0.600</td>\n",
       "    </tr>\n",
       "    <tr>\n",
       "      <th>3</th>\n",
       "      <td>40</td>\n",
       "      <td>2.257</td>\n",
       "      <td>0.597</td>\n",
       "    </tr>\n",
       "    <tr>\n",
       "      <th>2</th>\n",
       "      <td>30</td>\n",
       "      <td>2.266</td>\n",
       "      <td>0.594</td>\n",
       "    </tr>\n",
       "    <tr>\n",
       "      <th>1</th>\n",
       "      <td>20</td>\n",
       "      <td>2.286</td>\n",
       "      <td>0.587</td>\n",
       "    </tr>\n",
       "    <tr>\n",
       "      <th>0</th>\n",
       "      <td>10</td>\n",
       "      <td>2.345</td>\n",
       "      <td>0.565</td>\n",
       "    </tr>\n",
       "  </tbody>\n",
       "</table>\n",
       "</div>"
      ],
      "text/plain": [
       "    n_estimators   rmse     r2\n",
       "18           190  2.221  0.610\n",
       "17           180  2.222  0.610\n",
       "16           170  2.222  0.610\n",
       "19           200  2.223  0.610\n",
       "15           160  2.224  0.609\n",
       "14           150  2.224  0.609\n",
       "13           140  2.224  0.609\n",
       "12           130  2.224  0.609\n",
       "11           120  2.226  0.608\n",
       "10           110  2.226  0.608\n",
       "9            100  2.231  0.607\n",
       "8             90  2.236  0.605\n",
       "7             80  2.244  0.602\n",
       "6             70  2.244  0.602\n",
       "5             60  2.244  0.602\n",
       "4             50  2.250  0.600\n",
       "3             40  2.257  0.597\n",
       "2             30  2.266  0.594\n",
       "1             20  2.286  0.587\n",
       "0             10  2.345  0.565"
      ]
     },
     "execution_count": 95,
     "metadata": {},
     "output_type": "execute_result"
    }
   ],
   "source": [
    "columns = ['n_estimators', 'rmse', 'r2']\n",
    "df_scores = pd.DataFrame(scores, columns=columns)\n",
    "df_scores.sort_values(by='rmse', ascending=True)"
   ]
  },
  {
   "cell_type": "code",
   "execution_count": 96,
   "id": "bd7053b4",
   "metadata": {},
   "outputs": [
    {
     "data": {
      "text/plain": [
       "(2.22, 2.28)"
      ]
     },
     "execution_count": 96,
     "metadata": {},
     "output_type": "execute_result"
    },
    {
     "data": {
      "image/png": "[encoded data removed]",
      "text/plain": [
       "<Figure size 432x288 with 1 Axes>"
      ]
     },
     "metadata": {
      "needs_background": "light"
     },
     "output_type": "display_data"
    }
   ],
   "source": [
    "plt.plot(df_scores.n_estimators, df_scores.rmse)\n",
    "plt.ylim(2.22, 2.28)"
   ]
  },
  {
   "cell_type": "code",
   "execution_count": 97,
   "id": "d2f7b0bc",
   "metadata": {},
   "outputs": [],
   "source": [
    "scores = []\n",
    "for d in [5, 10, 15]:\n",
    "    for n in range(50, 201, 10):\n",
    "        rf = RandomForestRegressor(n_estimators=n,\n",
    "                                    max_depth=d,\n",
    "                                    random_state=1,\n",
    "                                    n_jobs=-1)\n",
    "        rf.fit(X_train1, y_train)\n",
    "        y_pred = rf.predict(X_val1)\n",
    "        rmse = mean_squared_error(y_val, y_pred, squared=False).round(3)\n",
    "        r2 = r2_score(y_val, y_pred).round(3)\n",
    "        scores.append((n, d, rmse, r2))"
   ]
  },
  {
   "cell_type": "code",
   "execution_count": 98,
   "id": "b60d7e81",
   "metadata": {},
   "outputs": [
    {
     "data": {
      "text/html": [
       "<div>\n",
       "<style scoped>\n",
       "    .dataframe tbody tr th:only-of-type {\n",
       "        vertical-align: middle;\n",
       "    }\n",
       "\n",
       "    .dataframe tbody tr th {\n",
       "        vertical-align: top;\n",
       "    }\n",
       "\n",
       "    .dataframe thead th {\n",
       "        text-align: right;\n",
       "    }\n",
       "</style>\n",
       "<table border=\"1\" class=\"dataframe\">\n",
       "  <thead>\n",
       "    <tr style=\"text-align: right;\">\n",
       "      <th></th>\n",
       "      <th>n_estimators</th>\n",
       "      <th>max_depth</th>\n",
       "      <th>rmse</th>\n",
       "      <th>r2</th>\n",
       "    </tr>\n",
       "  </thead>\n",
       "  <tbody>\n",
       "    <tr>\n",
       "      <th>46</th>\n",
       "      <td>190</td>\n",
       "      <td>15</td>\n",
       "      <td>2.225</td>\n",
       "      <td>0.609</td>\n",
       "    </tr>\n",
       "    <tr>\n",
       "      <th>44</th>\n",
       "      <td>170</td>\n",
       "      <td>15</td>\n",
       "      <td>2.226</td>\n",
       "      <td>0.608</td>\n",
       "    </tr>\n",
       "    <tr>\n",
       "      <th>47</th>\n",
       "      <td>200</td>\n",
       "      <td>15</td>\n",
       "      <td>2.226</td>\n",
       "      <td>0.608</td>\n",
       "    </tr>\n",
       "    <tr>\n",
       "      <th>45</th>\n",
       "      <td>180</td>\n",
       "      <td>15</td>\n",
       "      <td>2.226</td>\n",
       "      <td>0.608</td>\n",
       "    </tr>\n",
       "    <tr>\n",
       "      <th>42</th>\n",
       "      <td>150</td>\n",
       "      <td>15</td>\n",
       "      <td>2.227</td>\n",
       "      <td>0.608</td>\n",
       "    </tr>\n",
       "    <tr>\n",
       "      <th>43</th>\n",
       "      <td>160</td>\n",
       "      <td>15</td>\n",
       "      <td>2.228</td>\n",
       "      <td>0.608</td>\n",
       "    </tr>\n",
       "    <tr>\n",
       "      <th>41</th>\n",
       "      <td>140</td>\n",
       "      <td>15</td>\n",
       "      <td>2.229</td>\n",
       "      <td>0.607</td>\n",
       "    </tr>\n",
       "    <tr>\n",
       "      <th>40</th>\n",
       "      <td>130</td>\n",
       "      <td>15</td>\n",
       "      <td>2.229</td>\n",
       "      <td>0.607</td>\n",
       "    </tr>\n",
       "    <tr>\n",
       "      <th>38</th>\n",
       "      <td>110</td>\n",
       "      <td>15</td>\n",
       "      <td>2.230</td>\n",
       "      <td>0.607</td>\n",
       "    </tr>\n",
       "    <tr>\n",
       "      <th>39</th>\n",
       "      <td>120</td>\n",
       "      <td>15</td>\n",
       "      <td>2.231</td>\n",
       "      <td>0.607</td>\n",
       "    </tr>\n",
       "  </tbody>\n",
       "</table>\n",
       "</div>"
      ],
      "text/plain": [
       "    n_estimators  max_depth   rmse     r2\n",
       "46           190         15  2.225  0.609\n",
       "44           170         15  2.226  0.608\n",
       "47           200         15  2.226  0.608\n",
       "45           180         15  2.226  0.608\n",
       "42           150         15  2.227  0.608\n",
       "43           160         15  2.228  0.608\n",
       "41           140         15  2.229  0.607\n",
       "40           130         15  2.229  0.607\n",
       "38           110         15  2.230  0.607\n",
       "39           120         15  2.231  0.607"
      ]
     },
     "execution_count": 98,
     "metadata": {},
     "output_type": "execute_result"
    }
   ],
   "source": [
    "columns = ['n_estimators', 'max_depth', 'rmse', 'r2']\n",
    "df_scores = pd.DataFrame(scores, columns=columns)\n",
    "df_scores.sort_values(by='rmse', ascending=True).head(10)"
   ]
  },
  {
   "cell_type": "code",
   "execution_count": 99,
   "id": "2c60c88a",
   "metadata": {},
   "outputs": [
    {
     "data": {
      "text/plain": [
       "<matplotlib.legend.Legend at 0x7f7eed994f70>"
      ]
     },
     "execution_count": 99,
     "metadata": {},
     "output_type": "execute_result"
    },
    {
     "data": {
      "image/png": "[encoded data removed]",
      "text/plain": [
       "<Figure size 432x288 with 1 Axes>"
      ]
     },
     "metadata": {
      "needs_background": "light"
     },
     "output_type": "display_data"
    }
   ],
   "source": [
    "for d in [5, 10, 15]:\n",
    "    df_subset = df_scores[df_scores.max_depth == d]\n",
    "    \n",
    "    plt.plot(df_subset.n_estimators, df_subset.rmse,\n",
    "             label='max_depth=%d' % d)\n",
    "\n",
    "plt.legend()"
   ]
  },
  {
   "cell_type": "code",
   "execution_count": 100,
   "id": "4734cc33",
   "metadata": {},
   "outputs": [],
   "source": [
    "scores = []\n",
    "for d in [20, 10, 15]:\n",
    "    for n in range(50, 201, 10):\n",
    "        rf = RandomForestRegressor(n_estimators=n,\n",
    "                                    max_depth=d,\n",
    "                                    random_state=1,\n",
    "                                    n_jobs=-1)\n",
    "        rf.fit(X_train1, y_train)\n",
    "        y_pred = rf.predict(X_val1)\n",
    "        rmse = mean_squared_error(y_val, y_pred, squared=False).round(3)\n",
    "        r2 = r2_score(y_val, y_pred).round(3)\n",
    "        scores.append((n, d, rmse, r2))"
   ]
  },
  {
   "cell_type": "code",
   "execution_count": 101,
   "id": "d37ebe52",
   "metadata": {},
   "outputs": [
    {
     "data": {
      "text/html": [
       "<div>\n",
       "<style scoped>\n",
       "    .dataframe tbody tr th:only-of-type {\n",
       "        vertical-align: middle;\n",
       "    }\n",
       "\n",
       "    .dataframe tbody tr th {\n",
       "        vertical-align: top;\n",
       "    }\n",
       "\n",
       "    .dataframe thead th {\n",
       "        text-align: right;\n",
       "    }\n",
       "</style>\n",
       "<table border=\"1\" class=\"dataframe\">\n",
       "  <thead>\n",
       "    <tr style=\"text-align: right;\">\n",
       "      <th></th>\n",
       "      <th>n_estimators</th>\n",
       "      <th>max_depth</th>\n",
       "      <th>rmse</th>\n",
       "      <th>r2</th>\n",
       "    </tr>\n",
       "  </thead>\n",
       "  <tbody>\n",
       "    <tr>\n",
       "      <th>14</th>\n",
       "      <td>190</td>\n",
       "      <td>20</td>\n",
       "      <td>2.224</td>\n",
       "      <td>0.609</td>\n",
       "    </tr>\n",
       "    <tr>\n",
       "      <th>13</th>\n",
       "      <td>180</td>\n",
       "      <td>20</td>\n",
       "      <td>2.224</td>\n",
       "      <td>0.609</td>\n",
       "    </tr>\n",
       "    <tr>\n",
       "      <th>12</th>\n",
       "      <td>170</td>\n",
       "      <td>20</td>\n",
       "      <td>2.224</td>\n",
       "      <td>0.609</td>\n",
       "    </tr>\n",
       "    <tr>\n",
       "      <th>46</th>\n",
       "      <td>190</td>\n",
       "      <td>15</td>\n",
       "      <td>2.225</td>\n",
       "      <td>0.609</td>\n",
       "    </tr>\n",
       "    <tr>\n",
       "      <th>10</th>\n",
       "      <td>150</td>\n",
       "      <td>20</td>\n",
       "      <td>2.225</td>\n",
       "      <td>0.609</td>\n",
       "    </tr>\n",
       "    <tr>\n",
       "      <th>9</th>\n",
       "      <td>140</td>\n",
       "      <td>20</td>\n",
       "      <td>2.225</td>\n",
       "      <td>0.609</td>\n",
       "    </tr>\n",
       "    <tr>\n",
       "      <th>15</th>\n",
       "      <td>200</td>\n",
       "      <td>20</td>\n",
       "      <td>2.225</td>\n",
       "      <td>0.609</td>\n",
       "    </tr>\n",
       "    <tr>\n",
       "      <th>47</th>\n",
       "      <td>200</td>\n",
       "      <td>15</td>\n",
       "      <td>2.226</td>\n",
       "      <td>0.608</td>\n",
       "    </tr>\n",
       "    <tr>\n",
       "      <th>11</th>\n",
       "      <td>160</td>\n",
       "      <td>20</td>\n",
       "      <td>2.226</td>\n",
       "      <td>0.608</td>\n",
       "    </tr>\n",
       "    <tr>\n",
       "      <th>8</th>\n",
       "      <td>130</td>\n",
       "      <td>20</td>\n",
       "      <td>2.226</td>\n",
       "      <td>0.608</td>\n",
       "    </tr>\n",
       "  </tbody>\n",
       "</table>\n",
       "</div>"
      ],
      "text/plain": [
       "    n_estimators  max_depth   rmse     r2\n",
       "14           190         20  2.224  0.609\n",
       "13           180         20  2.224  0.609\n",
       "12           170         20  2.224  0.609\n",
       "46           190         15  2.225  0.609\n",
       "10           150         20  2.225  0.609\n",
       "9            140         20  2.225  0.609\n",
       "15           200         20  2.225  0.609\n",
       "47           200         15  2.226  0.608\n",
       "11           160         20  2.226  0.608\n",
       "8            130         20  2.226  0.608"
      ]
     },
     "execution_count": 101,
     "metadata": {},
     "output_type": "execute_result"
    }
   ],
   "source": [
    "columns = ['n_estimators', 'max_depth', 'rmse', 'r2']\n",
    "df_scores = pd.DataFrame(scores, columns=columns)\n",
    "df_scores.sort_values(by='rmse', ascending=True).head(10)"
   ]
  },
  {
   "cell_type": "code",
   "execution_count": 102,
   "id": "4cf4e5f1",
   "metadata": {},
   "outputs": [
    {
     "data": {
      "text/plain": [
       "<matplotlib.legend.Legend at 0x7f7ef9b10760>"
      ]
     },
     "execution_count": 102,
     "metadata": {},
     "output_type": "execute_result"
    },
    {
     "data": {
      "image/png": "[encoded data removed]",
      "text/plain": [
       "<Figure size 432x288 with 1 Axes>"
      ]
     },
     "metadata": {
      "needs_background": "light"
     },
     "output_type": "display_data"
    }
   ],
   "source": [
    "for d in [20, 10, 15]:\n",
    "    df_subset = df_scores[df_scores.max_depth == d]\n",
    "    \n",
    "    plt.plot(df_subset.n_estimators, df_subset.rmse,\n",
    "             label='max_depth=%d' % d)\n",
    "\n",
    "plt.legend()"
   ]
  },
  {
   "cell_type": "code",
   "execution_count": 103,
   "id": "4f34baa2",
   "metadata": {},
   "outputs": [],
   "source": [
    "scores = []\n",
    "for n in range(50, 201, 10):\n",
    "    for s in [1, 3, 5, 10, 50]:\n",
    "        rf = RandomForestRegressor(n_estimators=n,\n",
    "                                   max_depth=20,\n",
    "                                   min_samples_leaf=s,\n",
    "                                   random_state=1,\n",
    "                                   n_jobs=-1)\n",
    "        rf.fit(X_train1, y_train)\n",
    "        y_pred = rf.predict(X_val1)\n",
    "        rmse = mean_squared_error(y_val, y_pred, squared=False).round(3)\n",
    "        r2 = r2_score(y_val, y_pred).round(3)\n",
    "        scores.append((n, s, rmse, r2))"
   ]
  },
  {
   "cell_type": "code",
   "execution_count": 104,
   "id": "fd91e2a9",
   "metadata": {},
   "outputs": [
    {
     "data": {
      "text/html": [
       "<div>\n",
       "<style scoped>\n",
       "    .dataframe tbody tr th:only-of-type {\n",
       "        vertical-align: middle;\n",
       "    }\n",
       "\n",
       "    .dataframe tbody tr th {\n",
       "        vertical-align: top;\n",
       "    }\n",
       "\n",
       "    .dataframe thead th {\n",
       "        text-align: right;\n",
       "    }\n",
       "</style>\n",
       "<table border=\"1\" class=\"dataframe\">\n",
       "  <thead>\n",
       "    <tr style=\"text-align: right;\">\n",
       "      <th></th>\n",
       "      <th>n_estimators</th>\n",
       "      <th>min_samples_leaf</th>\n",
       "      <th>rmse</th>\n",
       "      <th>r2</th>\n",
       "    </tr>\n",
       "  </thead>\n",
       "  <tbody>\n",
       "    <tr>\n",
       "      <th>61</th>\n",
       "      <td>170</td>\n",
       "      <td>3</td>\n",
       "      <td>2.206</td>\n",
       "      <td>0.615</td>\n",
       "    </tr>\n",
       "    <tr>\n",
       "      <th>71</th>\n",
       "      <td>190</td>\n",
       "      <td>3</td>\n",
       "      <td>2.206</td>\n",
       "      <td>0.615</td>\n",
       "    </tr>\n",
       "    <tr>\n",
       "      <th>66</th>\n",
       "      <td>180</td>\n",
       "      <td>3</td>\n",
       "      <td>2.206</td>\n",
       "      <td>0.615</td>\n",
       "    </tr>\n",
       "    <tr>\n",
       "      <th>76</th>\n",
       "      <td>200</td>\n",
       "      <td>3</td>\n",
       "      <td>2.206</td>\n",
       "      <td>0.615</td>\n",
       "    </tr>\n",
       "    <tr>\n",
       "      <th>56</th>\n",
       "      <td>160</td>\n",
       "      <td>3</td>\n",
       "      <td>2.207</td>\n",
       "      <td>0.615</td>\n",
       "    </tr>\n",
       "    <tr>\n",
       "      <th>72</th>\n",
       "      <td>190</td>\n",
       "      <td>5</td>\n",
       "      <td>2.207</td>\n",
       "      <td>0.615</td>\n",
       "    </tr>\n",
       "    <tr>\n",
       "      <th>67</th>\n",
       "      <td>180</td>\n",
       "      <td>5</td>\n",
       "      <td>2.207</td>\n",
       "      <td>0.615</td>\n",
       "    </tr>\n",
       "    <tr>\n",
       "      <th>62</th>\n",
       "      <td>170</td>\n",
       "      <td>5</td>\n",
       "      <td>2.208</td>\n",
       "      <td>0.615</td>\n",
       "    </tr>\n",
       "    <tr>\n",
       "      <th>77</th>\n",
       "      <td>200</td>\n",
       "      <td>5</td>\n",
       "      <td>2.208</td>\n",
       "      <td>0.615</td>\n",
       "    </tr>\n",
       "    <tr>\n",
       "      <th>41</th>\n",
       "      <td>130</td>\n",
       "      <td>3</td>\n",
       "      <td>2.208</td>\n",
       "      <td>0.615</td>\n",
       "    </tr>\n",
       "  </tbody>\n",
       "</table>\n",
       "</div>"
      ],
      "text/plain": [
       "    n_estimators  min_samples_leaf   rmse     r2\n",
       "61           170                 3  2.206  0.615\n",
       "71           190                 3  2.206  0.615\n",
       "66           180                 3  2.206  0.615\n",
       "76           200                 3  2.206  0.615\n",
       "56           160                 3  2.207  0.615\n",
       "72           190                 5  2.207  0.615\n",
       "67           180                 5  2.207  0.615\n",
       "62           170                 5  2.208  0.615\n",
       "77           200                 5  2.208  0.615\n",
       "41           130                 3  2.208  0.615"
      ]
     },
     "execution_count": 104,
     "metadata": {},
     "output_type": "execute_result"
    }
   ],
   "source": [
    "columns = ['n_estimators', 'min_samples_leaf', 'rmse', 'r2']\n",
    "df_scores = pd.DataFrame(scores, columns=columns)\n",
    "df_scores.sort_values(by='rmse', ascending=True).head(10)"
   ]
  },
  {
   "cell_type": "code",
   "execution_count": 105,
   "id": "6c63ac2d",
   "metadata": {},
   "outputs": [
    {
     "data": {
      "text/plain": [
       "<matplotlib.legend.Legend at 0x7f7ee40b03d0>"
      ]
     },
     "execution_count": 105,
     "metadata": {},
     "output_type": "execute_result"
    },
    {
     "data": {
      "image/png": "[encoded data removed]",
      "text/plain": [
       "<Figure size 432x288 with 1 Axes>"
      ]
     },
     "metadata": {
      "needs_background": "light"
     },
     "output_type": "display_data"
    }
   ],
   "source": [
    "colors = ['black', 'blue', 'green', 'red', 'pink']\n",
    "values = [1, 3, 5, 10, 50]\n",
    "\n",
    "for s, col in zip(values, colors):\n",
    "    df_subset = df_scores[df_scores.min_samples_leaf == s]\n",
    "    plt.plot(df_subset.n_estimators, df_subset.rmse,\n",
    "             color=col,\n",
    "             label='min_samples_leaf=%d' % s)\n",
    "\n",
    "plt.legend()"
   ]
  },
  {
   "cell_type": "code",
   "execution_count": 106,
   "id": "97a9acff",
   "metadata": {},
   "outputs": [],
   "source": [
    "scores = []\n",
    "for s in [1, 3, 5, 10, 50]:\n",
    "    for n in [15, 20]:\n",
    "        rf = RandomForestRegressor(n_estimators=130,\n",
    "                                    max_depth=n,\n",
    "                                    min_samples_leaf=s,\n",
    "                                    random_state=1)\n",
    "        rf.fit(X_train1, y_train)\n",
    "        y_pred = rf.predict(X_val1)\n",
    "        rmse = mean_squared_error(y_val, y_pred, squared=False).round(3)\n",
    "        r2 = r2_score(y_val, y_pred).round(3)\n",
    "        scores.append((n, s, rmse, r2))"
   ]
  },
  {
   "cell_type": "code",
   "execution_count": 107,
   "id": "6b031949",
   "metadata": {},
   "outputs": [
    {
     "data": {
      "text/html": [
       "<div>\n",
       "<style scoped>\n",
       "    .dataframe tbody tr th:only-of-type {\n",
       "        vertical-align: middle;\n",
       "    }\n",
       "\n",
       "    .dataframe tbody tr th {\n",
       "        vertical-align: top;\n",
       "    }\n",
       "\n",
       "    .dataframe thead th {\n",
       "        text-align: right;\n",
       "    }\n",
       "</style>\n",
       "<table border=\"1\" class=\"dataframe\">\n",
       "  <thead>\n",
       "    <tr style=\"text-align: right;\">\n",
       "      <th></th>\n",
       "      <th>max_depth</th>\n",
       "      <th>min_samples_leaf</th>\n",
       "      <th>rmse</th>\n",
       "      <th>r2</th>\n",
       "    </tr>\n",
       "  </thead>\n",
       "  <tbody>\n",
       "    <tr>\n",
       "      <th>3</th>\n",
       "      <td>20</td>\n",
       "      <td>3</td>\n",
       "      <td>2.208</td>\n",
       "      <td>0.615</td>\n",
       "    </tr>\n",
       "    <tr>\n",
       "      <th>2</th>\n",
       "      <td>15</td>\n",
       "      <td>3</td>\n",
       "      <td>2.211</td>\n",
       "      <td>0.613</td>\n",
       "    </tr>\n",
       "    <tr>\n",
       "      <th>4</th>\n",
       "      <td>15</td>\n",
       "      <td>5</td>\n",
       "      <td>2.213</td>\n",
       "      <td>0.613</td>\n",
       "    </tr>\n",
       "    <tr>\n",
       "      <th>5</th>\n",
       "      <td>20</td>\n",
       "      <td>5</td>\n",
       "      <td>2.213</td>\n",
       "      <td>0.613</td>\n",
       "    </tr>\n",
       "    <tr>\n",
       "      <th>1</th>\n",
       "      <td>20</td>\n",
       "      <td>1</td>\n",
       "      <td>2.226</td>\n",
       "      <td>0.608</td>\n",
       "    </tr>\n",
       "    <tr>\n",
       "      <th>6</th>\n",
       "      <td>15</td>\n",
       "      <td>10</td>\n",
       "      <td>2.226</td>\n",
       "      <td>0.608</td>\n",
       "    </tr>\n",
       "    <tr>\n",
       "      <th>7</th>\n",
       "      <td>20</td>\n",
       "      <td>10</td>\n",
       "      <td>2.226</td>\n",
       "      <td>0.608</td>\n",
       "    </tr>\n",
       "    <tr>\n",
       "      <th>0</th>\n",
       "      <td>15</td>\n",
       "      <td>1</td>\n",
       "      <td>2.229</td>\n",
       "      <td>0.607</td>\n",
       "    </tr>\n",
       "    <tr>\n",
       "      <th>8</th>\n",
       "      <td>15</td>\n",
       "      <td>50</td>\n",
       "      <td>2.305</td>\n",
       "      <td>0.580</td>\n",
       "    </tr>\n",
       "    <tr>\n",
       "      <th>9</th>\n",
       "      <td>20</td>\n",
       "      <td>50</td>\n",
       "      <td>2.305</td>\n",
       "      <td>0.580</td>\n",
       "    </tr>\n",
       "  </tbody>\n",
       "</table>\n",
       "</div>"
      ],
      "text/plain": [
       "   max_depth  min_samples_leaf   rmse     r2\n",
       "3         20                 3  2.208  0.615\n",
       "2         15                 3  2.211  0.613\n",
       "4         15                 5  2.213  0.613\n",
       "5         20                 5  2.213  0.613\n",
       "1         20                 1  2.226  0.608\n",
       "6         15                10  2.226  0.608\n",
       "7         20                10  2.226  0.608\n",
       "0         15                 1  2.229  0.607\n",
       "8         15                50  2.305  0.580\n",
       "9         20                50  2.305  0.580"
      ]
     },
     "execution_count": 107,
     "metadata": {},
     "output_type": "execute_result"
    }
   ],
   "source": [
    "columns = ['max_depth', 'min_samples_leaf', 'rmse', 'r2']\n",
    "df_scores = pd.DataFrame(scores, columns=columns)\n",
    "df_scores.sort_values(by='rmse', ascending=True).head(10)"
   ]
  },
  {
   "cell_type": "code",
   "execution_count": 108,
   "id": "cbe551ff",
   "metadata": {},
   "outputs": [
    {
     "data": {
      "text/plain": [
       "<matplotlib.legend.Legend at 0x7f7ee40ba280>"
      ]
     },
     "execution_count": 108,
     "metadata": {},
     "output_type": "execute_result"
    },
    {
     "data": {
      "image/png": "[encoded data removed]",
      "text/plain": [
       "<Figure size 432x288 with 1 Axes>"
      ]
     },
     "metadata": {
      "needs_background": "light"
     },
     "output_type": "display_data"
    }
   ],
   "source": [
    "for d in [1, 3, 5, 10, 50]:\n",
    "    df_subset = df_scores[df_scores.min_samples_leaf == d]\n",
    "    \n",
    "    plt.plot(df_subset.max_depth, df_subset.rmse,\n",
    "             label='min_samples_leaf=%d' % d)\n",
    "\n",
    "plt.legend()"
   ]
  },
  {
   "cell_type": "code",
   "execution_count": 109,
   "id": "17f34d69",
   "metadata": {},
   "outputs": [],
   "source": [
    "rf = RandomForestRegressor(n_estimators=130,\n",
    "                           max_depth=15,\n",
    "                           random_state=1,\n",
    "                           min_samples_leaf=3,\n",
    "                           n_jobs=-1)\n",
    "rf.fit(X_train1, y_train)\n",
    "y_pred = rf.predict(X_val1)\n",
    "rmse = mean_squared_error(y_val, y_pred, squared=False).round(3)\n",
    "r2 = r2_score(y_val, y_pred).round(3)\n",
    "final_result.loc[len(final_result)] = ['RandomForestRegressor', rmse, r2]"
   ]
  },
  {
   "cell_type": "markdown",
   "id": "869fa459",
   "metadata": {},
   "source": [
    "#### Rige"
   ]
  },
  {
   "cell_type": "code",
   "execution_count": 110,
   "id": "328d43a5",
   "metadata": {},
   "outputs": [
    {
     "name": "stderr",
     "output_type": "stream",
     "text": [
      "/Users/ekaterinakutovaia/opt/anaconda3/lib/python3.8/site-packages/sklearn/linear_model/_base.py:141: FutureWarning: 'normalize' was deprecated in version 1.0 and will be removed in 1.2.\n",
      "If you wish to scale the data, use Pipeline with a StandardScaler in a preprocessing stage. To reproduce the previous behavior:\n",
      "\n",
      "from sklearn.pipeline import make_pipeline\n",
      "\n",
      "model = make_pipeline(StandardScaler(with_mean=False), Ridge())\n",
      "\n",
      "If you wish to pass a sample_weight parameter, you need to pass it as a fit parameter to each step of the pipeline as follows:\n",
      "\n",
      "kwargs = {s[0] + '__sample_weight': sample_weight for s in model.steps}\n",
      "model.fit(X, y, **kwargs)\n",
      "\n",
      "Set parameter alpha to: original_alpha * n_samples. \n",
      "  warnings.warn(\n",
      "/Users/ekaterinakutovaia/opt/anaconda3/lib/python3.8/site-packages/sklearn/linear_model/_base.py:141: FutureWarning: 'normalize' was deprecated in version 1.0 and will be removed in 1.2.\n",
      "If you wish to scale the data, use Pipeline with a StandardScaler in a preprocessing stage. To reproduce the previous behavior:\n",
      "\n",
      "from sklearn.pipeline import make_pipeline\n",
      "\n",
      "model = make_pipeline(StandardScaler(with_mean=False), Ridge())\n",
      "\n",
      "If you wish to pass a sample_weight parameter, you need to pass it as a fit parameter to each step of the pipeline as follows:\n",
      "\n",
      "kwargs = {s[0] + '__sample_weight': sample_weight for s in model.steps}\n",
      "model.fit(X, y, **kwargs)\n",
      "\n",
      "Set parameter alpha to: original_alpha * n_samples. \n",
      "  warnings.warn(\n",
      "/Users/ekaterinakutovaia/opt/anaconda3/lib/python3.8/site-packages/sklearn/linear_model/_base.py:141: FutureWarning: 'normalize' was deprecated in version 1.0 and will be removed in 1.2.\n",
      "If you wish to scale the data, use Pipeline with a StandardScaler in a preprocessing stage. To reproduce the previous behavior:\n",
      "\n",
      "from sklearn.pipeline import make_pipeline\n",
      "\n",
      "model = make_pipeline(StandardScaler(with_mean=False), Ridge())\n",
      "\n",
      "If you wish to pass a sample_weight parameter, you need to pass it as a fit parameter to each step of the pipeline as follows:\n",
      "\n",
      "kwargs = {s[0] + '__sample_weight': sample_weight for s in model.steps}\n",
      "model.fit(X, y, **kwargs)\n",
      "\n",
      "Set parameter alpha to: original_alpha * n_samples. \n",
      "  warnings.warn(\n",
      "/Users/ekaterinakutovaia/opt/anaconda3/lib/python3.8/site-packages/sklearn/linear_model/_base.py:141: FutureWarning: 'normalize' was deprecated in version 1.0 and will be removed in 1.2.\n",
      "If you wish to scale the data, use Pipeline with a StandardScaler in a preprocessing stage. To reproduce the previous behavior:\n",
      "\n",
      "from sklearn.pipeline import make_pipeline\n",
      "\n",
      "model = make_pipeline(StandardScaler(with_mean=False), Ridge())\n",
      "\n",
      "If you wish to pass a sample_weight parameter, you need to pass it as a fit parameter to each step of the pipeline as follows:\n",
      "\n",
      "kwargs = {s[0] + '__sample_weight': sample_weight for s in model.steps}\n",
      "model.fit(X, y, **kwargs)\n",
      "\n",
      "Set parameter alpha to: original_alpha * n_samples. \n",
      "  warnings.warn(\n",
      "/Users/ekaterinakutovaia/opt/anaconda3/lib/python3.8/site-packages/sklearn/linear_model/_base.py:141: FutureWarning: 'normalize' was deprecated in version 1.0 and will be removed in 1.2.\n",
      "If you wish to scale the data, use Pipeline with a StandardScaler in a preprocessing stage. To reproduce the previous behavior:\n",
      "\n",
      "from sklearn.pipeline import make_pipeline\n",
      "\n",
      "model = make_pipeline(StandardScaler(with_mean=False), Ridge())\n",
      "\n",
      "If you wish to pass a sample_weight parameter, you need to pass it as a fit parameter to each step of the pipeline as follows:\n",
      "\n",
      "kwargs = {s[0] + '__sample_weight': sample_weight for s in model.steps}\n",
      "model.fit(X, y, **kwargs)\n",
      "\n",
      "Set parameter alpha to: original_alpha * n_samples. \n",
      "  warnings.warn(\n",
      "/Users/ekaterinakutovaia/opt/anaconda3/lib/python3.8/site-packages/sklearn/linear_model/_base.py:141: FutureWarning: 'normalize' was deprecated in version 1.0 and will be removed in 1.2.\n",
      "If you wish to scale the data, use Pipeline with a StandardScaler in a preprocessing stage. To reproduce the previous behavior:\n",
      "\n",
      "from sklearn.pipeline import make_pipeline\n",
      "\n",
      "model = make_pipeline(StandardScaler(with_mean=False), Ridge())\n",
      "\n",
      "If you wish to pass a sample_weight parameter, you need to pass it as a fit parameter to each step of the pipeline as follows:\n",
      "\n",
      "kwargs = {s[0] + '__sample_weight': sample_weight for s in model.steps}\n",
      "model.fit(X, y, **kwargs)\n",
      "\n",
      "Set parameter alpha to: original_alpha * n_samples. \n",
      "  warnings.warn(\n",
      "/Users/ekaterinakutovaia/opt/anaconda3/lib/python3.8/site-packages/sklearn/linear_model/_base.py:141: FutureWarning: 'normalize' was deprecated in version 1.0 and will be removed in 1.2.\n",
      "If you wish to scale the data, use Pipeline with a StandardScaler in a preprocessing stage. To reproduce the previous behavior:\n",
      "\n",
      "from sklearn.pipeline import make_pipeline\n",
      "\n",
      "model = make_pipeline(StandardScaler(with_mean=False), Ridge())\n",
      "\n",
      "If you wish to pass a sample_weight parameter, you need to pass it as a fit parameter to each step of the pipeline as follows:\n",
      "\n",
      "kwargs = {s[0] + '__sample_weight': sample_weight for s in model.steps}\n",
      "model.fit(X, y, **kwargs)\n",
      "\n",
      "Set parameter alpha to: original_alpha * n_samples. \n",
      "  warnings.warn(\n"
     ]
    }
   ],
   "source": [
    "scores = []\n",
    "for a in [0.2, 0.4, 0.6, 0.8, 1, 2, 5]:\n",
    "    R = Ridge(normalize=True,\n",
    "             alpha=a)\n",
    "    R.fit(X_train1, y_train)\n",
    "    y_pred = R.predict(X_val1)\n",
    "    rmse = mean_squared_error(y_val, y_pred, squared=False).round(2)\n",
    "    r2 = r2_score(y_val, y_pred).round(2)\n",
    "    \n",
    "    scores.append((a, rmse, r2))"
   ]
  },
  {
   "cell_type": "code",
   "execution_count": 111,
   "id": "4438643b",
   "metadata": {},
   "outputs": [
    {
     "data": {
      "text/html": [
       "<div>\n",
       "<style scoped>\n",
       "    .dataframe tbody tr th:only-of-type {\n",
       "        vertical-align: middle;\n",
       "    }\n",
       "\n",
       "    .dataframe tbody tr th {\n",
       "        vertical-align: top;\n",
       "    }\n",
       "\n",
       "    .dataframe thead th {\n",
       "        text-align: right;\n",
       "    }\n",
       "</style>\n",
       "<table border=\"1\" class=\"dataframe\">\n",
       "  <thead>\n",
       "    <tr style=\"text-align: right;\">\n",
       "      <th></th>\n",
       "      <th>alpha</th>\n",
       "      <th>rmse</th>\n",
       "      <th>r2</th>\n",
       "    </tr>\n",
       "  </thead>\n",
       "  <tbody>\n",
       "    <tr>\n",
       "      <th>0</th>\n",
       "      <td>0.2</td>\n",
       "      <td>2.34</td>\n",
       "      <td>0.57</td>\n",
       "    </tr>\n",
       "    <tr>\n",
       "      <th>1</th>\n",
       "      <td>0.4</td>\n",
       "      <td>2.35</td>\n",
       "      <td>0.56</td>\n",
       "    </tr>\n",
       "    <tr>\n",
       "      <th>2</th>\n",
       "      <td>0.6</td>\n",
       "      <td>2.37</td>\n",
       "      <td>0.56</td>\n",
       "    </tr>\n",
       "    <tr>\n",
       "      <th>3</th>\n",
       "      <td>0.8</td>\n",
       "      <td>2.39</td>\n",
       "      <td>0.55</td>\n",
       "    </tr>\n",
       "    <tr>\n",
       "      <th>4</th>\n",
       "      <td>1.0</td>\n",
       "      <td>2.42</td>\n",
       "      <td>0.54</td>\n",
       "    </tr>\n",
       "    <tr>\n",
       "      <th>5</th>\n",
       "      <td>2.0</td>\n",
       "      <td>2.54</td>\n",
       "      <td>0.49</td>\n",
       "    </tr>\n",
       "    <tr>\n",
       "      <th>6</th>\n",
       "      <td>5.0</td>\n",
       "      <td>2.82</td>\n",
       "      <td>0.37</td>\n",
       "    </tr>\n",
       "  </tbody>\n",
       "</table>\n",
       "</div>"
      ],
      "text/plain": [
       "   alpha  rmse    r2\n",
       "0    0.2  2.34  0.57\n",
       "1    0.4  2.35  0.56\n",
       "2    0.6  2.37  0.56\n",
       "3    0.8  2.39  0.55\n",
       "4    1.0  2.42  0.54\n",
       "5    2.0  2.54  0.49\n",
       "6    5.0  2.82  0.37"
      ]
     },
     "execution_count": 111,
     "metadata": {},
     "output_type": "execute_result"
    }
   ],
   "source": [
    "columns = ['alpha', 'rmse', 'r2']\n",
    "df_scores = pd.DataFrame(scores, columns=columns)\n",
    "df_scores.sort_values(by='rmse', ascending=True).head(10)"
   ]
  },
  {
   "cell_type": "code",
   "execution_count": 112,
   "id": "83eba280",
   "metadata": {},
   "outputs": [],
   "source": [
    "pd.set_option('display.float_format', lambda x: '%.3f' % x)"
   ]
  },
  {
   "cell_type": "code",
   "execution_count": 113,
   "id": "1a871509",
   "metadata": {},
   "outputs": [
    {
     "name": "stderr",
     "output_type": "stream",
     "text": [
      "/Users/ekaterinakutovaia/opt/anaconda3/lib/python3.8/site-packages/sklearn/linear_model/_base.py:141: FutureWarning: 'normalize' was deprecated in version 1.0 and will be removed in 1.2.\n",
      "If you wish to scale the data, use Pipeline with a StandardScaler in a preprocessing stage. To reproduce the previous behavior:\n",
      "\n",
      "from sklearn.pipeline import make_pipeline\n",
      "\n",
      "model = make_pipeline(StandardScaler(with_mean=False), Ridge())\n",
      "\n",
      "If you wish to pass a sample_weight parameter, you need to pass it as a fit parameter to each step of the pipeline as follows:\n",
      "\n",
      "kwargs = {s[0] + '__sample_weight': sample_weight for s in model.steps}\n",
      "model.fit(X, y, **kwargs)\n",
      "\n",
      "Set parameter alpha to: original_alpha * n_samples. \n",
      "  warnings.warn(\n"
     ]
    }
   ],
   "source": [
    "R = Ridge(normalize=True,\n",
    "             alpha=0.2)\n",
    "R.fit(X_train1, y_train)\n",
    "y_pred = R.predict(X_val1)\n",
    "rmse = mean_squared_error(y_val, y_pred, squared=False).round(2)\n",
    "r2 = r2_score(y_val, y_pred).round(2)\n",
    "final_result.loc[len(final_result)] = ['Ridge', rmse, r2]"
   ]
  },
  {
   "cell_type": "markdown",
   "id": "8d21954a",
   "metadata": {},
   "source": [
    "#### xgb"
   ]
  },
  {
   "cell_type": "code",
   "execution_count": 114,
   "id": "6892b8cf",
   "metadata": {},
   "outputs": [],
   "source": [
    "features = dv1.get_feature_names_out()\n",
    "dtrain = xgb.DMatrix(X_train1, label=y_train, feature_names=features1)\n",
    "dval = xgb.DMatrix(X_val1, label=y_val, feature_names=features1)"
   ]
  },
  {
   "cell_type": "code",
   "execution_count": 115,
   "id": "dfe04fa8",
   "metadata": {},
   "outputs": [],
   "source": [
    "watchlist = [(dtrain, 'train'), (dval, 'val')]"
   ]
  },
  {
   "cell_type": "code",
   "execution_count": 116,
   "id": "632f2008",
   "metadata": {},
   "outputs": [],
   "source": [
    "def parse_xgb_output(output):\n",
    "    results = []\n",
    "\n",
    "    for line in output.stdout.strip().split('\\n'):\n",
    "        it_line, train_line, val_line = line.split('\\t')\n",
    "\n",
    "        it = int(it_line.strip('[]'))\n",
    "        train = float(train_line.split(':')[1])\n",
    "        val = float(val_line.split(':')[1])\n",
    "\n",
    "        results.append((it, train, val))\n",
    "    \n",
    "    columns = ['num_iter', 'train_rmse', 'val_rmse']\n",
    "    df_results = pd.DataFrame(results, columns=columns)\n",
    "    return df_results"
   ]
  },
  {
   "cell_type": "markdown",
   "id": "9e198e88",
   "metadata": {},
   "source": [
    "**eta**"
   ]
  },
  {
   "cell_type": "code",
   "execution_count": 117,
   "id": "98983b66",
   "metadata": {},
   "outputs": [],
   "source": [
    "scores = {}"
   ]
  },
  {
   "cell_type": "code",
   "execution_count": 149,
   "id": "07bcb3b6",
   "metadata": {},
   "outputs": [],
   "source": [
    "%%capture output\n",
    "for e in [0.3, 0.01, 0.1, 1, 0.05]:\n",
    "    xgb_params = {'eta': e, \n",
    "              'max_depth': 6,\n",
    "              'min_child_weight': 1,\n",
    "              'objective': 'reg:squarederror',\n",
    "              'eval_metric': 'rmse',\n",
    "              'nthread': 8,\n",
    "              \n",
    "              'seed': 1,\n",
    "              'verbosity': 1\n",
    "                 }\n",
    "\n",
    "    model = xgb.train(xgb_params,\n",
    "                  dtrain,\n",
    "                  evals=watchlist,\n",
    "                  verbose_eval=5,\n",
    "                  num_boost_round=200)\n",
    "    key = 'eta=%s' % (xgb_params['eta'])"
   ]
  },
  {
   "cell_type": "code",
   "execution_count": 158,
   "id": "2823b304",
   "metadata": {},
   "outputs": [],
   "source": [
    "df_score = parse_xgb_output(output)\n",
    "df_score_03 = df_score.iloc[0:41]\n",
    "df_score_001 = df_score.iloc[41:82]\n",
    "df_score_01 = df_score.iloc[82:123]\n",
    "df_score_1 = df_score.iloc[123:164]\n",
    "df_score_005 = df_score.iloc[165:205]"
   ]
  },
  {
   "cell_type": "code",
   "execution_count": 160,
   "id": "a82c4a28",
   "metadata": {},
   "outputs": [
    {
     "data": {
      "text/plain": [
       "(2.15, 2.5)"
      ]
     },
     "execution_count": 160,
     "metadata": {},
     "output_type": "execute_result"
    },
    {
     "data": {
      "image/png": "[encoded data removed]",
      "text/plain": [
       "<Figure size 432x288 with 1 Axes>"
      ]
     },
     "metadata": {
      "needs_background": "light"
     },
     "output_type": "display_data"
    }
   ],
   "source": [
    "plt.plot(df_score_03.num_iter, df_score_03.val_rmse, label='eta=0.3')\n",
    "plt.plot(df_score_001.num_iter, df_score_001.val_rmse, label='eta=0.01')\n",
    "plt.plot(df_score_01.num_iter, df_score_01.val_rmse, label='eta=0.1')\n",
    "plt.plot(df_score_1.num_iter, df_score_1.val_rmse, label='eta=1')\n",
    "plt.plot(df_score_005.num_iter, df_score_005.val_rmse, label='eta=0.05')\n",
    "plt.legend()\n",
    "plt.ylim(2.15, 2.5)"
   ]
  },
  {
   "cell_type": "markdown",
   "id": "1280f9e6",
   "metadata": {},
   "source": [
    "**max_depth**"
   ]
  },
  {
   "cell_type": "code",
   "execution_count": 161,
   "id": "24ad9061",
   "metadata": {},
   "outputs": [],
   "source": [
    "scores = {}"
   ]
  },
  {
   "cell_type": "code",
   "execution_count": 166,
   "id": "b913dce0",
   "metadata": {},
   "outputs": [],
   "source": [
    "%%capture output\n",
    "for md in [6, 3, 4, 10]:\n",
    "    xgb_params = {'eta': 0.1, \n",
    "              'max_depth': md,\n",
    "              'min_child_weight': 1,\n",
    "              'objective': 'reg:squarederror',\n",
    "              'eval_metric': 'rmse',\n",
    "              'nthread': 8,\n",
    "              \n",
    "              'seed': 1,\n",
    "              'verbosity': 1\n",
    "                 }\n",
    "\n",
    "    model = xgb.train(xgb_params,\n",
    "                  dtrain,\n",
    "                  evals=watchlist,\n",
    "                  verbose_eval=5,\n",
    "                  num_boost_round=200)"
   ]
  },
  {
   "cell_type": "code",
   "execution_count": 167,
   "id": "8724b877",
   "metadata": {},
   "outputs": [],
   "source": [
    "df_score = parse_xgb_output(output)\n",
    "df_score_6 = df_score.iloc[0:41]\n",
    "df_score_3 = df_score.iloc[41:82]\n",
    "df_score_4 = df_score.iloc[82:123]\n",
    "df_score_10 = df_score.iloc[123:164]"
   ]
  },
  {
   "cell_type": "code",
   "execution_count": 170,
   "id": "c31a15c4",
   "metadata": {},
   "outputs": [
    {
     "data": {
      "text/plain": [
       "(2.14, 2.4)"
      ]
     },
     "execution_count": 170,
     "metadata": {},
     "output_type": "execute_result"
    },
    {
     "data": {
      "image/png": "[encoded data removed]",
      "text/plain": [
       "<Figure size 432x288 with 1 Axes>"
      ]
     },
     "metadata": {
      "needs_background": "light"
     },
     "output_type": "display_data"
    }
   ],
   "source": [
    "plt.plot(df_score_6.num_iter, df_score_6.val_rmse, label='max_depth=6')\n",
    "plt.plot(df_score_3.num_iter, df_score_3.val_rmse, label='max_depth=3')\n",
    "plt.plot(df_score_4.num_iter, df_score_4.val_rmse, label='max_depth=4')\n",
    "plt.plot(df_score_10.num_iter, df_score_10.val_rmse, label='max_depth=10')\n",
    "plt.legend()\n",
    "plt.ylim(2.14, 2.4)"
   ]
  },
  {
   "cell_type": "markdown",
   "id": "ff2eb7b2",
   "metadata": {},
   "source": [
    "**min_child_weight (eta=0.1)**"
   ]
  },
  {
   "cell_type": "code",
   "execution_count": 171,
   "id": "dfa0a1df",
   "metadata": {},
   "outputs": [],
   "source": [
    "scores = {}"
   ]
  },
  {
   "cell_type": "code",
   "execution_count": 172,
   "id": "61c65c01",
   "metadata": {},
   "outputs": [],
   "source": [
    "%%capture output\n",
    "for mc in [1, 5, 10, 30]:\n",
    "    xgb_params = {'eta': 0.1, \n",
    "              'max_depth': 4,\n",
    "              'min_child_weight':mc,\n",
    "              'objective': 'reg:squarederror',\n",
    "              'eval_metric': 'rmse',\n",
    "              'nthread': 8,\n",
    "              \n",
    "              'seed': 1,\n",
    "              'verbosity': 1\n",
    "                 }\n",
    "\n",
    "    model = xgb.train(xgb_params,\n",
    "                  dtrain,\n",
    "                  evals=watchlist,\n",
    "                  verbose_eval=5,\n",
    "                  num_boost_round=200)"
   ]
  },
  {
   "cell_type": "code",
   "execution_count": 173,
   "id": "01635db1",
   "metadata": {},
   "outputs": [],
   "source": [
    "df_score = parse_xgb_output(output)\n",
    "df_score_1 = df_score.iloc[0:41]\n",
    "df_score_5 = df_score.iloc[41:82]\n",
    "df_score_10 = df_score.iloc[82:123]\n",
    "df_score_30 = df_score.iloc[123:164]"
   ]
  },
  {
   "cell_type": "code",
   "execution_count": 176,
   "id": "ec9582f7",
   "metadata": {},
   "outputs": [
    {
     "data": {
      "text/plain": [
       "(2.12, 2.25)"
      ]
     },
     "execution_count": 176,
     "metadata": {},
     "output_type": "execute_result"
    },
    {
     "data": {
      "image/png": "[encoded data removed]",
      "text/plain": [
       "<Figure size 432x288 with 1 Axes>"
      ]
     },
     "metadata": {
      "needs_background": "light"
     },
     "output_type": "display_data"
    }
   ],
   "source": [
    "plt.plot(df_score_1.num_iter, df_score_1.val_rmse, label='min_child_weight=1')\n",
    "plt.plot(df_score_5.num_iter, df_score_5.val_rmse, label='min_child_weight=5')\n",
    "plt.plot(df_score_10.num_iter, df_score_10.val_rmse, label='min_child_weight=10')\n",
    "plt.plot(df_score_30.num_iter, df_score_30.val_rmse, label='min_child_weight=30')\n",
    "plt.legend()\n",
    "plt.ylim(2.12, 2.25)"
   ]
  },
  {
   "cell_type": "markdown",
   "id": "04da8f23",
   "metadata": {},
   "source": [
    "**main parametres are tuned**\n",
    "- eta = 0.1\n",
    "- max_depth = 4\n",
    "- min_cild_wheit = 5\n",
    "- trees = 140"
   ]
  },
  {
   "cell_type": "markdown",
   "id": "7051a846",
   "metadata": {},
   "source": [
    "**colsample_bytree** "
   ]
  },
  {
   "cell_type": "code",
   "execution_count": 177,
   "id": "4b7d13d7",
   "metadata": {},
   "outputs": [],
   "source": [
    "scores = {}"
   ]
  },
  {
   "cell_type": "code",
   "execution_count": 178,
   "id": "6272f287",
   "metadata": {},
   "outputs": [],
   "source": [
    "%%capture output\n",
    "for cb in [1, 0.5, 0.2]:\n",
    "    xgb_params = {'eta': 0.1, \n",
    "              'max_depth': 4,\n",
    "              'min_child_weight':5,\n",
    "              'colsample_bytree':cb,\n",
    "              'objective': 'reg:squarederror',\n",
    "              'eval_metric': 'rmse',\n",
    "              'nthread': 8,\n",
    "              \n",
    "              'seed': 1,\n",
    "              'verbosity': 1\n",
    "                 }\n",
    "\n",
    "    model = xgb.train(xgb_params,\n",
    "                  dtrain,\n",
    "                  evals=watchlist,\n",
    "                  verbose_eval=5,\n",
    "                  num_boost_round=200)"
   ]
  },
  {
   "cell_type": "code",
   "execution_count": 179,
   "id": "a0055329",
   "metadata": {},
   "outputs": [],
   "source": [
    "df_score = parse_xgb_output(output)\n",
    "df_score_1 = df_score.iloc[0:41]\n",
    "df_score_05 = df_score.iloc[41:82]\n",
    "df_score_02 = df_score.iloc[82:123]"
   ]
  },
  {
   "cell_type": "code",
   "execution_count": 181,
   "id": "7ad7b087",
   "metadata": {},
   "outputs": [
    {
     "data": {
      "text/plain": [
       "(2.1, 2.2)"
      ]
     },
     "execution_count": 181,
     "metadata": {},
     "output_type": "execute_result"
    },
    {
     "data": {
      "image/png": "[encoded data removed]",
      "text/plain": [
       "<Figure size 432x288 with 1 Axes>"
      ]
     },
     "metadata": {
      "needs_background": "light"
     },
     "output_type": "display_data"
    }
   ],
   "source": [
    "plt.plot(df_score_1.num_iter, df_score_1.val_rmse, label='colsample_bytree=1')\n",
    "plt.plot(df_score_05.num_iter, df_score_05.val_rmse, label='colsample_bytree=0.5')\n",
    "plt.plot(df_score_02.num_iter, df_score_02.val_rmse, label='colsample_bytree=0.2')\n",
    "plt.legend()\n",
    "plt.ylim(2.1, 2.2)"
   ]
  },
  {
   "cell_type": "markdown",
   "id": "91eab568",
   "metadata": {},
   "source": [
    "**subsample**"
   ]
  },
  {
   "cell_type": "code",
   "execution_count": 182,
   "id": "6602a937",
   "metadata": {},
   "outputs": [],
   "source": [
    "scores = {}"
   ]
  },
  {
   "cell_type": "code",
   "execution_count": 184,
   "id": "02c264b3",
   "metadata": {},
   "outputs": [],
   "source": [
    "%%capture output\n",
    "for s in [1, 0.5, 0.2]:\n",
    "    xgb_params = {'eta': 0.1, \n",
    "              'max_depth': 4,\n",
    "              'min_child_weight':5,\n",
    "              'colsample_bytree':0.2,\n",
    "              'subsample': s,\n",
    "              'objective': 'reg:squarederror',\n",
    "              'eval_metric': 'rmse',\n",
    "              'nthread': 8,\n",
    "              \n",
    "              'seed': 1,\n",
    "              'verbosity': 1\n",
    "             }\n",
    "\n",
    "    model = xgb.train(xgb_params,\n",
    "                  dtrain,\n",
    "                  evals=watchlist,\n",
    "                  verbose_eval=5,\n",
    "                  num_boost_round=200)"
   ]
  },
  {
   "cell_type": "code",
   "execution_count": 185,
   "id": "578cea37",
   "metadata": {},
   "outputs": [],
   "source": [
    "df_score = parse_xgb_output(output)\n",
    "df_score_1 = df_score.iloc[0:41]\n",
    "df_score_05 = df_score.iloc[41:82]\n",
    "df_score_02 = df_score.iloc[82:123]"
   ]
  },
  {
   "cell_type": "code",
   "execution_count": 188,
   "id": "ee5dda65",
   "metadata": {},
   "outputs": [
    {
     "data": {
      "text/plain": [
       "(2.1, 2.2)"
      ]
     },
     "execution_count": 188,
     "metadata": {},
     "output_type": "execute_result"
    },
    {
     "data": {
      "image/png": "[encoded data removed]",
      "text/plain": [
       "<Figure size 432x288 with 1 Axes>"
      ]
     },
     "metadata": {
      "needs_background": "light"
     },
     "output_type": "display_data"
    }
   ],
   "source": [
    "plt.plot(df_score_1.num_iter, df_score_1.val_rmse, label='subsample=1')\n",
    "plt.plot(df_score_05.num_iter, df_score_05.val_rmse, label='subsample=0.5')\n",
    "plt.plot(df_score_02.num_iter, df_score_02.val_rmse, label='subsample=0.2')\n",
    "plt.legend()\n",
    "plt.ylim(2.1, 2.2)"
   ]
  },
  {
   "cell_type": "markdown",
   "id": "0fa5c5dc",
   "metadata": {},
   "source": [
    "**final xgb model**"
   ]
  },
  {
   "cell_type": "code",
   "execution_count": 189,
   "id": "8411824f",
   "metadata": {},
   "outputs": [
    {
     "name": "stdout",
     "output_type": "stream",
     "text": [
      "[0]\ttrain-rmse:6.92419\tval-rmse:6.90042\n",
      "[5]\ttrain-rmse:4.61995\tval-rmse:4.60460\n",
      "[10]\ttrain-rmse:3.41938\tval-rmse:3.39542\n",
      "[15]\ttrain-rmse:2.80995\tval-rmse:2.77242\n",
      "[20]\ttrain-rmse:2.51469\tval-rmse:2.48577\n",
      "[25]\ttrain-rmse:2.36151\tval-rmse:2.34327\n",
      "[30]\ttrain-rmse:2.28361\tval-rmse:2.27223\n",
      "[35]\ttrain-rmse:2.23743\tval-rmse:2.23138\n",
      "[40]\ttrain-rmse:2.19587\tval-rmse:2.19932\n",
      "[45]\ttrain-rmse:2.16586\tval-rmse:2.17847\n",
      "[50]\ttrain-rmse:2.14781\tval-rmse:2.16302\n",
      "[55]\ttrain-rmse:2.13091\tval-rmse:2.15559\n",
      "[60]\ttrain-rmse:2.11674\tval-rmse:2.14906\n",
      "[65]\ttrain-rmse:2.10497\tval-rmse:2.14666\n",
      "[70]\ttrain-rmse:2.09083\tval-rmse:2.13739\n",
      "[75]\ttrain-rmse:2.08047\tval-rmse:2.13336\n",
      "[80]\ttrain-rmse:2.06934\tval-rmse:2.13157\n",
      "[85]\ttrain-rmse:2.05810\tval-rmse:2.12906\n",
      "[90]\ttrain-rmse:2.05145\tval-rmse:2.12565\n",
      "[95]\ttrain-rmse:2.04367\tval-rmse:2.12188\n",
      "[100]\ttrain-rmse:2.03418\tval-rmse:2.12204\n",
      "[105]\ttrain-rmse:2.02749\tval-rmse:2.12022\n",
      "[110]\ttrain-rmse:2.01950\tval-rmse:2.11840\n",
      "[115]\ttrain-rmse:2.01190\tval-rmse:2.11698\n",
      "[120]\ttrain-rmse:2.00540\tval-rmse:2.11577\n",
      "[125]\ttrain-rmse:1.99857\tval-rmse:2.11494\n",
      "[130]\ttrain-rmse:1.99295\tval-rmse:2.11497\n",
      "[135]\ttrain-rmse:1.98496\tval-rmse:2.11240\n",
      "[139]\ttrain-rmse:1.98078\tval-rmse:2.11190\n"
     ]
    },
    {
     "data": {
      "text/plain": [
       "(2.11, 0.6474340281752463)"
      ]
     },
     "execution_count": 189,
     "metadata": {},
     "output_type": "execute_result"
    }
   ],
   "source": [
    "xgb_params = {'eta': 0.1, \n",
    "              'max_depth': 4,\n",
    "              'min_child_weight':5,\n",
    "              'colsample_bytree':0.2,\n",
    "              'objective': 'reg:squarederror',\n",
    "              'eval_metric': 'rmse',\n",
    "              'nthread': 8,\n",
    "              \n",
    "              'seed': 1,\n",
    "              'verbosity': 1\n",
    "}\n",
    "\n",
    "model = xgb.train(xgb_params,\n",
    "                  dtrain,\n",
    "                  evals=watchlist,\n",
    "                  verbose_eval=5,\n",
    "                  num_boost_round=140)\n",
    "\n",
    "y_pred = model.predict(dval)\n",
    "rmse = mean_squared_error(y_val, y_pred, squared=False).round(2)\n",
    "r2 = r2_score(y_val, y_pred)\n",
    "rmse, r2"
   ]
  },
  {
   "cell_type": "code",
   "execution_count": 191,
   "id": "34ee153b",
   "metadata": {},
   "outputs": [],
   "source": [
    "final_result.loc[len(final_result)] = ['XGB', rmse, r2]"
   ]
  },
  {
   "cell_type": "code",
   "execution_count": 192,
   "id": "f15fab5c",
   "metadata": {},
   "outputs": [
    {
     "data": {
      "text/html": [
       "<div>\n",
       "<style scoped>\n",
       "    .dataframe tbody tr th:only-of-type {\n",
       "        vertical-align: middle;\n",
       "    }\n",
       "\n",
       "    .dataframe tbody tr th {\n",
       "        vertical-align: top;\n",
       "    }\n",
       "\n",
       "    .dataframe thead th {\n",
       "        text-align: right;\n",
       "    }\n",
       "</style>\n",
       "<table border=\"1\" class=\"dataframe\">\n",
       "  <thead>\n",
       "    <tr style=\"text-align: right;\">\n",
       "      <th></th>\n",
       "      <th>Model</th>\n",
       "      <th>rmse</th>\n",
       "      <th>r2</th>\n",
       "    </tr>\n",
       "  </thead>\n",
       "  <tbody>\n",
       "    <tr>\n",
       "      <th>3</th>\n",
       "      <td>XGB</td>\n",
       "      <td>2.110</td>\n",
       "      <td>0.647</td>\n",
       "    </tr>\n",
       "    <tr>\n",
       "      <th>1</th>\n",
       "      <td>RandomForestRegressor</td>\n",
       "      <td>2.211</td>\n",
       "      <td>0.613</td>\n",
       "    </tr>\n",
       "    <tr>\n",
       "      <th>2</th>\n",
       "      <td>Ridge</td>\n",
       "      <td>2.340</td>\n",
       "      <td>0.570</td>\n",
       "    </tr>\n",
       "    <tr>\n",
       "      <th>0</th>\n",
       "      <td>DecisionTreeRegressor</td>\n",
       "      <td>2.390</td>\n",
       "      <td>0.548</td>\n",
       "    </tr>\n",
       "  </tbody>\n",
       "</table>\n",
       "</div>"
      ],
      "text/plain": [
       "                   Model  rmse    r2\n",
       "3                    XGB 2.110 0.647\n",
       "1  RandomForestRegressor 2.211 0.613\n",
       "2                  Ridge 2.340 0.570\n",
       "0  DecisionTreeRegressor 2.390 0.548"
      ]
     },
     "execution_count": 192,
     "metadata": {},
     "output_type": "execute_result"
    }
   ],
   "source": [
    "final_result.sort_values(by='rmse')"
   ]
  },
  {
   "cell_type": "markdown",
   "id": "5e3bd157",
   "metadata": {},
   "source": [
    "**training XGB model on train+val data**"
   ]
  },
  {
   "cell_type": "code",
   "execution_count": 193,
   "id": "8ce0db46",
   "metadata": {},
   "outputs": [],
   "source": [
    "dv = DictVectorizer(sparse=False)\n",
    "train_dict = df_full_train1.to_dict(orient='records')\n",
    "X_full_train = dv.fit_transform(train_dict)\n",
    "\n",
    "test_dict = df_test1.to_dict(orient='records')\n",
    "X_test = dv.transform(test_dict)"
   ]
  },
  {
   "cell_type": "code",
   "execution_count": 194,
   "id": "c380839c",
   "metadata": {},
   "outputs": [],
   "source": [
    "features = dv.get_feature_names_out()\n",
    "dtrain = xgb.DMatrix(X_full_train, label=y_full_train, feature_names=features)\n",
    "dtest = xgb.DMatrix(X_test, label=y_test, feature_names=features)"
   ]
  },
  {
   "cell_type": "code",
   "execution_count": 195,
   "id": "438e4300",
   "metadata": {},
   "outputs": [],
   "source": [
    "watchlist = [(dtrain, 'train'), (dtest, 'test')]"
   ]
  },
  {
   "cell_type": "code",
   "execution_count": 196,
   "id": "947b687d",
   "metadata": {},
   "outputs": [
    {
     "name": "stdout",
     "output_type": "stream",
     "text": [
      "[0]\ttrain-rmse:6.87819\ttest-rmse:6.92006\n",
      "[5]\ttrain-rmse:4.61169\ttest-rmse:4.64699\n",
      "[10]\ttrain-rmse:3.45867\ttest-rmse:3.48034\n",
      "[15]\ttrain-rmse:2.83565\ttest-rmse:2.85609\n",
      "[20]\ttrain-rmse:2.51504\ttest-rmse:2.53414\n",
      "[25]\ttrain-rmse:2.36176\ttest-rmse:2.38651\n",
      "[30]\ttrain-rmse:2.28046\ttest-rmse:2.30823\n",
      "[35]\ttrain-rmse:2.23227\ttest-rmse:2.26545\n",
      "[40]\ttrain-rmse:2.19746\ttest-rmse:2.23838\n",
      "[45]\ttrain-rmse:2.16769\ttest-rmse:2.21934\n",
      "[50]\ttrain-rmse:2.14668\ttest-rmse:2.20405\n",
      "[55]\ttrain-rmse:2.13018\ttest-rmse:2.19432\n",
      "[60]\ttrain-rmse:2.11811\ttest-rmse:2.18942\n",
      "[65]\ttrain-rmse:2.10803\ttest-rmse:2.18247\n",
      "[70]\ttrain-rmse:2.09614\ttest-rmse:2.17671\n",
      "[75]\ttrain-rmse:2.08721\ttest-rmse:2.17053\n",
      "[80]\ttrain-rmse:2.07842\ttest-rmse:2.16766\n",
      "[85]\ttrain-rmse:2.07039\ttest-rmse:2.16273\n",
      "[90]\ttrain-rmse:2.06402\ttest-rmse:2.16019\n",
      "[95]\ttrain-rmse:2.05770\ttest-rmse:2.15834\n",
      "[100]\ttrain-rmse:2.05091\ttest-rmse:2.15401\n",
      "[105]\ttrain-rmse:2.04280\ttest-rmse:2.15224\n",
      "[110]\ttrain-rmse:2.03506\ttest-rmse:2.15111\n",
      "[115]\ttrain-rmse:2.02810\ttest-rmse:2.15011\n",
      "[120]\ttrain-rmse:2.01986\ttest-rmse:2.14869\n",
      "[125]\ttrain-rmse:2.01380\ttest-rmse:2.14615\n",
      "[130]\ttrain-rmse:2.00750\ttest-rmse:2.14628\n",
      "[135]\ttrain-rmse:2.00260\ttest-rmse:2.14343\n",
      "[139]\ttrain-rmse:1.99764\ttest-rmse:2.14236\n"
     ]
    },
    {
     "data": {
      "text/plain": [
       "(2.14, 0.63)"
      ]
     },
     "execution_count": 196,
     "metadata": {},
     "output_type": "execute_result"
    }
   ],
   "source": [
    "xgb_params = {'eta': 0.1, \n",
    "              'max_depth': 4,\n",
    "              'min_child_weight':5,\n",
    "              'colsample_bytree':0.2,\n",
    "              'objective': 'reg:squarederror',\n",
    "              'eval_metric': 'rmse',\n",
    "              'nthread': 8,\n",
    "              \n",
    "              'seed': 1,\n",
    "              'verbosity': 1\n",
    "}\n",
    "\n",
    "model = xgb.train(xgb_params,\n",
    "                  dtrain,\n",
    "                  evals=watchlist,\n",
    "                  verbose_eval=5,\n",
    "                  num_boost_round=140)\n",
    "\n",
    "y_pred = model.predict(dtest)\n",
    "rmse = mean_squared_error(y_test, y_pred, squared=False).round(2)\n",
    "r2 = r2_score(y_test, y_pred).round(2)\n",
    "rmse, r2"
   ]
  },
  {
   "cell_type": "code",
   "execution_count": 197,
   "id": "f841a037",
   "metadata": {},
   "outputs": [
    {
     "data": {
      "text/plain": [
       "<matplotlib.legend.Legend at 0x7f7ec19140a0>"
      ]
     },
     "execution_count": 197,
     "metadata": {},
     "output_type": "execute_result"
    },
    {
     "data": {
      "image/png": "[encoded data removed]",
      "text/plain": [
       "<Figure size 432x288 with 1 Axes>"
      ]
     },
     "metadata": {
      "needs_background": "light"
     },
     "output_type": "display_data"
    }
   ],
   "source": [
    "sns.histplot(y_test, label='target', color='red', alpha=0.5, bins=50)\n",
    "sns.histplot(y_pred, label='prediction', color='blue',  alpha=0.5, bins=50)\n",
    "plt.legend()"
   ]
  },
  {
   "cell_type": "code",
   "execution_count": 198,
   "id": "35c656ea",
   "metadata": {},
   "outputs": [
    {
     "data": {
      "text/html": [
       "<div>\n",
       "<style scoped>\n",
       "    .dataframe tbody tr th:only-of-type {\n",
       "        vertical-align: middle;\n",
       "    }\n",
       "\n",
       "    .dataframe tbody tr th {\n",
       "        vertical-align: top;\n",
       "    }\n",
       "\n",
       "    .dataframe thead th {\n",
       "        text-align: right;\n",
       "    }\n",
       "</style>\n",
       "<table border=\"1\" class=\"dataframe\">\n",
       "  <thead>\n",
       "    <tr style=\"text-align: right;\">\n",
       "      <th></th>\n",
       "      <th>y_test</th>\n",
       "      <th>y_pred</th>\n",
       "      <th>delta</th>\n",
       "    </tr>\n",
       "  </thead>\n",
       "  <tbody>\n",
       "    <tr>\n",
       "      <th>0</th>\n",
       "      <td>2000.000</td>\n",
       "      <td>314.857</td>\n",
       "      <td>1685.143</td>\n",
       "    </tr>\n",
       "    <tr>\n",
       "      <th>1</th>\n",
       "      <td>30000.000</td>\n",
       "      <td>3491.676</td>\n",
       "      <td>26508.324</td>\n",
       "    </tr>\n",
       "    <tr>\n",
       "      <th>2</th>\n",
       "      <td>200000.000</td>\n",
       "      <td>154694.062</td>\n",
       "      <td>45305.937</td>\n",
       "    </tr>\n",
       "    <tr>\n",
       "      <th>3</th>\n",
       "      <td>100.000</td>\n",
       "      <td>640.842</td>\n",
       "      <td>-540.842</td>\n",
       "    </tr>\n",
       "    <tr>\n",
       "      <th>4</th>\n",
       "      <td>500.000</td>\n",
       "      <td>3452.157</td>\n",
       "      <td>-2952.157</td>\n",
       "    </tr>\n",
       "  </tbody>\n",
       "</table>\n",
       "</div>"
      ],
      "text/plain": [
       "      y_test     y_pred     delta\n",
       "0   2000.000    314.857  1685.143\n",
       "1  30000.000   3491.676 26508.324\n",
       "2 200000.000 154694.062 45305.937\n",
       "3    100.000    640.842  -540.842\n",
       "4    500.000   3452.157 -2952.157"
      ]
     },
     "execution_count": 198,
     "metadata": {},
     "output_type": "execute_result"
    }
   ],
   "source": [
    "df_model = pd.DataFrame()\n",
    "df_model['y_test'] = np.expm1(y_test)\n",
    "df_model['y_pred'] = np.expm1(y_pred)\n",
    "df_model['delta'] = (df_model.y_test - df_model.y_pred)\n",
    "df_model.head()"
   ]
  },
  {
   "cell_type": "code",
   "execution_count": 199,
   "id": "9b628a2b",
   "metadata": {},
   "outputs": [
    {
     "data": {
      "text/html": [
       "<div>\n",
       "<style scoped>\n",
       "    .dataframe tbody tr th:only-of-type {\n",
       "        vertical-align: middle;\n",
       "    }\n",
       "\n",
       "    .dataframe tbody tr th {\n",
       "        vertical-align: top;\n",
       "    }\n",
       "\n",
       "    .dataframe thead th {\n",
       "        text-align: right;\n",
       "    }\n",
       "</style>\n",
       "<table border=\"1\" class=\"dataframe\">\n",
       "  <thead>\n",
       "    <tr style=\"text-align: right;\">\n",
       "      <th></th>\n",
       "      <th>y_test</th>\n",
       "      <th>y_pred</th>\n",
       "      <th>delta</th>\n",
       "    </tr>\n",
       "  </thead>\n",
       "  <tbody>\n",
       "    <tr>\n",
       "      <th>count</th>\n",
       "      <td>2238.000</td>\n",
       "      <td>2238.000</td>\n",
       "      <td>2238.000</td>\n",
       "    </tr>\n",
       "    <tr>\n",
       "      <th>mean</th>\n",
       "      <td>30262.680</td>\n",
       "      <td>16878.504</td>\n",
       "      <td>13384.175</td>\n",
       "    </tr>\n",
       "    <tr>\n",
       "      <th>std</th>\n",
       "      <td>97825.526</td>\n",
       "      <td>43619.770</td>\n",
       "      <td>78690.214</td>\n",
       "    </tr>\n",
       "    <tr>\n",
       "      <th>min</th>\n",
       "      <td>0.000</td>\n",
       "      <td>-0.435</td>\n",
       "      <td>-267118.469</td>\n",
       "    </tr>\n",
       "    <tr>\n",
       "      <th>25%</th>\n",
       "      <td>300.000</td>\n",
       "      <td>165.288</td>\n",
       "      <td>-316.329</td>\n",
       "    </tr>\n",
       "    <tr>\n",
       "      <th>50%</th>\n",
       "      <td>2500.000</td>\n",
       "      <td>1510.971</td>\n",
       "      <td>233.824</td>\n",
       "    </tr>\n",
       "    <tr>\n",
       "      <th>75%</th>\n",
       "      <td>20000.000</td>\n",
       "      <td>10512.011</td>\n",
       "      <td>4319.626</td>\n",
       "    </tr>\n",
       "    <tr>\n",
       "      <th>max</th>\n",
       "      <td>1500000.000</td>\n",
       "      <td>574472.625</td>\n",
       "      <td>1424383.984</td>\n",
       "    </tr>\n",
       "  </tbody>\n",
       "</table>\n",
       "</div>"
      ],
      "text/plain": [
       "           y_test     y_pred       delta\n",
       "count    2238.000   2238.000    2238.000\n",
       "mean    30262.680  16878.504   13384.175\n",
       "std     97825.526  43619.770   78690.214\n",
       "min         0.000     -0.435 -267118.469\n",
       "25%       300.000    165.288    -316.329\n",
       "50%      2500.000   1510.971     233.824\n",
       "75%     20000.000  10512.011    4319.626\n",
       "max   1500000.000 574472.625 1424383.984"
      ]
     },
     "execution_count": 199,
     "metadata": {},
     "output_type": "execute_result"
    }
   ],
   "source": [
    "df_model.describe()"
   ]
  },
  {
   "cell_type": "code",
   "execution_count": 200,
   "id": "1ae2dae1",
   "metadata": {},
   "outputs": [
    {
     "data": {
      "text/html": [
       "<div>\n",
       "<style scoped>\n",
       "    .dataframe tbody tr th:only-of-type {\n",
       "        vertical-align: middle;\n",
       "    }\n",
       "\n",
       "    .dataframe tbody tr th {\n",
       "        vertical-align: top;\n",
       "    }\n",
       "\n",
       "    .dataframe thead th {\n",
       "        text-align: right;\n",
       "    }\n",
       "</style>\n",
       "<table border=\"1\" class=\"dataframe\">\n",
       "  <thead>\n",
       "    <tr style=\"text-align: right;\">\n",
       "      <th></th>\n",
       "      <th>importance</th>\n",
       "    </tr>\n",
       "  </thead>\n",
       "  <tbody>\n",
       "    <tr>\n",
       "      <th>total_time</th>\n",
       "      <td>115050.266</td>\n",
       "    </tr>\n",
       "    <tr>\n",
       "      <th>estimated_number_of_persons_displaced</th>\n",
       "      <td>53612.926</td>\n",
       "    </tr>\n",
       "    <tr>\n",
       "      <th>area_of_origin=Trash, Rubbish Storage (inc garbage chute room, garbage/industri</th>\n",
       "      <td>30947.857</td>\n",
       "    </tr>\n",
       "    <tr>\n",
       "      <th>extent_of_fire=Confined to object of origin</th>\n",
       "      <td>30522.312</td>\n",
       "    </tr>\n",
       "    <tr>\n",
       "      <th>cleaning_time</th>\n",
       "      <td>28744.893</td>\n",
       "    </tr>\n",
       "    <tr>\n",
       "      <th>extent_of_fire=Confined to part of room/area of origin</th>\n",
       "      <td>16493.787</td>\n",
       "    </tr>\n",
       "    <tr>\n",
       "      <th>fire_time</th>\n",
       "      <td>13781.276</td>\n",
       "    </tr>\n",
       "    <tr>\n",
       "      <th>fire_control_time</th>\n",
       "      <td>12702.509</td>\n",
       "    </tr>\n",
       "    <tr>\n",
       "      <th>material_first_ignited=Rubbish, Trash, Waste</th>\n",
       "      <td>8340.399</td>\n",
       "    </tr>\n",
       "    <tr>\n",
       "      <th>business_impact=No business interruption</th>\n",
       "      <td>6532.806</td>\n",
       "    </tr>\n",
       "  </tbody>\n",
       "</table>\n",
       "</div>"
      ],
      "text/plain": [
       "                                                    importance\n",
       "total_time                                          115050.266\n",
       "estimated_number_of_persons_displaced                53612.926\n",
       "area_of_origin=Trash, Rubbish Storage (inc garb...   30947.857\n",
       "extent_of_fire=Confined to object of origin          30522.312\n",
       "cleaning_time                                        28744.893\n",
       "extent_of_fire=Confined to part of room/area of...   16493.787\n",
       "fire_time                                            13781.276\n",
       "fire_control_time                                    12702.509\n",
       "material_first_ignited=Rubbish, Trash, Waste          8340.399\n",
       "business_impact=No business interruption              6532.806"
      ]
     },
     "execution_count": 200,
     "metadata": {},
     "output_type": "execute_result"
    }
   ],
   "source": [
    "f_imp = model.get_score(importance_type='total_gain')\n",
    "df_imp = pd.DataFrame.from_dict(f_imp, orient='index', columns=['importance'])\n",
    "df_imp.sort_values(by='importance', ascending=False).head(10)"
   ]
  },
  {
   "cell_type": "code",
   "execution_count": null,
   "id": "26b48c3e",
   "metadata": {},
   "outputs": [],
   "source": []
  }
 ],
 "metadata": {
  "kernelspec": {
   "display_name": "Python 3",
   "language": "python",
   "name": "python3"
  },
  "language_info": {
   "codemirror_mode": {
    "name": "ipython",
    "version": 3
   },
   "file_extension": ".py",
   "mimetype": "text/x-python",
   "name": "python",
   "nbconvert_exporter": "python",
   "pygments_lexer": "ipython3",
   "version": "3.8.8"
  }
 },
 "nbformat": 4,
 "nbformat_minor": 5
}
