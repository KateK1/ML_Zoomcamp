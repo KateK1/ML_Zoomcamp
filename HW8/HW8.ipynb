{
 "cells": [
  {
   "cell_type": "code",
   "execution_count": 1,
   "id": "1b3d7023",
   "metadata": {},
   "outputs": [
    {
     "name": "stderr",
     "output_type": "stream",
     "text": [
      "2022-11-20 20:16:35.548517: I tensorflow/core/util/util.cc:169] oneDNN custom operations are on. You may see slightly different numerical results due to floating-point round-off errors from different computation orders. To turn them off, set the environment variable `TF_ENABLE_ONEDNN_OPTS=0`.\n"
     ]
    }
   ],
   "source": [
    "import tensorflow as tf\n",
    "from tensorflow import keras\n",
    "import numpy as np\n",
    "import matplotlib.pyplot as plt"
   ]
  },
  {
   "cell_type": "code",
   "execution_count": 2,
   "id": "581b9f6f",
   "metadata": {},
   "outputs": [],
   "source": [
    "from statistics import median, stdev, mean"
   ]
  },
  {
   "cell_type": "code",
   "execution_count": 3,
   "id": "c7286365",
   "metadata": {},
   "outputs": [],
   "source": [
    "from tensorflow.keras.preprocessing.image import load_img"
   ]
  },
  {
   "cell_type": "code",
   "execution_count": 4,
   "id": "b1bb87bc",
   "metadata": {},
   "outputs": [],
   "source": [
    "from tensorflow.keras import datasets, layers, models"
   ]
  },
  {
   "cell_type": "code",
   "execution_count": 5,
   "id": "81eba357",
   "metadata": {},
   "outputs": [],
   "source": [
    "from tensorflow.keras.preprocessing.image import ImageDataGenerator"
   ]
  },
  {
   "cell_type": "code",
   "execution_count": 6,
   "id": "d03790e0",
   "metadata": {},
   "outputs": [],
   "source": [
    "train_gen = ImageDataGenerator(rescale=1./255)"
   ]
  },
  {
   "cell_type": "code",
   "execution_count": 7,
   "id": "4bb00f7a",
   "metadata": {},
   "outputs": [
    {
     "name": "stdout",
     "output_type": "stream",
     "text": [
      "Found 1594 images belonging to 2 classes.\n"
     ]
    }
   ],
   "source": [
    "train_ds = train_gen.flow_from_directory(\n",
    "    './train',\n",
    "    target_size=(150,150),\n",
    "    batch_size=20,\n",
    "    shuffle=True,\n",
    "    class_mode='binary'\n",
    ")"
   ]
  },
  {
   "cell_type": "code",
   "execution_count": 8,
   "id": "54689a5a",
   "metadata": {},
   "outputs": [
    {
     "name": "stdout",
     "output_type": "stream",
     "text": [
      "Found 394 images belonging to 2 classes.\n"
     ]
    }
   ],
   "source": [
    "test_ds = train_gen.flow_from_directory(\n",
    "    './test',\n",
    "    target_size=(150,150),\n",
    "    batch_size=20,\n",
    "    shuffle=True,\n",
    "    class_mode='binary'\n",
    ")"
   ]
  },
  {
   "cell_type": "code",
   "execution_count": 9,
   "id": "531f2c59",
   "metadata": {},
   "outputs": [
    {
     "data": {
      "text/plain": [
       "{'dino': 0, 'dragon': 1}"
      ]
     },
     "execution_count": 9,
     "metadata": {},
     "output_type": "execute_result"
    }
   ],
   "source": [
    "train_ds.class_indices"
   ]
  },
  {
   "cell_type": "code",
   "execution_count": 12,
   "id": "d51eb9e3",
   "metadata": {},
   "outputs": [],
   "source": [
    "chechpoint = keras.callbacks.ModelCheckpoint(\n",
    "    'model_v1_{epoch:02d}_{val_accuracy:.3f}.h5',\n",
    "    save_best_only=True,\n",
    "    monitor='val_accuracy',\n",
    "    mode='max'\n",
    ")"
   ]
  },
  {
   "cell_type": "code",
   "execution_count": 11,
   "id": "cde5ac4c",
   "metadata": {},
   "outputs": [
    {
     "name": "stderr",
     "output_type": "stream",
     "text": [
      "2022-11-20 20:19:52.892226: I tensorflow/stream_executor/cuda/cuda_gpu_executor.cc:975] successful NUMA node read from SysFS had negative value (-1), but there must be at least one NUMA node, so returning NUMA node zero\n",
      "2022-11-20 20:19:52.898533: I tensorflow/stream_executor/cuda/cuda_gpu_executor.cc:975] successful NUMA node read from SysFS had negative value (-1), but there must be at least one NUMA node, so returning NUMA node zero\n",
      "2022-11-20 20:19:52.899145: I tensorflow/stream_executor/cuda/cuda_gpu_executor.cc:975] successful NUMA node read from SysFS had negative value (-1), but there must be at least one NUMA node, so returning NUMA node zero\n",
      "2022-11-20 20:19:52.900161: I tensorflow/core/platform/cpu_feature_guard.cc:193] This TensorFlow binary is optimized with oneAPI Deep Neural Network Library (oneDNN) to use the following CPU instructions in performance-critical operations:  AVX2 AVX512F AVX512_VNNI FMA\n",
      "To enable them in other operations, rebuild TensorFlow with the appropriate compiler flags.\n",
      "2022-11-20 20:19:52.900472: I tensorflow/stream_executor/cuda/cuda_gpu_executor.cc:975] successful NUMA node read from SysFS had negative value (-1), but there must be at least one NUMA node, so returning NUMA node zero\n",
      "2022-11-20 20:19:52.901092: I tensorflow/stream_executor/cuda/cuda_gpu_executor.cc:975] successful NUMA node read from SysFS had negative value (-1), but there must be at least one NUMA node, so returning NUMA node zero\n",
      "2022-11-20 20:19:52.901653: I tensorflow/stream_executor/cuda/cuda_gpu_executor.cc:975] successful NUMA node read from SysFS had negative value (-1), but there must be at least one NUMA node, so returning NUMA node zero\n",
      "2022-11-20 20:19:53.554608: I tensorflow/stream_executor/cuda/cuda_gpu_executor.cc:975] successful NUMA node read from SysFS had negative value (-1), but there must be at least one NUMA node, so returning NUMA node zero\n",
      "2022-11-20 20:19:53.555270: I tensorflow/stream_executor/cuda/cuda_gpu_executor.cc:975] successful NUMA node read from SysFS had negative value (-1), but there must be at least one NUMA node, so returning NUMA node zero\n",
      "2022-11-20 20:19:53.555852: I tensorflow/stream_executor/cuda/cuda_gpu_executor.cc:975] successful NUMA node read from SysFS had negative value (-1), but there must be at least one NUMA node, so returning NUMA node zero\n",
      "2022-11-20 20:19:53.556384: I tensorflow/core/common_runtime/gpu/gpu_device.cc:1532] Created device /job:localhost/replica:0/task:0/device:GPU:0 with 13795 MB memory:  -> device: 0, name: Tesla T4, pci bus id: 0000:00:1e.0, compute capability: 7.5\n",
      "/opt/saturncloud/envs/saturn/lib/python3.9/site-packages/keras/optimizers/optimizer_v2/gradient_descent.py:108: UserWarning: The `lr` argument is deprecated, use `learning_rate` instead.\n",
      "  super(SGD, self).__init__(name, **kwargs)\n"
     ]
    }
   ],
   "source": [
    "model = models.Sequential()\n",
    "\n",
    "model.add(layers.Conv2D(32, (3, 3),\n",
    "                        activation='relu',\n",
    "                        input_shape=(150, 150, 3)))\n",
    "model.add(layers.MaxPooling2D((2, 2)))\n",
    "model.add(layers.Flatten())\n",
    "model.add(layers.Dense(64, activation='relu'))\n",
    "model.add(layers.Dense(1, activation='sigmoid'))\n",
    "\n",
    "opt = keras.optimizers.SGD(lr=0.002, momentum=0.8)\n",
    "\n",
    "model.compile(\n",
    "    loss='binary_crossentropy',\n",
    "    optimizer=opt,\n",
    "    metrics=['accuracy'])"
   ]
  },
  {
   "cell_type": "code",
   "execution_count": 13,
   "id": "66ae1eb0",
   "metadata": {},
   "outputs": [
    {
     "data": {
      "text/plain": [
       "(None, 1)"
      ]
     },
     "execution_count": 13,
     "metadata": {},
     "output_type": "execute_result"
    }
   ],
   "source": [
    "model.output_shape"
   ]
  },
  {
   "cell_type": "markdown",
   "id": "75609d41",
   "metadata": {},
   "source": [
    "### Q1 Since we have a binary classification problem, what is the best loss function for us?\n",
    "A: binary crossentropy"
   ]
  },
  {
   "cell_type": "markdown",
   "id": "19a9ffc2",
   "metadata": {},
   "source": [
    "### Q2 What's the total number of parameters of the model? "
   ]
  },
  {
   "cell_type": "code",
   "execution_count": 14,
   "id": "7f0621b3",
   "metadata": {},
   "outputs": [
    {
     "name": "stdout",
     "output_type": "stream",
     "text": [
      "Model: \"sequential\"\n",
      "_________________________________________________________________\n",
      " Layer (type)                Output Shape              Param #   \n",
      "=================================================================\n",
      " conv2d (Conv2D)             (None, 148, 148, 32)      896       \n",
      "                                                                 \n",
      " max_pooling2d (MaxPooling2D  (None, 74, 74, 32)       0         \n",
      " )                                                               \n",
      "                                                                 \n",
      " flatten (Flatten)           (None, 175232)            0         \n",
      "                                                                 \n",
      " dense (Dense)               (None, 64)                11214912  \n",
      "                                                                 \n",
      " dense_1 (Dense)             (None, 1)                 65        \n",
      "                                                                 \n",
      "=================================================================\n",
      "Total params: 11,215,873\n",
      "Trainable params: 11,215,873\n",
      "Non-trainable params: 0\n",
      "_________________________________________________________________\n"
     ]
    }
   ],
   "source": [
    "model.summary()"
   ]
  },
  {
   "cell_type": "code",
   "execution_count": 16,
   "id": "4f04d626",
   "metadata": {},
   "outputs": [
    {
     "name": "stdout",
     "output_type": "stream",
     "text": [
      "Epoch 1/10\n",
      "80/80 [==============================] - 10s 127ms/step - loss: 0.6021 - accuracy: 0.6662 - val_loss: 0.4771 - val_accuracy: 0.8426\n",
      "Epoch 2/10\n",
      "80/80 [==============================] - 8s 105ms/step - loss: 0.4317 - accuracy: 0.8225 - val_loss: 0.3749 - val_accuracy: 0.8401\n",
      "Epoch 3/10\n",
      "80/80 [==============================] - 9s 108ms/step - loss: 0.3558 - accuracy: 0.8657 - val_loss: 0.3711 - val_accuracy: 0.8553\n",
      "Epoch 4/10\n",
      "80/80 [==============================] - 8s 105ms/step - loss: 0.3096 - accuracy: 0.8802 - val_loss: 0.3501 - val_accuracy: 0.8325\n",
      "Epoch 5/10\n",
      "80/80 [==============================] - 8s 105ms/step - loss: 0.2679 - accuracy: 0.8915 - val_loss: 0.3090 - val_accuracy: 0.8553\n",
      "Epoch 6/10\n",
      "80/80 [==============================] - 9s 107ms/step - loss: 0.2247 - accuracy: 0.9260 - val_loss: 0.2836 - val_accuracy: 0.8909\n",
      "Epoch 7/10\n",
      "80/80 [==============================] - 8s 104ms/step - loss: 0.2017 - accuracy: 0.9316 - val_loss: 0.2872 - val_accuracy: 0.8807\n",
      "Epoch 8/10\n",
      "80/80 [==============================] - 8s 105ms/step - loss: 0.1914 - accuracy: 0.9341 - val_loss: 0.2708 - val_accuracy: 0.8832\n",
      "Epoch 9/10\n",
      "80/80 [==============================] - 8s 104ms/step - loss: 0.1503 - accuracy: 0.9548 - val_loss: 0.3237 - val_accuracy: 0.8629\n",
      "Epoch 10/10\n",
      "80/80 [==============================] - 9s 107ms/step - loss: 0.1536 - accuracy: 0.9536 - val_loss: 0.2780 - val_accuracy: 0.9010\n"
     ]
    }
   ],
   "source": [
    "history = model.fit(train_ds,\n",
    "                    epochs=10,\n",
    "                    validation_data=test_ds,\n",
    "                    callbacks=[chechpoint])"
   ]
  },
  {
   "cell_type": "code",
   "execution_count": 17,
   "id": "98c0b95d",
   "metadata": {},
   "outputs": [
    {
     "data": {
      "text/plain": [
       "<matplotlib.legend.Legend at 0x7fec460dbbb0>"
      ]
     },
     "execution_count": 17,
     "metadata": {},
     "output_type": "execute_result"
    },
    {
     "data": {
      "image/png": "[encoded data removed]",
      "text/plain": [
       "<Figure size 640x480 with 1 Axes>"
      ]
     },
     "metadata": {},
     "output_type": "display_data"
    }
   ],
   "source": [
    "plt.plot(history.history['accuracy'],label='train')\n",
    "plt.plot(history.history['val_accuracy'], label='val')\n",
    "plt.xticks(np.arange(10))\n",
    "plt.legend()"
   ]
  },
  {
   "cell_type": "markdown",
   "id": "2260128c",
   "metadata": {},
   "source": [
    "### Q3 What is the median of training accuracy for all the epochs for this model?"
   ]
  },
  {
   "cell_type": "code",
   "execution_count": 18,
   "id": "27325cc9",
   "metadata": {},
   "outputs": [
    {
     "data": {
      "text/plain": [
       "0.91"
      ]
     },
     "execution_count": 18,
     "metadata": {},
     "output_type": "execute_result"
    }
   ],
   "source": [
    "median_train = median(history.history['accuracy'])\n",
    "round(median_train, 2)"
   ]
  },
  {
   "cell_type": "markdown",
   "id": "9d84c9e7",
   "metadata": {},
   "source": [
    "### Q4 What is the standard deviation of training loss for all the epochs for this model?"
   ]
  },
  {
   "cell_type": "code",
   "execution_count": 19,
   "id": "aa4b158e",
   "metadata": {},
   "outputs": [
    {
     "data": {
      "text/plain": [
       "0.14"
      ]
     },
     "execution_count": 19,
     "metadata": {},
     "output_type": "execute_result"
    }
   ],
   "source": [
    "std_train = stdev(history.history['loss'])\n",
    "round(std_train, 2)"
   ]
  },
  {
   "cell_type": "markdown",
   "id": "96d75c97",
   "metadata": {},
   "source": [
    "### Data augmentation"
   ]
  },
  {
   "cell_type": "code",
   "execution_count": 20,
   "id": "3a7ccead",
   "metadata": {},
   "outputs": [],
   "source": [
    "train_gen = ImageDataGenerator(rescale=1./255,\n",
    "                               rotation_range=40,\n",
    "                               width_shift_range=0.2,\n",
    "                               height_shift_range=0.2,\n",
    "                               shear_range=0.2,\n",
    "                               zoom_range=0.2,\n",
    "                               horizontal_flip=True,\n",
    "                               fill_mode='nearest'\n",
    "                              )"
   ]
  },
  {
   "cell_type": "code",
   "execution_count": 21,
   "id": "fb05d3d5",
   "metadata": {},
   "outputs": [],
   "source": [
    "val_gen = ImageDataGenerator(rescale=1./255)"
   ]
  },
  {
   "cell_type": "code",
   "execution_count": 22,
   "id": "ec675e3d",
   "metadata": {},
   "outputs": [
    {
     "name": "stdout",
     "output_type": "stream",
     "text": [
      "Found 1594 images belonging to 2 classes.\n"
     ]
    }
   ],
   "source": [
    "train_ds = train_gen.flow_from_directory(\n",
    "    './train',\n",
    "    target_size=(150,150),\n",
    "    batch_size=20,\n",
    "    shuffle=True,\n",
    "    class_mode='binary'\n",
    ")"
   ]
  },
  {
   "cell_type": "code",
   "execution_count": 23,
   "id": "bd0b0feb",
   "metadata": {},
   "outputs": [
    {
     "name": "stdout",
     "output_type": "stream",
     "text": [
      "Found 394 images belonging to 2 classes.\n"
     ]
    }
   ],
   "source": [
    "test_ds = val_gen.flow_from_directory(\n",
    "    './test',\n",
    "    target_size=(150,150),\n",
    "    batch_size=20,\n",
    "    shuffle=True,\n",
    "    class_mode='binary'\n",
    ")"
   ]
  },
  {
   "cell_type": "code",
   "execution_count": 24,
   "id": "679f40c8",
   "metadata": {},
   "outputs": [],
   "source": [
    "model = keras.models.load_model('model_v1_10_0.901.h5')"
   ]
  },
  {
   "cell_type": "code",
   "execution_count": 25,
   "id": "c8d227a4",
   "metadata": {},
   "outputs": [
    {
     "name": "stdout",
     "output_type": "stream",
     "text": [
      "Epoch 1/10\n",
      "80/80 [==============================] - 15s 189ms/step - loss: 0.4364 - accuracy: 0.8068 - val_loss: 0.2657 - val_accuracy: 0.8883\n",
      "Epoch 2/10\n",
      "80/80 [==============================] - 15s 189ms/step - loss: 0.4109 - accuracy: 0.8112 - val_loss: 0.4103 - val_accuracy: 0.7970\n",
      "Epoch 3/10\n",
      "80/80 [==============================] - 15s 190ms/step - loss: 0.3796 - accuracy: 0.8425 - val_loss: 0.6004 - val_accuracy: 0.7310\n",
      "Epoch 4/10\n",
      "80/80 [==============================] - 15s 187ms/step - loss: 0.3787 - accuracy: 0.8331 - val_loss: 0.2669 - val_accuracy: 0.8959\n",
      "Epoch 5/10\n",
      "80/80 [==============================] - 15s 187ms/step - loss: 0.3677 - accuracy: 0.8363 - val_loss: 0.3496 - val_accuracy: 0.8376\n",
      "Epoch 6/10\n",
      "80/80 [==============================] - 15s 186ms/step - loss: 0.3528 - accuracy: 0.8513 - val_loss: 0.4376 - val_accuracy: 0.8071\n",
      "Epoch 7/10\n",
      "80/80 [==============================] - 15s 187ms/step - loss: 0.3744 - accuracy: 0.8281 - val_loss: 0.2942 - val_accuracy: 0.8909\n",
      "Epoch 8/10\n",
      "80/80 [==============================] - 15s 186ms/step - loss: 0.3462 - accuracy: 0.8570 - val_loss: 0.4946 - val_accuracy: 0.7868\n",
      "Epoch 9/10\n",
      "80/80 [==============================] - 15s 187ms/step - loss: 0.3519 - accuracy: 0.8519 - val_loss: 0.7048 - val_accuracy: 0.7310\n",
      "Epoch 10/10\n",
      "80/80 [==============================] - 15s 187ms/step - loss: 0.3208 - accuracy: 0.8670 - val_loss: 0.4120 - val_accuracy: 0.8147\n"
     ]
    }
   ],
   "source": [
    "history = model.fit(train_ds,\n",
    "                    epochs=10,\n",
    "                    validation_data=test_ds)"
   ]
  },
  {
   "cell_type": "code",
   "execution_count": 26,
   "id": "b1a4d9e0",
   "metadata": {},
   "outputs": [
    {
     "data": {
      "text/plain": [
       "<matplotlib.legend.Legend at 0x7fec4548be50>"
      ]
     },
     "execution_count": 26,
     "metadata": {},
     "output_type": "execute_result"
    },
    {
     "data": {
      "image/png": "[encoded data removed]",
      "text/plain": [
       "<Figure size 640x480 with 1 Axes>"
      ]
     },
     "metadata": {},
     "output_type": "display_data"
    }
   ],
   "source": [
    "plt.plot(history.history['accuracy'],label='train')\n",
    "plt.plot(history.history['val_accuracy'], label='val')\n",
    "plt.xticks(np.arange(10))\n",
    "plt.legend()"
   ]
  },
  {
   "cell_type": "markdown",
   "id": "35254636",
   "metadata": {},
   "source": [
    "### Q5 What is the mean of test loss for all the epochs for the model trained with augmentations"
   ]
  },
  {
   "cell_type": "code",
   "execution_count": 27,
   "id": "53e18352",
   "metadata": {},
   "outputs": [
    {
     "data": {
      "text/plain": [
       "0.42"
      ]
     },
     "execution_count": 27,
     "metadata": {},
     "output_type": "execute_result"
    }
   ],
   "source": [
    "median_train = mean(history.history['val_loss'])\n",
    "round(median_train, 2)"
   ]
  },
  {
   "cell_type": "markdown",
   "id": "04faa07b",
   "metadata": {},
   "source": [
    "### Q6 What's the average of test accuracy for the last 5 epochs (from 6 to 10) for the model trained with augmentations?"
   ]
  },
  {
   "cell_type": "code",
   "execution_count": 28,
   "id": "3df3bc01",
   "metadata": {},
   "outputs": [
    {
     "data": {
      "text/plain": [
       "0.81"
      ]
     },
     "execution_count": 28,
     "metadata": {},
     "output_type": "execute_result"
    }
   ],
   "source": [
    "median_train = mean(history.history['val_accuracy'][5:10])\n",
    "round(median_train, 2)"
   ]
  }
 ],
 "metadata": {
  "kernelspec": {
   "display_name": "saturn (Python 3)",
   "language": "python",
   "name": "python3"
  },
  "language_info": {
   "codemirror_mode": {
    "name": "ipython",
    "version": 3
   },
   "file_extension": ".py",
   "mimetype": "text/x-python",
   "name": "python",
   "nbconvert_exporter": "python",
   "pygments_lexer": "ipython3",
   "version": "3.9.13"
  }
 },
 "nbformat": 4,
 "nbformat_minor": 5
}
