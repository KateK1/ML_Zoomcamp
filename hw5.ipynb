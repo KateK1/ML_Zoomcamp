{
 "cells": [
  {
   "cell_type": "markdown",
   "id": "351494b0",
   "metadata": {},
   "source": [
    "#### Q1 What's the version of pipenv installed?\n",
    "% pipenv --version  \n",
    "pipenv, version 2022.10.9"
   ]
  },
  {
   "cell_type": "markdown",
   "id": "6e841d52",
   "metadata": {},
   "source": [
    "#### Q2 What's the first hash for scikit-learn 1.0.2 in Pipfile.lock?\n",
    "\"sha256:08ef968f6b72033c16c479c966bf37ccd49b06ea91b765e1cc27afefe723920b\""
   ]
  },
  {
   "cell_type": "code",
   "execution_count": null,
   "id": "1dc57194",
   "metadata": {},
   "outputs": [],
   "source": []
  }
 ],
 "metadata": {
  "kernelspec": {
   "display_name": "Python 3",
   "language": "python",
   "name": "python3"
  },
  "language_info": {
   "codemirror_mode": {
    "name": "ipython",
    "version": 3
   },
   "file_extension": ".py",
   "mimetype": "text/x-python",
   "name": "python",
   "nbconvert_exporter": "python",
   "pygments_lexer": "ipython3",
   "version": "3.8.8"
  }
 },
 "nbformat": 4,
 "nbformat_minor": 5
}
