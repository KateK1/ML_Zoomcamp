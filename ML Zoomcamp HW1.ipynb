{
 "cells": [
  {
   "cell_type": "code",
   "execution_count": 1,
   "id": "8e4dd070",
   "metadata": {},
   "outputs": [],
   "source": [
    "import pandas as pd, numpy as np"
   ]
  },
  {
   "cell_type": "code",
   "execution_count": 2,
   "id": "5f087f30",
   "metadata": {},
   "outputs": [],
   "source": [
    "import csv"
   ]
  },
  {
   "cell_type": "code",
   "execution_count": 33,
   "id": "b0af7e97",
   "metadata": {},
   "outputs": [],
   "source": [
    "ds = pd.read_csv('HW1_cars.csv', delimiter=',')"
   ]
  },
  {
   "cell_type": "markdown",
   "id": "298cda91",
   "metadata": {},
   "source": [
    "#### Q1 What's the version of NumPy installed"
   ]
  },
  {
   "cell_type": "code",
   "execution_count": 15,
   "id": "acea9d82",
   "metadata": {},
   "outputs": [
    {
     "data": {
      "text/plain": [
       "'1.21.5'"
      ]
     },
     "execution_count": 15,
     "metadata": {},
     "output_type": "execute_result"
    }
   ],
   "source": [
    "np.__version__"
   ]
  },
  {
   "cell_type": "markdown",
   "id": "3f5ad7d1",
   "metadata": {},
   "source": [
    "#### Q2 How many records are in the dataset"
   ]
  },
  {
   "cell_type": "code",
   "execution_count": 35,
   "id": "da65f456",
   "metadata": {},
   "outputs": [
    {
     "data": {
      "text/plain": [
       "11914"
      ]
     },
     "execution_count": 35,
     "metadata": {},
     "output_type": "execute_result"
    }
   ],
   "source": [
    "ds.count().max()"
   ]
  },
  {
   "cell_type": "markdown",
   "id": "fcc8e06c",
   "metadata": {},
   "source": [
    "#### Q3 Who are the most frequent car manufacturers (top-3)?"
   ]
  },
  {
   "cell_type": "code",
   "execution_count": 16,
   "id": "a2c6f951",
   "metadata": {},
   "outputs": [
    {
     "data": {
      "text/plain": [
       "Chevrolet     1123\n",
       "Ford           881\n",
       "Volkswagen     809\n",
       "Name: Make, dtype: int64"
      ]
     },
     "execution_count": 16,
     "metadata": {},
     "output_type": "execute_result"
    }
   ],
   "source": [
    "ds.Make.mode()\n",
    "frequencies = ds.Make.value_counts().head(3)\n",
    "frequencies"
   ]
  },
  {
   "cell_type": "markdown",
   "id": "7df8d0c4",
   "metadata": {},
   "source": [
    "#### Q4 What's the number of unique Audi car models in the dataset?"
   ]
  },
  {
   "cell_type": "code",
   "execution_count": 21,
   "id": "3fd66f95",
   "metadata": {},
   "outputs": [
    {
     "data": {
      "text/plain": [
       "0    34\n",
       "dtype: int64"
      ]
     },
     "execution_count": 21,
     "metadata": {},
     "output_type": "execute_result"
    }
   ],
   "source": [
    "Audi_models = pd.DataFrame(ds[\n",
    "    (ds['Make']=='Audi')\n",
    "].Model.unique())\n",
    "Audi_models.count()"
   ]
  },
  {
   "cell_type": "markdown",
   "id": "310a865e",
   "metadata": {},
   "source": [
    "#### Q5 How many columns in the dataset have missing values?"
   ]
  },
  {
   "cell_type": "code",
   "execution_count": 22,
   "id": "2b53f7b0",
   "metadata": {},
   "outputs": [
    {
     "data": {
      "text/plain": [
       "Make                    0\n",
       "Model                   0\n",
       "Year                    0\n",
       "Engine Fuel Type        3\n",
       "Engine HP              69\n",
       "Engine Cylinders       30\n",
       "Transmission Type       0\n",
       "Driven_Wheels           0\n",
       "Number of Doors         6\n",
       "Market Category      3742\n",
       "Vehicle Size            0\n",
       "Vehicle Style           0\n",
       "highway MPG             0\n",
       "city mpg                0\n",
       "Popularity              0\n",
       "MSRP                    0\n",
       "dtype: int64"
      ]
     },
     "execution_count": 22,
     "metadata": {},
     "output_type": "execute_result"
    }
   ],
   "source": [
    "ds.isnull().sum()"
   ]
  },
  {
   "cell_type": "markdown",
   "id": "7bf171c8",
   "metadata": {},
   "source": [
    "#### Q6"
   ]
  },
  {
   "cell_type": "code",
   "execution_count": 23,
   "id": "79c5a282",
   "metadata": {},
   "outputs": [
    {
     "data": {
      "text/plain": [
       "6.0"
      ]
     },
     "execution_count": 23,
     "metadata": {},
     "output_type": "execute_result"
    }
   ],
   "source": [
    "# Find the median value of \"Engine Cylinders\" column in the dataset.\n",
    "ds['Engine Cylinders'].median()"
   ]
  },
  {
   "cell_type": "code",
   "execution_count": 24,
   "id": "79927720",
   "metadata": {},
   "outputs": [
    {
     "data": {
      "text/plain": [
       "0    4.0\n",
       "Name: Engine Cylinders, dtype: float64"
      ]
     },
     "execution_count": 24,
     "metadata": {},
     "output_type": "execute_result"
    }
   ],
   "source": [
    "# calculate the most frequent value of the same \"Engine Cylinders\".\n",
    "ds['Engine Cylinders'].mode()"
   ]
  },
  {
   "cell_type": "code",
   "execution_count": 25,
   "id": "eaf1e2f4",
   "metadata": {},
   "outputs": [
    {
     "data": {
      "text/plain": [
       "6.0"
      ]
     },
     "execution_count": 25,
     "metadata": {},
     "output_type": "execute_result"
    }
   ],
   "source": [
    "# median not change\n",
    "fil_ds = ds\n",
    "fil_ds['Engine Cylinders'] = ds['Engine Cylinders'].fillna(4.0)\n",
    "fil_ds['Engine Cylinders'].median()"
   ]
  },
  {
   "cell_type": "markdown",
   "id": "0ed537c5",
   "metadata": {},
   "source": [
    "#### Q7"
   ]
  },
  {
   "cell_type": "code",
   "execution_count": 28,
   "id": "43392df0",
   "metadata": {},
   "outputs": [],
   "source": [
    "# Select all the \"Lotus\" cars from the dataset\n",
    "# Select only columns \"Engine HP\", \"Engine Cylinders\".\n",
    "# Drop all duplicated rows\n",
    "f = ds[\n",
    "\n",
    "    (ds['Make']=='Lotus')\n",
    "][['Engine HP','Engine Cylinders']].drop_duplicates()"
   ]
  },
  {
   "cell_type": "code",
   "execution_count": 29,
   "id": "4e0b45a4",
   "metadata": {},
   "outputs": [],
   "source": [
    "X = f.values\n",
    "XT = np.transpose(X)\n",
    "XTX = XT.dot(X)\n",
    "InvXTX = np.linalg.inv(XTX)"
   ]
  },
  {
   "cell_type": "code",
   "execution_count": 30,
   "id": "cc6afe44",
   "metadata": {},
   "outputs": [],
   "source": [
    "y = np.array([1100, 800, 750, 850, 1300, 1000, 1000, 1300, 800])"
   ]
  },
  {
   "cell_type": "code",
   "execution_count": 32,
   "id": "05c6a28b",
   "metadata": {},
   "outputs": [
    {
     "data": {
      "text/plain": [
       "4.5949448101"
      ]
     },
     "execution_count": 32,
     "metadata": {},
     "output_type": "execute_result"
    }
   ],
   "source": [
    "# What's the value of the first element of w\n",
    "r = InvXTX.dot(XT)\n",
    "w = r.dot(y).round(10)\n",
    "w[0]"
   ]
  }
 ],
 "metadata": {
  "kernelspec": {
   "display_name": "Python 3 (ipykernel)",
   "language": "python",
   "name": "python3"
  },
  "language_info": {
   "codemirror_mode": {
    "name": "ipython",
    "version": 3
   },
   "file_extension": ".py",
   "mimetype": "text/x-python",
   "name": "python",
   "nbconvert_exporter": "python",
   "pygments_lexer": "ipython3",
   "version": "3.10.4"
  }
 },
 "nbformat": 4,
 "nbformat_minor": 5
}
