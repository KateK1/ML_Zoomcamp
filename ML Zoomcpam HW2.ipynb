{
 "cells": [
  {
   "cell_type": "code",
   "execution_count": 1,
   "id": "9e786847",
   "metadata": {},
   "outputs": [],
   "source": [
    "import numpy as np\n",
    "import pandas as pd"
   ]
  },
  {
   "cell_type": "code",
   "execution_count": 2,
   "id": "de333fbc",
   "metadata": {},
   "outputs": [],
   "source": [
    "import csv"
   ]
  },
  {
   "cell_type": "code",
   "execution_count": 3,
   "id": "a3af45c6",
   "metadata": {},
   "outputs": [
    {
     "data": {
      "text/html": [
       "<div>\n",
       "<style scoped>\n",
       "    .dataframe tbody tr th:only-of-type {\n",
       "        vertical-align: middle;\n",
       "    }\n",
       "\n",
       "    .dataframe tbody tr th {\n",
       "        vertical-align: top;\n",
       "    }\n",
       "\n",
       "    .dataframe thead th {\n",
       "        text-align: right;\n",
       "    }\n",
       "</style>\n",
       "<table border=\"1\" class=\"dataframe\">\n",
       "  <thead>\n",
       "    <tr style=\"text-align: right;\">\n",
       "      <th></th>\n",
       "      <th>longitude</th>\n",
       "      <th>latitude</th>\n",
       "      <th>housing_median_age</th>\n",
       "      <th>total_rooms</th>\n",
       "      <th>total_bedrooms</th>\n",
       "      <th>population</th>\n",
       "      <th>households</th>\n",
       "      <th>median_income</th>\n",
       "      <th>median_house_value</th>\n",
       "      <th>ocean_proximity</th>\n",
       "    </tr>\n",
       "  </thead>\n",
       "  <tbody>\n",
       "    <tr>\n",
       "      <th>0</th>\n",
       "      <td>-122.23</td>\n",
       "      <td>37.88</td>\n",
       "      <td>41.0</td>\n",
       "      <td>880.0</td>\n",
       "      <td>129.0</td>\n",
       "      <td>322.0</td>\n",
       "      <td>126.0</td>\n",
       "      <td>8.3252</td>\n",
       "      <td>452600.0</td>\n",
       "      <td>NEAR BAY</td>\n",
       "    </tr>\n",
       "    <tr>\n",
       "      <th>1</th>\n",
       "      <td>-122.22</td>\n",
       "      <td>37.86</td>\n",
       "      <td>21.0</td>\n",
       "      <td>7099.0</td>\n",
       "      <td>1106.0</td>\n",
       "      <td>2401.0</td>\n",
       "      <td>1138.0</td>\n",
       "      <td>8.3014</td>\n",
       "      <td>358500.0</td>\n",
       "      <td>NEAR BAY</td>\n",
       "    </tr>\n",
       "    <tr>\n",
       "      <th>2</th>\n",
       "      <td>-122.24</td>\n",
       "      <td>37.85</td>\n",
       "      <td>52.0</td>\n",
       "      <td>1467.0</td>\n",
       "      <td>190.0</td>\n",
       "      <td>496.0</td>\n",
       "      <td>177.0</td>\n",
       "      <td>7.2574</td>\n",
       "      <td>352100.0</td>\n",
       "      <td>NEAR BAY</td>\n",
       "    </tr>\n",
       "    <tr>\n",
       "      <th>3</th>\n",
       "      <td>-122.25</td>\n",
       "      <td>37.85</td>\n",
       "      <td>52.0</td>\n",
       "      <td>1274.0</td>\n",
       "      <td>235.0</td>\n",
       "      <td>558.0</td>\n",
       "      <td>219.0</td>\n",
       "      <td>5.6431</td>\n",
       "      <td>341300.0</td>\n",
       "      <td>NEAR BAY</td>\n",
       "    </tr>\n",
       "    <tr>\n",
       "      <th>4</th>\n",
       "      <td>-122.25</td>\n",
       "      <td>37.85</td>\n",
       "      <td>52.0</td>\n",
       "      <td>1627.0</td>\n",
       "      <td>280.0</td>\n",
       "      <td>565.0</td>\n",
       "      <td>259.0</td>\n",
       "      <td>3.8462</td>\n",
       "      <td>342200.0</td>\n",
       "      <td>NEAR BAY</td>\n",
       "    </tr>\n",
       "    <tr>\n",
       "      <th>...</th>\n",
       "      <td>...</td>\n",
       "      <td>...</td>\n",
       "      <td>...</td>\n",
       "      <td>...</td>\n",
       "      <td>...</td>\n",
       "      <td>...</td>\n",
       "      <td>...</td>\n",
       "      <td>...</td>\n",
       "      <td>...</td>\n",
       "      <td>...</td>\n",
       "    </tr>\n",
       "    <tr>\n",
       "      <th>20635</th>\n",
       "      <td>-121.09</td>\n",
       "      <td>39.48</td>\n",
       "      <td>25.0</td>\n",
       "      <td>1665.0</td>\n",
       "      <td>374.0</td>\n",
       "      <td>845.0</td>\n",
       "      <td>330.0</td>\n",
       "      <td>1.5603</td>\n",
       "      <td>78100.0</td>\n",
       "      <td>INLAND</td>\n",
       "    </tr>\n",
       "    <tr>\n",
       "      <th>20636</th>\n",
       "      <td>-121.21</td>\n",
       "      <td>39.49</td>\n",
       "      <td>18.0</td>\n",
       "      <td>697.0</td>\n",
       "      <td>150.0</td>\n",
       "      <td>356.0</td>\n",
       "      <td>114.0</td>\n",
       "      <td>2.5568</td>\n",
       "      <td>77100.0</td>\n",
       "      <td>INLAND</td>\n",
       "    </tr>\n",
       "    <tr>\n",
       "      <th>20637</th>\n",
       "      <td>-121.22</td>\n",
       "      <td>39.43</td>\n",
       "      <td>17.0</td>\n",
       "      <td>2254.0</td>\n",
       "      <td>485.0</td>\n",
       "      <td>1007.0</td>\n",
       "      <td>433.0</td>\n",
       "      <td>1.7000</td>\n",
       "      <td>92300.0</td>\n",
       "      <td>INLAND</td>\n",
       "    </tr>\n",
       "    <tr>\n",
       "      <th>20638</th>\n",
       "      <td>-121.32</td>\n",
       "      <td>39.43</td>\n",
       "      <td>18.0</td>\n",
       "      <td>1860.0</td>\n",
       "      <td>409.0</td>\n",
       "      <td>741.0</td>\n",
       "      <td>349.0</td>\n",
       "      <td>1.8672</td>\n",
       "      <td>84700.0</td>\n",
       "      <td>INLAND</td>\n",
       "    </tr>\n",
       "    <tr>\n",
       "      <th>20639</th>\n",
       "      <td>-121.24</td>\n",
       "      <td>39.37</td>\n",
       "      <td>16.0</td>\n",
       "      <td>2785.0</td>\n",
       "      <td>616.0</td>\n",
       "      <td>1387.0</td>\n",
       "      <td>530.0</td>\n",
       "      <td>2.3886</td>\n",
       "      <td>89400.0</td>\n",
       "      <td>INLAND</td>\n",
       "    </tr>\n",
       "  </tbody>\n",
       "</table>\n",
       "<p>20640 rows × 10 columns</p>\n",
       "</div>"
      ],
      "text/plain": [
       "       longitude  latitude  housing_median_age  total_rooms  total_bedrooms  \\\n",
       "0        -122.23     37.88                41.0        880.0           129.0   \n",
       "1        -122.22     37.86                21.0       7099.0          1106.0   \n",
       "2        -122.24     37.85                52.0       1467.0           190.0   \n",
       "3        -122.25     37.85                52.0       1274.0           235.0   \n",
       "4        -122.25     37.85                52.0       1627.0           280.0   \n",
       "...          ...       ...                 ...          ...             ...   \n",
       "20635    -121.09     39.48                25.0       1665.0           374.0   \n",
       "20636    -121.21     39.49                18.0        697.0           150.0   \n",
       "20637    -121.22     39.43                17.0       2254.0           485.0   \n",
       "20638    -121.32     39.43                18.0       1860.0           409.0   \n",
       "20639    -121.24     39.37                16.0       2785.0           616.0   \n",
       "\n",
       "       population  households  median_income  median_house_value  \\\n",
       "0           322.0       126.0         8.3252            452600.0   \n",
       "1          2401.0      1138.0         8.3014            358500.0   \n",
       "2           496.0       177.0         7.2574            352100.0   \n",
       "3           558.0       219.0         5.6431            341300.0   \n",
       "4           565.0       259.0         3.8462            342200.0   \n",
       "...           ...         ...            ...                 ...   \n",
       "20635       845.0       330.0         1.5603             78100.0   \n",
       "20636       356.0       114.0         2.5568             77100.0   \n",
       "20637      1007.0       433.0         1.7000             92300.0   \n",
       "20638       741.0       349.0         1.8672             84700.0   \n",
       "20639      1387.0       530.0         2.3886             89400.0   \n",
       "\n",
       "      ocean_proximity  \n",
       "0            NEAR BAY  \n",
       "1            NEAR BAY  \n",
       "2            NEAR BAY  \n",
       "3            NEAR BAY  \n",
       "4            NEAR BAY  \n",
       "...               ...  \n",
       "20635          INLAND  \n",
       "20636          INLAND  \n",
       "20637          INLAND  \n",
       "20638          INLAND  \n",
       "20639          INLAND  \n",
       "\n",
       "[20640 rows x 10 columns]"
      ]
     },
     "execution_count": 3,
     "metadata": {},
     "output_type": "execute_result"
    }
   ],
   "source": [
    "df = pd.read_csv('HW2housing.csv', delimiter=',')\n",
    "df"
   ]
  },
  {
   "cell_type": "code",
   "execution_count": 4,
   "id": "7b35b59e",
   "metadata": {},
   "outputs": [],
   "source": [
    "# Drop ocean_proximity column\n",
    "df_work = df.drop(df.columns[[-1]], axis = 1)"
   ]
  },
  {
   "cell_type": "code",
   "execution_count": 5,
   "id": "c95cc3fc",
   "metadata": {},
   "outputs": [],
   "source": [
    "import matplotlib.pyplot as plt\n",
    "import seaborn as sns\n",
    "%matplotlib inline"
   ]
  },
  {
   "cell_type": "code",
   "execution_count": 6,
   "id": "40e8cf1b",
   "metadata": {},
   "outputs": [
    {
     "name": "stdout",
     "output_type": "stream",
     "text": [
      "Data has a long tail\n"
     ]
    },
    {
     "data": {
      "image/png": "[encoded data removed]",
      "text/plain": [
       "<Figure size 640x480 with 1 Axes>"
      ]
     },
     "metadata": {},
     "output_type": "display_data"
    }
   ],
   "source": [
    "sns.histplot(df.median_house_value, bins = 50, alpha = 0.5, color = 'red')\n",
    "print('Data has a long tail')"
   ]
  },
  {
   "cell_type": "markdown",
   "id": "1dfae9e4",
   "metadata": {},
   "source": [
    "#### Q1 Find a feature with missing values. How many missing values does it have?"
   ]
  },
  {
   "cell_type": "code",
   "execution_count": 7,
   "id": "c906d53a",
   "metadata": {},
   "outputs": [
    {
     "data": {
      "text/plain": [
       "207"
      ]
     },
     "execution_count": 7,
     "metadata": {},
     "output_type": "execute_result"
    }
   ],
   "source": [
    "df_work.isnull().sum().max()"
   ]
  },
  {
   "cell_type": "markdown",
   "id": "89e05ae4",
   "metadata": {},
   "source": [
    "#### Q2 What's the median (50% percentile) for the variable 'population'?"
   ]
  },
  {
   "cell_type": "code",
   "execution_count": 8,
   "id": "54cd8441",
   "metadata": {},
   "outputs": [
    {
     "data": {
      "text/plain": [
       "1166.0"
      ]
     },
     "execution_count": 8,
     "metadata": {},
     "output_type": "execute_result"
    }
   ],
   "source": [
    "df_work.population.median()"
   ]
  },
  {
   "cell_type": "markdown",
   "id": "8596e9e8",
   "metadata": {},
   "source": [
    "#### Data spliting"
   ]
  },
  {
   "cell_type": "code",
   "execution_count": 9,
   "id": "4f3c7ad2",
   "metadata": {},
   "outputs": [
    {
     "data": {
      "text/plain": [
       "(12384, 4128, 4128, True)"
      ]
     },
     "execution_count": 9,
     "metadata": {},
     "output_type": "execute_result"
    }
   ],
   "source": [
    "n = len(df_work)\n",
    "n_train = int(n*0.6)\n",
    "n_val = int(n*0.2)\n",
    "n_test = n - n_train - n_val\n",
    "n_train, n_val, n_test, n == n_train + n_val + n_test"
   ]
  },
  {
   "cell_type": "code",
   "execution_count": 10,
   "id": "1bc34285",
   "metadata": {},
   "outputs": [
    {
     "data": {
      "text/plain": [
       "array([20046,  3024, 15663, ...,  5390,   860, 15795])"
      ]
     },
     "execution_count": 10,
     "metadata": {},
     "output_type": "execute_result"
    }
   ],
   "source": [
    "np.random.seed(42)\n",
    "index = np.arange(n)\n",
    "np.random.shuffle(index)\n",
    "index"
   ]
  },
  {
   "cell_type": "code",
   "execution_count": 11,
   "id": "23325344",
   "metadata": {},
   "outputs": [],
   "source": [
    "df_train = df_work.iloc[index[:n_train]]\n",
    "df_val = df_work.iloc[index[n_train:n_train + n_val]]\n",
    "df_test = df_work.iloc[index[n_train+ n_val:]]"
   ]
  },
  {
   "cell_type": "code",
   "execution_count": 12,
   "id": "d6393f2b",
   "metadata": {},
   "outputs": [],
   "source": [
    "df_train = df_train.reset_index(drop=True)\n",
    "df_val = df_val.reset_index(drop=True)\n",
    "df_test = df_test.reset_index(drop=True)"
   ]
  },
  {
   "cell_type": "code",
   "execution_count": 13,
   "id": "c0375855",
   "metadata": {},
   "outputs": [],
   "source": [
    "y_train = np.log1p(df_train.median_house_value.values)\n",
    "y_val = np.log1p(df_val.median_house_value.values)\n",
    "y_test = np.log1p(df_test.median_house_value.values)"
   ]
  },
  {
   "cell_type": "code",
   "execution_count": 14,
   "id": "98b0da4a",
   "metadata": {
    "scrolled": true
   },
   "outputs": [],
   "source": [
    "df_train = df_train.drop(df_train.columns[[-1]], axis = 1)\n",
    "df_val = df_val.drop(df_val.columns[[-1]], axis = 1)\n",
    "df_test = df_test.drop(df_test.columns[[-1]], axis = 1)"
   ]
  },
  {
   "cell_type": "code",
   "execution_count": 15,
   "id": "49787cb2",
   "metadata": {},
   "outputs": [
    {
     "data": {
      "text/plain": [
       "((12384, 8), (4128, 8), (4128, 8))"
      ]
     },
     "execution_count": 15,
     "metadata": {},
     "output_type": "execute_result"
    }
   ],
   "source": [
    "df_train.shape, df_val.shape, df_test.shape"
   ]
  },
  {
   "cell_type": "markdown",
   "id": "1e4698cf",
   "metadata": {},
   "source": [
    "#### Q3  Dealing with missing values"
   ]
  },
  {
   "cell_type": "code",
   "execution_count": 16,
   "id": "7e8ca7ba",
   "metadata": {},
   "outputs": [],
   "source": [
    "def train_linear_regression(X,y):\n",
    "    ones = np.ones(X.shape[0])\n",
    "    X = (np.column_stack([ones,X]))\n",
    "    \n",
    "    XTX = np.transpose(X).dot(X)\n",
    "    XTX_inv = np.linalg.inv(XTX)\n",
    "    \n",
    "    w_full = XTX_inv.dot(X.T).dot(y)\n",
    "    w0 = w_full[0]\n",
    "    w = w_full[1:]\n",
    "    \n",
    "    return w0, w"
   ]
  },
  {
   "cell_type": "code",
   "execution_count": 17,
   "id": "6285ce9e",
   "metadata": {},
   "outputs": [],
   "source": [
    "def rmse(y,y_pred):\n",
    "    error = y - y_pred\n",
    "    se = error ** 2\n",
    "    mse = se.mean()\n",
    "    return np.sqrt(mse)"
   ]
  },
  {
   "cell_type": "code",
   "execution_count": 18,
   "id": "df85840d",
   "metadata": {},
   "outputs": [],
   "source": [
    "# 1 - filling NANs with 0\n",
    "X_train_0 = df_train.fillna(0).values\n",
    "X_val_0 = df_val.fillna(0).values"
   ]
  },
  {
   "cell_type": "code",
   "execution_count": 32,
   "id": "458cf6c5",
   "metadata": {},
   "outputs": [
    {
     "data": {
      "text/plain": [
       "0.33"
      ]
     },
     "execution_count": 32,
     "metadata": {},
     "output_type": "execute_result"
    }
   ],
   "source": [
    "w0_0, w_0 = train_linear_regression(X_train_0, y_train)\n",
    "y_pred_0 = w0_0 + X_val_0.dot(w_0)\n",
    "round(rmse(y_val, y_pred_0), 2)"
   ]
  },
  {
   "cell_type": "code",
   "execution_count": 33,
   "id": "a30d5477",
   "metadata": {},
   "outputs": [
    {
     "data": {
      "text/plain": [
       "0.33"
      ]
     },
     "execution_count": 33,
     "metadata": {},
     "output_type": "execute_result"
    }
   ],
   "source": [
    "round(rmse(y_val, y_pred_0), 2)"
   ]
  },
  {
   "cell_type": "code",
   "execution_count": 34,
   "id": "f1e84271",
   "metadata": {},
   "outputs": [],
   "source": [
    "# 2 - filling NANs with mean\n",
    "mean_X_train = df_train.total_bedrooms.mean()\n",
    "X_train_mean = df_train.fillna(mean_X_train).values\n",
    "X_val_mean = df_val.fillna(mean_X_train).values"
   ]
  },
  {
   "cell_type": "code",
   "execution_count": 35,
   "id": "df9c2bd6",
   "metadata": {},
   "outputs": [
    {
     "data": {
      "text/plain": [
       "0.33"
      ]
     },
     "execution_count": 35,
     "metadata": {},
     "output_type": "execute_result"
    }
   ],
   "source": [
    "w0_mean, w_mean = train_linear_regression(X_train_mean, y_train)\n",
    "y_pred_mean = w0_mean + X_val_mean.dot(w_mean)\n",
    "round(rmse(y_val, y_pred_mean), 2)"
   ]
  },
  {
   "cell_type": "markdown",
   "id": "407a68ac",
   "metadata": {},
   "source": [
    "#### Q4 regularized linear regression"
   ]
  },
  {
   "cell_type": "code",
   "execution_count": 36,
   "id": "db22f2bc",
   "metadata": {},
   "outputs": [],
   "source": [
    "def train_linear_regression_reg(X,y,r):\n",
    "    ones = np.ones(X.shape[0])\n",
    "    X = (np.column_stack([ones,X]))\n",
    "    \n",
    "    XTX = np.transpose(X).dot(X)\n",
    "    XTX = XTX + r*np.eye(XTX.shape[0])\n",
    "    XTX_inv = np.linalg.inv(XTX)\n",
    "    \n",
    "    w_full = XTX_inv.dot(X.T).dot(y)\n",
    "    w0 = w_full[0]\n",
    "    w = w_full[1:]\n",
    "    \n",
    "    return w0, w"
   ]
  },
  {
   "cell_type": "code",
   "execution_count": 37,
   "id": "04faf485",
   "metadata": {},
   "outputs": [],
   "source": [
    "r = [0, 0.000001, 0.0001, 0.001, 0.01, 0.1, 1, 5, 10]"
   ]
  },
  {
   "cell_type": "code",
   "execution_count": 38,
   "id": "37b6b804",
   "metadata": {},
   "outputs": [
    {
     "data": {
      "text/plain": [
       "(4128, 8)"
      ]
     },
     "execution_count": 38,
     "metadata": {},
     "output_type": "execute_result"
    }
   ],
   "source": [
    "df_val.shape"
   ]
  },
  {
   "cell_type": "code",
   "execution_count": 41,
   "id": "c0719c6f",
   "metadata": {},
   "outputs": [
    {
     "data": {
      "text/plain": [
       "{0: 0.33,\n",
       " 1e-06: 0.33,\n",
       " 0.0001: 0.33,\n",
       " 0.001: 0.33,\n",
       " 0.01: 0.33,\n",
       " 0.1: 0.33,\n",
       " 1: 0.33,\n",
       " 5: 0.34,\n",
       " 10: 0.34}"
      ]
     },
     "execution_count": 41,
     "metadata": {},
     "output_type": "execute_result"
    }
   ],
   "source": [
    "reg_result = {}\n",
    "for i in r:\n",
    "    X_val_0 = df_val.fillna(0).values\n",
    "    \n",
    "    w0, w = train_linear_regression_reg(X_train_0, y_train,i)\n",
    "    y_pred_val = w0 + X_val_0.dot(w)\n",
    "    \n",
    "    error = y_val - y_pred_val\n",
    "    se = error ** 2\n",
    "    mse = se.mean()\n",
    "    reg_result[i] = round(np.sqrt(mse),2)\n",
    "reg_result"
   ]
  },
  {
   "cell_type": "markdown",
   "id": "5910c2af",
   "metadata": {},
   "source": [
    "Q4 answer: RMSE is equel for r = [0, 0.000001, 0.0001, 0.001, 0.01, 0.1] Wich means the answer is smallest r,  \n",
    "r = 0"
   ]
  },
  {
   "cell_type": "markdown",
   "id": "784b8bb3",
   "metadata": {},
   "source": [
    "#### Q5 Using different seeds"
   ]
  },
  {
   "cell_type": "code",
   "execution_count": 60,
   "id": "b78a0a89",
   "metadata": {},
   "outputs": [],
   "source": [
    "def split(seed, df):\n",
    "    n, n_train, n_val, n_test = [20640, 12384, 4128, 4128]\n",
    "    np.random.seed(seed)\n",
    "    index = np.arange(n)\n",
    "    np.random.shuffle(index)\n",
    "\n",
    "    df_train = df_work.iloc[index[:n_train]]\n",
    "    df_val = df_work.iloc[index[n_train:n_train + n_val]]\n",
    "    df_test = df_work.iloc[index[n_train+ n_val:]]\n",
    "\n",
    "    df_train = df_train.reset_index(drop=True)\n",
    "    df_val = df_val.reset_index(drop=True)\n",
    "    df_test = df_test.reset_index(drop=True)\n",
    "\n",
    "    y_train = np.log1p(df_train.median_house_value.values)\n",
    "    y_val = np.log1p(df_val.median_house_value.values)\n",
    "    y_test = np.log1p(df_test.median_house_value.values)\n",
    "\n",
    "    df_train = df_train.drop(df_train.columns[[-1]], axis = 1)\n",
    "    df_val = df_val.drop(df_val.columns[[-1]], axis = 1)\n",
    "    df_test = df_test.drop(df_test.columns[[-1]], axis = 1)\n",
    "    \n",
    "    answer = [df_train, df_val, df_test, y_train, y_val, y_test]\n",
    "    return answer"
   ]
  },
  {
   "cell_type": "code",
   "execution_count": 61,
   "id": "c4459987",
   "metadata": {},
   "outputs": [],
   "source": [
    "list_res = []\n",
    "seed = [0, 1, 2, 3, 4, 5, 6, 7, 8, 9]\n",
    "for i in seed:\n",
    "    df_train_s = split(i,df_work)[0]\n",
    "    df_val_s = split(i,df_work)[1]\n",
    "    y_train_s = split(i,df_work)[3]\n",
    "    y_val_s = split(i,df_work)[4]\n",
    "    \n",
    "    X_train_s = df_train_s.fillna(0).values\n",
    "    w0_s, w_s = train_linear_regression(X_train_s, y_train_s)\n",
    "    \n",
    "    X_val_s = df_val_s.fillna(0).values\n",
    "    y_pred_val = w0_s + X_val_s.dot(w_s)\n",
    "    rmse_val = rmse(y_val_s, y_pred_val)\n",
    "    \n",
    "    list_res.append(rmse_val)\n",
    "\n",
    "    list_res"
   ]
  },
  {
   "cell_type": "code",
   "execution_count": 62,
   "id": "9d9c7eba",
   "metadata": {},
   "outputs": [
    {
     "data": {
      "text/plain": [
       "'Q5 answer - standard deviation of all the RMSE scores = 0.004'"
      ]
     },
     "execution_count": 62,
     "metadata": {},
     "output_type": "execute_result"
    }
   ],
   "source": [
    "round(np.std(np.array(list_res)), 3)\n",
    "f\"Q5 answer - standard deviation of all the RMSE scores = {round(np.std(np.array(list_res)), 3)}\""
   ]
  },
  {
   "cell_type": "markdown",
   "id": "fa654156",
   "metadata": {},
   "source": [
    "#### Q6 Full training"
   ]
  },
  {
   "cell_type": "code",
   "execution_count": 63,
   "id": "f3e0b57f",
   "metadata": {},
   "outputs": [],
   "source": [
    "df_train_s9 = split(9,df_work)[0]\n",
    "df_val_s9 = split(9,df_work)[1]\n",
    "df_test_s9 = split(9,df_work)[2]\n",
    "y_train_s9 = split(9,df_work)[3]\n",
    "y_val_s9 = split(9,df_work)[4]\n",
    "y_test_s9 = split(9,df_work)[5]"
   ]
  },
  {
   "cell_type": "code",
   "execution_count": 64,
   "id": "bdc86395",
   "metadata": {},
   "outputs": [],
   "source": [
    "y_full_train_s9 = np.concatenate([y_train_s9, y_val_s9])"
   ]
  },
  {
   "cell_type": "code",
   "execution_count": 65,
   "id": "e16b8f41",
   "metadata": {},
   "outputs": [],
   "source": [
    "X_full_train_s9 = pd.concat([df_train_s9, df_val_s9])\n",
    "X_full_train_s9 = X_full_train_s9.fillna(0).values"
   ]
  },
  {
   "cell_type": "code",
   "execution_count": 66,
   "id": "874b09b1",
   "metadata": {},
   "outputs": [],
   "source": [
    "w0_full_s9, w_full_s9 = train_linear_regression_reg(X_full_train_s9, y_full_train_s9, 0.001)\n",
    "y_pred_full9 = w0_full_s9 + X_full_train_s9.dot( w_full_s9)"
   ]
  },
  {
   "cell_type": "code",
   "execution_count": 67,
   "id": "8d0b2809",
   "metadata": {},
   "outputs": [
    {
     "data": {
      "text/plain": [
       "((4128, 8), (4128,))"
      ]
     },
     "execution_count": 67,
     "metadata": {},
     "output_type": "execute_result"
    }
   ],
   "source": [
    "X_test_s9 = df_test_s9.fillna(0).values\n",
    "X_test_s9.shape, y_test_s9.shape"
   ]
  },
  {
   "cell_type": "code",
   "execution_count": 68,
   "id": "cf4756d4",
   "metadata": {},
   "outputs": [],
   "source": [
    "y_pred_test9 = w0_full_s9 + X_test_s9.dot(w_full_s9)"
   ]
  },
  {
   "cell_type": "code",
   "execution_count": 70,
   "id": "ac6a2059",
   "metadata": {},
   "outputs": [
    {
     "data": {
      "text/plain": [
       "'Q6 answer - RMSE = 0.35'"
      ]
     },
     "execution_count": 70,
     "metadata": {},
     "output_type": "execute_result"
    }
   ],
   "source": [
    "rmse9 = rmse(y_test_s9, y_pred_test9)\n",
    "f\"Q6 answer - RMSE = {round(rmse9,2)}\""
   ]
  },
  {
   "cell_type": "code",
   "execution_count": 73,
   "id": "a261f30b",
   "metadata": {},
   "outputs": [
    {
     "data": {
      "text/plain": [
       "<matplotlib.legend.Legend at 0x7f8ec00867a0>"
      ]
     },
     "execution_count": 73,
     "metadata": {},
     "output_type": "execute_result"
    },
    {
     "data": {
      "image/png": "[encoded data removed]",
      "text/plain": [
       "<Figure size 640x480 with 1 Axes>"
      ]
     },
     "metadata": {},
     "output_type": "display_data"
    }
   ],
   "source": [
    "sns.histplot(y_test_s9, label='target', color='red', alpha=0.5, bins=50)\n",
    "sns.histplot(y_pred_test9, label='prediction', color='blue',  alpha=0.5, bins=50)\n",
    "plt.legend()"
   ]
  },
  {
   "cell_type": "code",
   "execution_count": null,
   "id": "3cc47f33",
   "metadata": {},
   "outputs": [],
   "source": []
  }
 ],
 "metadata": {
  "kernelspec": {
   "display_name": "Python 3 (ipykernel)",
   "language": "python",
   "name": "python3"
  },
  "language_info": {
   "codemirror_mode": {
    "name": "ipython",
    "version": 3
   },
   "file_extension": ".py",
   "mimetype": "text/x-python",
   "name": "python",
   "nbconvert_exporter": "python",
   "pygments_lexer": "ipython3",
   "version": "3.10.4"
  }
 },
 "nbformat": 4,
 "nbformat_minor": 5
}
